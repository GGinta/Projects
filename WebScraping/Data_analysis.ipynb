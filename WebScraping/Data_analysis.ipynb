{
 "cells": [
  {
   "cell_type": "markdown",
   "id": "00c32d58",
   "metadata": {},
   "source": [
    "***\n",
    "<div  align='center'><img src='https://cdn-res.keymedia.com/cms/images/ca/155/0348_637304012816162034.jpg' width='25%'></div >\n",
    "<h1><center> WebScraping project: Ottawa Housing Market </center></h1>\n",
    "<h2><center>Created by: Ginta Grinfelde</center></h2> \n",
    "\n",
    "***"
   ]
  },
  {
   "cell_type": "markdown",
   "id": "52d11e59",
   "metadata": {},
   "source": [
    "# Data Analysis"
   ]
  },
  {
   "cell_type": "code",
   "execution_count": 28,
   "id": "aec40fb8",
   "metadata": {},
   "outputs": [
    {
     "name": "stdout",
     "output_type": "stream",
     "text": [
      "Requirement already satisfied: pypostalcode in /opt/anaconda3/lib/python3.9/site-packages (0.4.1)\r\n"
     ]
    },
    {
     "data": {
      "text/html": [
       "        <script type=\"text/javascript\">\n",
       "        window.PlotlyConfig = {MathJaxConfig: 'local'};\n",
       "        if (window.MathJax) {MathJax.Hub.Config({SVG: {font: \"STIX-Web\"}});}\n",
       "        if (typeof require !== 'undefined') {\n",
       "        require.undef(\"plotly\");\n",
       "        requirejs.config({\n",
       "            paths: {\n",
       "                'plotly': ['https://cdn.plot.ly/plotly-2.9.0.min']\n",
       "            }\n",
       "        });\n",
       "        require(['plotly'], function(Plotly) {\n",
       "            window._Plotly = Plotly;\n",
       "        });\n",
       "        }\n",
       "        </script>\n",
       "        "
      ]
     },
     "metadata": {},
     "output_type": "display_data"
    }
   ],
   "source": [
    "#Importing libraries\n",
    "import numpy as np\n",
    "import plotly.offline as py\n",
    "import plotly.graph_objs as go \n",
    "import plotly.express as px\n",
    "import pandas as pd\n",
    "import plotly.express as px\n",
    "\n",
    "#Library for postal codes.\n",
    "!pip install pypostalcode\n",
    "from pypostalcode import PostalCodeDatabase\n",
    "\n",
    "py.init_notebook_mode(connected=True)"
   ]
  },
  {
   "cell_type": "markdown",
   "id": "4d8155f9",
   "metadata": {},
   "source": [
    "Creating a new DataFrame 'properties' from a list of lists"
   ]
  },
  {
   "cell_type": "code",
   "execution_count": 10,
   "id": "d34d145e",
   "metadata": {},
   "outputs": [
    {
     "data": {
      "text/html": [
       "<div>\n",
       "<style scoped>\n",
       "    .dataframe tbody tr th:only-of-type {\n",
       "        vertical-align: middle;\n",
       "    }\n",
       "\n",
       "    .dataframe tbody tr th {\n",
       "        vertical-align: top;\n",
       "    }\n",
       "\n",
       "    .dataframe thead th {\n",
       "        text-align: right;\n",
       "    }\n",
       "</style>\n",
       "<table border=\"1\" class=\"dataframe\">\n",
       "  <thead>\n",
       "    <tr style=\"text-align: right;\">\n",
       "      <th></th>\n",
       "      <th>prop_address</th>\n",
       "      <th>price</th>\n",
       "      <th>num_beds</th>\n",
       "      <th>num_baths</th>\n",
       "      <th>prop_type</th>\n",
       "      <th>prop_style</th>\n",
       "      <th>year_built</th>\n",
       "      <th>parking</th>\n",
       "      <th>basement</th>\n",
       "      <th>prop_taxes</th>\n",
       "      <th>neighborhood</th>\n",
       "      <th>postal_code</th>\n",
       "      <th>lot_info</th>\n",
       "      <th>assoc_fee</th>\n",
       "      <th>walk_score</th>\n",
       "      <th>transit_score</th>\n",
       "      <th>bike_score</th>\n",
       "      <th>latitude</th>\n",
       "      <th>longitude</th>\n",
       "    </tr>\n",
       "  </thead>\n",
       "  <tbody>\n",
       "    <tr>\n",
       "      <th>0</th>\n",
       "      <td>6705 CEDAR ACRES DR, Ottawa, Ontario, K4P1G4</td>\n",
       "      <td>$725,000 CAD</td>\n",
       "      <td>3</td>\n",
       "      <td>2</td>\n",
       "      <td>Single Family</td>\n",
       "      <td>Bungalow</td>\n",
       "      <td>Missing info</td>\n",
       "      <td>Missing info</td>\n",
       "      <td>N/A (Finished)</td>\n",
       "      <td>Missing info</td>\n",
       "      <td>Greely</td>\n",
       "      <td>K4P1G4</td>\n",
       "      <td>Missing info</td>\n",
       "      <td>Missing info</td>\n",
       "      <td>2</td>\n",
       "      <td>5</td>\n",
       "      <td>38</td>\n",
       "      <td>45.2508202</td>\n",
       "      <td>-75.582962</td>\n",
       "    </tr>\n",
       "    <tr>\n",
       "      <th>1</th>\n",
       "      <td>31 PALOMINO DRIVE N, Ottawa, Ontario, K2M1M2</td>\n",
       "      <td>$699,950 CAD</td>\n",
       "      <td>4</td>\n",
       "      <td>2</td>\n",
       "      <td>Single Family</td>\n",
       "      <td>Missing info</td>\n",
       "      <td>1985</td>\n",
       "      <td>Garage</td>\n",
       "      <td>Full (Finished)</td>\n",
       "      <td>Missing info</td>\n",
       "      <td>Bridlewood - Emerald Meadows</td>\n",
       "      <td>K2M1M2</td>\n",
       "      <td>34.42ft x 104.92ft</td>\n",
       "      <td>Missing info</td>\n",
       "      <td>51</td>\n",
       "      <td>43</td>\n",
       "      <td>75</td>\n",
       "      <td>45.2946701</td>\n",
       "      <td>-75.8690872</td>\n",
       "    </tr>\n",
       "    <tr>\n",
       "      <th>2</th>\n",
       "      <td>144 ANTHRACITE PRIVATE, Ottawa, Ontario, K2J7C8</td>\n",
       "      <td>$579,900 CAD</td>\n",
       "      <td>2</td>\n",
       "      <td>2</td>\n",
       "      <td>Single Family</td>\n",
       "      <td>Missing info</td>\n",
       "      <td>2022</td>\n",
       "      <td>Garage</td>\n",
       "      <td>None (Not Applicable)</td>\n",
       "      <td>Missing info</td>\n",
       "      <td>Barrhaven</td>\n",
       "      <td>K2J7C8</td>\n",
       "      <td>21.00ft x 44.00ft</td>\n",
       "      <td>$120 CAD</td>\n",
       "      <td>16</td>\n",
       "      <td>Missing info</td>\n",
       "      <td>Missing info</td>\n",
       "      <td>45.2622337</td>\n",
       "      <td>-75.7473602</td>\n",
       "    </tr>\n",
       "    <tr>\n",
       "      <th>3</th>\n",
       "      <td>497 MCLEOD Street, Ottawa, Ontario, K1R 5P9</td>\n",
       "      <td>$999,999 CAD</td>\n",
       "      <td>3</td>\n",
       "      <td>2</td>\n",
       "      <td>Residential</td>\n",
       "      <td>Detached</td>\n",
       "      <td>1930</td>\n",
       "      <td>Missing info</td>\n",
       "      <td>Missing info</td>\n",
       "      <td>Missing info</td>\n",
       "      <td>Centretown</td>\n",
       "      <td>K1R 5P9</td>\n",
       "      <td>Missing info</td>\n",
       "      <td>Missing info</td>\n",
       "      <td>92</td>\n",
       "      <td>71</td>\n",
       "      <td>93</td>\n",
       "      <td>45.409122</td>\n",
       "      <td>-75.699116</td>\n",
       "    </tr>\n",
       "    <tr>\n",
       "      <th>4</th>\n",
       "      <td>468-470 BESSERER STREET, Ottawa, Ontario, K1N6C3</td>\n",
       "      <td>$3,325,000 CAD</td>\n",
       "      <td>2</td>\n",
       "      <td>Missing info</td>\n",
       "      <td>Multi-family</td>\n",
       "      <td>Missing info</td>\n",
       "      <td>1905</td>\n",
       "      <td>Missing info</td>\n",
       "      <td>Full (Partially Finished)</td>\n",
       "      <td>Missing info</td>\n",
       "      <td>Sandy Hill</td>\n",
       "      <td>K1N6C3</td>\n",
       "      <td>Missing info</td>\n",
       "      <td>Missing info</td>\n",
       "      <td>93</td>\n",
       "      <td>85</td>\n",
       "      <td>99</td>\n",
       "      <td>45.4295616</td>\n",
       "      <td>-75.6811447</td>\n",
       "    </tr>\n",
       "  </tbody>\n",
       "</table>\n",
       "</div>"
      ],
      "text/plain": [
       "                                       prop_address           price num_beds  \\\n",
       "0      6705 CEDAR ACRES DR, Ottawa, Ontario, K4P1G4    $725,000 CAD        3   \n",
       "1      31 PALOMINO DRIVE N, Ottawa, Ontario, K2M1M2    $699,950 CAD        4   \n",
       "2   144 ANTHRACITE PRIVATE, Ottawa, Ontario, K2J7C8    $579,900 CAD        2   \n",
       "3       497 MCLEOD Street, Ottawa, Ontario, K1R 5P9    $999,999 CAD        3   \n",
       "4  468-470 BESSERER STREET, Ottawa, Ontario, K1N6C3  $3,325,000 CAD        2   \n",
       "\n",
       "      num_baths      prop_type    prop_style    year_built       parking  \\\n",
       "0             2  Single Family      Bungalow  Missing info  Missing info   \n",
       "1             2  Single Family  Missing info          1985        Garage   \n",
       "2             2  Single Family  Missing info          2022        Garage   \n",
       "3             2    Residential      Detached          1930  Missing info   \n",
       "4  Missing info   Multi-family  Missing info          1905  Missing info   \n",
       "\n",
       "                    basement    prop_taxes                  neighborhood  \\\n",
       "0             N/A (Finished)  Missing info                        Greely   \n",
       "1            Full (Finished)  Missing info  Bridlewood - Emerald Meadows   \n",
       "2      None (Not Applicable)  Missing info                     Barrhaven   \n",
       "3               Missing info  Missing info                    Centretown   \n",
       "4  Full (Partially Finished)  Missing info                    Sandy Hill   \n",
       "\n",
       "  postal_code            lot_info     assoc_fee walk_score transit_score  \\\n",
       "0      K4P1G4        Missing info  Missing info          2             5   \n",
       "1      K2M1M2  34.42ft x 104.92ft  Missing info         51            43   \n",
       "2      K2J7C8   21.00ft x 44.00ft      $120 CAD         16  Missing info   \n",
       "3     K1R 5P9        Missing info  Missing info         92            71   \n",
       "4      K1N6C3        Missing info  Missing info         93            85   \n",
       "\n",
       "     bike_score    latitude    longitude  \n",
       "0            38  45.2508202   -75.582962  \n",
       "1            75  45.2946701  -75.8690872  \n",
       "2  Missing info  45.2622337  -75.7473602  \n",
       "3            93   45.409122   -75.699116  \n",
       "4            99  45.4295616  -75.6811447  "
      ]
     },
     "execution_count": 10,
     "metadata": {},
     "output_type": "execute_result"
    }
   ],
   "source": [
    "#Importing the csv file\n",
    "\n",
    "properties = pd.read_csv('point2homes.csv')\n",
    "properties.head(5)"
   ]
  },
  {
   "cell_type": "code",
   "execution_count": null,
   "id": "5cbb0e2e",
   "metadata": {},
   "outputs": [],
   "source": [
    "properties."
   ]
  },
  {
   "cell_type": "markdown",
   "id": "bdc10925",
   "metadata": {},
   "source": [
    "## Data Cleaning"
   ]
  },
  {
   "cell_type": "markdown",
   "id": "6d19409e",
   "metadata": {},
   "source": [
    "Replacing the 'Missing info' values with NaN."
   ]
  },
  {
   "cell_type": "code",
   "execution_count": 11,
   "id": "2034d10f",
   "metadata": {},
   "outputs": [],
   "source": [
    "properties = properties.replace(\"Missing info\", np.nan)"
   ]
  },
  {
   "cell_type": "markdown",
   "id": "64721fd0",
   "metadata": {},
   "source": [
    "Transforming 'price' to an integer to be able to use in calculations"
   ]
  },
  {
   "cell_type": "code",
   "execution_count": 12,
   "id": "4dc2ba0c",
   "metadata": {},
   "outputs": [],
   "source": [
    "properties['price'] = properties['price'].str.replace('$', '', regex = True).str.replace('CAD','', regex = True)\\\n",
    ".str.replace('K','', regex = True)\\\n",
    ".str.replace(' ','', regex = True)\\\n",
    ".str.replace(',','', regex = True)\\\n",
    ".replace('14/SF/YR', np.nan)\\\n",
    ".astype('Int64')"
   ]
  },
  {
   "cell_type": "markdown",
   "id": "162a7213",
   "metadata": {},
   "source": [
    "Transforming 'num_of_bedrooms' and 'num_bathrooms' to integers"
   ]
  },
  {
   "cell_type": "code",
   "execution_count": 13,
   "id": "5675255f",
   "metadata": {},
   "outputs": [],
   "source": [
    "properties['num_beds'] = properties['num_beds'].astype('Int64')\n",
    "properties['num_baths'] = properties['num_baths'].astype('Int64')"
   ]
  },
  {
   "cell_type": "markdown",
   "id": "9f1b5080",
   "metadata": {},
   "source": [
    "Transforming neighborhood scores to integers"
   ]
  },
  {
   "cell_type": "code",
   "execution_count": 14,
   "id": "518cc99e",
   "metadata": {},
   "outputs": [],
   "source": [
    "properties['walk_score'] = properties['walk_score'].astype('Int64')\n",
    "properties['transit_score'] = properties['transit_score'].astype('Int64')\n",
    "properties['bike_score'] = properties['bike_score'].astype('Int64')"
   ]
  },
  {
   "cell_type": "markdown",
   "id": "80a27b72",
   "metadata": {},
   "source": [
    "Fixing property type column to the same format to have correct groups"
   ]
  },
  {
   "cell_type": "code",
   "execution_count": 15,
   "id": "9154765d",
   "metadata": {},
   "outputs": [],
   "source": [
    "properties['prop_type'] = properties['prop_type'].str.replace('MultiFamily', 'Multi-Family', regex = True)\\\n",
    ".str.replace('Multi-family', 'Multi-Family', regex = True)\\\n",
    ".str.replace('single family', 'Single Family', regex = True)"
   ]
  },
  {
   "cell_type": "markdown",
   "id": "9f0a279e",
   "metadata": {},
   "source": [
    "### Filtering\n",
    "1. Upon data exploration, it was clear that some prices were not scraped properly so I filtered out properties which cost more than $10,000,000."
   ]
  },
  {
   "cell_type": "code",
   "execution_count": 17,
   "id": "66d5a8a5",
   "metadata": {},
   "outputs": [],
   "source": [
    "properties = properties[properties['price'] < 10000000]"
   ]
  },
  {
   "cell_type": "markdown",
   "id": "46a8c633",
   "metadata": {},
   "source": [
    "2. Dropping lines where property types were not residential properties."
   ]
  },
  {
   "cell_type": "code",
   "execution_count": 19,
   "id": "84ef2203",
   "metadata": {},
   "outputs": [],
   "source": [
    "properties = properties[~properties['prop_type'].isin\\\n",
    "                        (['Vacant Land', 'lots/land' ,'Lots And Land' ,'Agriculture', 'Commercial'])]"
   ]
  },
  {
   "cell_type": "markdown",
   "id": "b986bcbd",
   "metadata": {},
   "source": [
    " "
   ]
  },
  {
   "cell_type": "markdown",
   "id": "3a0d932c",
   "metadata": {},
   "source": [
    "3. The neighborhood list was too long to include in graphs so a different grouping method was needed.\n",
    "    - Added a new column 'partial_postal_code' containing only the first three characters that denotes the city\n",
    "    - Filtered out listings that do not have Ottawa postal code (do not start with K)\n",
    "    - Created a new column with the new neighborhood names based on the postal code\n",
    "    - Dropping neighborhoods that are far from central Ottawa"
   ]
  },
  {
   "cell_type": "code",
   "execution_count": 21,
   "id": "1092956c",
   "metadata": {},
   "outputs": [],
   "source": [
    "#Added a new column 'partial_postal_code' containing only the first three characters that denotes the city\n",
    "properties['partial_post_code']= properties.postal_code.str[:3]\n",
    "\n",
    "#Filtered out listings that do not have Ottawa postal code (do not start with K)\n",
    "properties = properties[properties['partial_post_code'].str.contains('^K.*') == True]"
   ]
  },
  {
   "cell_type": "code",
   "execution_count": 26,
   "id": "41767184",
   "metadata": {},
   "outputs": [],
   "source": [
    "#Created a new column with the new neighborhood names based on the postal code\n",
    "pcdb = PostalCodeDatabase()\n",
    "properties['new_neighb'] = [pcdb[code].city for code in properties['partial_post_code']]"
   ]
  },
  {
   "cell_type": "code",
   "execution_count": 27,
   "id": "da9c73f7",
   "metadata": {},
   "outputs": [],
   "source": [
    "#Dropping neighborhoods that are far from central Ottawa\n",
    "properties = properties[~properties['new_neighb'].isin(['Perth', 'Carleton Place'\\\n",
    "            ,'South Leeds and Grenville United Counties (Prescott)', 'Rideau Lakes area (Kemptville)'\\\n",
    "            ,'Cumberland Township', 'Cumberland', 'Manotick', 'National Capital Region (Almonte)'])]"
   ]
  },
  {
   "cell_type": "code",
   "execution_count": 25,
   "id": "351abf3e",
   "metadata": {},
   "outputs": [],
   "source": [
    "properties['partial_post_code']= properties['partial_post_code'].str.replace('K17', 'K1T', regex = True)"
   ]
  },
  {
   "cell_type": "markdown",
   "id": "6e4f3e56",
   "metadata": {},
   "source": [
    "## Data Visualisation"
   ]
  },
  {
   "cell_type": "markdown",
   "id": "f9d48fea",
   "metadata": {},
   "source": [
    "###  Average house prices per neighborhood.\n"
   ]
  },
  {
   "cell_type": "code",
   "execution_count": 29,
   "id": "37e10859",
   "metadata": {},
   "outputs": [
    {
     "data": {
      "application/vnd.plotly.v1+json": {
       "config": {
        "plotlyServerURL": "https://plot.ly"
       },
       "data": [
        {
         "alignmentgroup": "True",
         "cliponaxis": false,
         "hovertemplate": "x=%{x}<br>y=%{y}<extra></extra>",
         "legendgroup": "",
         "marker": {
          "color": "darkgreen",
          "pattern": {
           "shape": ""
          }
         },
         "name": "",
         "offsetgroup": "",
         "orientation": "h",
         "showlegend": false,
         "textangle": 0,
         "textfont": {
          "size": 12
         },
         "textposition": "outside",
         "texttemplate": "%{x:.2s}",
         "type": "bar",
         "x": [
          527865,
          543916,
          544541,
          552682,
          584981,
          635378,
          641642,
          658386,
          662876,
          666269,
          674537,
          681913,
          685340,
          711337,
          735501,
          748885,
          759877,
          794340,
          798469,
          803296,
          812763,
          849786,
          852054,
          895556,
          965076,
          973954,
          991500,
          1008250,
          1008664,
          1049450,
          1049626,
          1105539,
          1210273,
          1404750,
          1446576,
          1468100,
          1479393
         ],
         "xaxis": "x",
         "y": [
          "Gloucester (Blackburn Hamlet / Pine View)",
          "Orleans (Queenswood)",
          "Kanata (Katimavik-Hazeldean / Glen Cairn)",
          "Ottawa (Britannia / Pinecrest)",
          "Nepean (Bells Corners)",
          "Gloucester (Beacon Hill / Cyrville)",
          "Ottawa (Centre Town)",
          "Ottawa (Riverside Park / Hunt Club West / Riverside South / YOW)",
          "Gloucester (Blossom Park / Hunt Club East / Leitrim)",
          "Ottawa (Queensway / Copeland / Carlington / Carleton Heights)",
          "Orleans (Fallingbrook)",
          "Ottawa (Riverview / Hawthorne)",
          "Gloucester (West Orleans)",
          "Kanata (Beaverbrook / South March)",
          "Kanata (Bridlewood)",
          "Ottawa (West Downtown area)",
          "Nepean (Barrhaven)",
          "Ottawa (Overbrook)",
          "Ottawa (Vanier)",
          "Kanata (Terry Fox / Palladium)",
          "Stittsville",
          "Kanata (Marchwood)",
          "Nepean (Davidson Heights)",
          "Ottawa (Parliament Hill)",
          "Ottawa (Lower Town / Sandy Hill / University of Ottawa)",
          "Gloucester (South Orleans)",
          "Ottawa (Alta Vista)",
          "Gloucester South",
          "Ottawa West",
          "Ottawa (Westboro)",
          "Nepean East",
          "Ottawa (Highland Park / Carlingwood)",
          "Ottawa (The Glebe / Ottawa South / Ottawa East)",
          "Nepean (Fallowfield Village / Cedarhill Estates / Orchard Estates)",
          "Ottawa (Rockcliffe Park / New Edinburgh)",
          "Kanata (North March)",
          "Greely"
         ],
         "yaxis": "y"
        }
       ],
       "layout": {
        "barmode": "relative",
        "font": {
         "color": "black",
         "family": "Droid Sans"
        },
        "legend": {
         "tracegroupgap": 0
        },
        "plot_bgcolor": "rgba(0,0,0,0)",
        "template": {
         "data": {
          "bar": [
           {
            "error_x": {
             "color": "#2a3f5f"
            },
            "error_y": {
             "color": "#2a3f5f"
            },
            "marker": {
             "line": {
              "color": "#E5ECF6",
              "width": 0.5
             },
             "pattern": {
              "fillmode": "overlay",
              "size": 10,
              "solidity": 0.2
             }
            },
            "type": "bar"
           }
          ],
          "barpolar": [
           {
            "marker": {
             "line": {
              "color": "#E5ECF6",
              "width": 0.5
             },
             "pattern": {
              "fillmode": "overlay",
              "size": 10,
              "solidity": 0.2
             }
            },
            "type": "barpolar"
           }
          ],
          "carpet": [
           {
            "aaxis": {
             "endlinecolor": "#2a3f5f",
             "gridcolor": "white",
             "linecolor": "white",
             "minorgridcolor": "white",
             "startlinecolor": "#2a3f5f"
            },
            "baxis": {
             "endlinecolor": "#2a3f5f",
             "gridcolor": "white",
             "linecolor": "white",
             "minorgridcolor": "white",
             "startlinecolor": "#2a3f5f"
            },
            "type": "carpet"
           }
          ],
          "choropleth": [
           {
            "colorbar": {
             "outlinewidth": 0,
             "ticks": ""
            },
            "type": "choropleth"
           }
          ],
          "contour": [
           {
            "colorbar": {
             "outlinewidth": 0,
             "ticks": ""
            },
            "colorscale": [
             [
              0,
              "#0d0887"
             ],
             [
              0.1111111111111111,
              "#46039f"
             ],
             [
              0.2222222222222222,
              "#7201a8"
             ],
             [
              0.3333333333333333,
              "#9c179e"
             ],
             [
              0.4444444444444444,
              "#bd3786"
             ],
             [
              0.5555555555555556,
              "#d8576b"
             ],
             [
              0.6666666666666666,
              "#ed7953"
             ],
             [
              0.7777777777777778,
              "#fb9f3a"
             ],
             [
              0.8888888888888888,
              "#fdca26"
             ],
             [
              1,
              "#f0f921"
             ]
            ],
            "type": "contour"
           }
          ],
          "contourcarpet": [
           {
            "colorbar": {
             "outlinewidth": 0,
             "ticks": ""
            },
            "type": "contourcarpet"
           }
          ],
          "heatmap": [
           {
            "colorbar": {
             "outlinewidth": 0,
             "ticks": ""
            },
            "colorscale": [
             [
              0,
              "#0d0887"
             ],
             [
              0.1111111111111111,
              "#46039f"
             ],
             [
              0.2222222222222222,
              "#7201a8"
             ],
             [
              0.3333333333333333,
              "#9c179e"
             ],
             [
              0.4444444444444444,
              "#bd3786"
             ],
             [
              0.5555555555555556,
              "#d8576b"
             ],
             [
              0.6666666666666666,
              "#ed7953"
             ],
             [
              0.7777777777777778,
              "#fb9f3a"
             ],
             [
              0.8888888888888888,
              "#fdca26"
             ],
             [
              1,
              "#f0f921"
             ]
            ],
            "type": "heatmap"
           }
          ],
          "heatmapgl": [
           {
            "colorbar": {
             "outlinewidth": 0,
             "ticks": ""
            },
            "colorscale": [
             [
              0,
              "#0d0887"
             ],
             [
              0.1111111111111111,
              "#46039f"
             ],
             [
              0.2222222222222222,
              "#7201a8"
             ],
             [
              0.3333333333333333,
              "#9c179e"
             ],
             [
              0.4444444444444444,
              "#bd3786"
             ],
             [
              0.5555555555555556,
              "#d8576b"
             ],
             [
              0.6666666666666666,
              "#ed7953"
             ],
             [
              0.7777777777777778,
              "#fb9f3a"
             ],
             [
              0.8888888888888888,
              "#fdca26"
             ],
             [
              1,
              "#f0f921"
             ]
            ],
            "type": "heatmapgl"
           }
          ],
          "histogram": [
           {
            "marker": {
             "pattern": {
              "fillmode": "overlay",
              "size": 10,
              "solidity": 0.2
             }
            },
            "type": "histogram"
           }
          ],
          "histogram2d": [
           {
            "colorbar": {
             "outlinewidth": 0,
             "ticks": ""
            },
            "colorscale": [
             [
              0,
              "#0d0887"
             ],
             [
              0.1111111111111111,
              "#46039f"
             ],
             [
              0.2222222222222222,
              "#7201a8"
             ],
             [
              0.3333333333333333,
              "#9c179e"
             ],
             [
              0.4444444444444444,
              "#bd3786"
             ],
             [
              0.5555555555555556,
              "#d8576b"
             ],
             [
              0.6666666666666666,
              "#ed7953"
             ],
             [
              0.7777777777777778,
              "#fb9f3a"
             ],
             [
              0.8888888888888888,
              "#fdca26"
             ],
             [
              1,
              "#f0f921"
             ]
            ],
            "type": "histogram2d"
           }
          ],
          "histogram2dcontour": [
           {
            "colorbar": {
             "outlinewidth": 0,
             "ticks": ""
            },
            "colorscale": [
             [
              0,
              "#0d0887"
             ],
             [
              0.1111111111111111,
              "#46039f"
             ],
             [
              0.2222222222222222,
              "#7201a8"
             ],
             [
              0.3333333333333333,
              "#9c179e"
             ],
             [
              0.4444444444444444,
              "#bd3786"
             ],
             [
              0.5555555555555556,
              "#d8576b"
             ],
             [
              0.6666666666666666,
              "#ed7953"
             ],
             [
              0.7777777777777778,
              "#fb9f3a"
             ],
             [
              0.8888888888888888,
              "#fdca26"
             ],
             [
              1,
              "#f0f921"
             ]
            ],
            "type": "histogram2dcontour"
           }
          ],
          "mesh3d": [
           {
            "colorbar": {
             "outlinewidth": 0,
             "ticks": ""
            },
            "type": "mesh3d"
           }
          ],
          "parcoords": [
           {
            "line": {
             "colorbar": {
              "outlinewidth": 0,
              "ticks": ""
             }
            },
            "type": "parcoords"
           }
          ],
          "pie": [
           {
            "automargin": true,
            "type": "pie"
           }
          ],
          "scatter": [
           {
            "marker": {
             "colorbar": {
              "outlinewidth": 0,
              "ticks": ""
             }
            },
            "type": "scatter"
           }
          ],
          "scatter3d": [
           {
            "line": {
             "colorbar": {
              "outlinewidth": 0,
              "ticks": ""
             }
            },
            "marker": {
             "colorbar": {
              "outlinewidth": 0,
              "ticks": ""
             }
            },
            "type": "scatter3d"
           }
          ],
          "scattercarpet": [
           {
            "marker": {
             "colorbar": {
              "outlinewidth": 0,
              "ticks": ""
             }
            },
            "type": "scattercarpet"
           }
          ],
          "scattergeo": [
           {
            "marker": {
             "colorbar": {
              "outlinewidth": 0,
              "ticks": ""
             }
            },
            "type": "scattergeo"
           }
          ],
          "scattergl": [
           {
            "marker": {
             "colorbar": {
              "outlinewidth": 0,
              "ticks": ""
             }
            },
            "type": "scattergl"
           }
          ],
          "scattermapbox": [
           {
            "marker": {
             "colorbar": {
              "outlinewidth": 0,
              "ticks": ""
             }
            },
            "type": "scattermapbox"
           }
          ],
          "scatterpolar": [
           {
            "marker": {
             "colorbar": {
              "outlinewidth": 0,
              "ticks": ""
             }
            },
            "type": "scatterpolar"
           }
          ],
          "scatterpolargl": [
           {
            "marker": {
             "colorbar": {
              "outlinewidth": 0,
              "ticks": ""
             }
            },
            "type": "scatterpolargl"
           }
          ],
          "scatterternary": [
           {
            "marker": {
             "colorbar": {
              "outlinewidth": 0,
              "ticks": ""
             }
            },
            "type": "scatterternary"
           }
          ],
          "surface": [
           {
            "colorbar": {
             "outlinewidth": 0,
             "ticks": ""
            },
            "colorscale": [
             [
              0,
              "#0d0887"
             ],
             [
              0.1111111111111111,
              "#46039f"
             ],
             [
              0.2222222222222222,
              "#7201a8"
             ],
             [
              0.3333333333333333,
              "#9c179e"
             ],
             [
              0.4444444444444444,
              "#bd3786"
             ],
             [
              0.5555555555555556,
              "#d8576b"
             ],
             [
              0.6666666666666666,
              "#ed7953"
             ],
             [
              0.7777777777777778,
              "#fb9f3a"
             ],
             [
              0.8888888888888888,
              "#fdca26"
             ],
             [
              1,
              "#f0f921"
             ]
            ],
            "type": "surface"
           }
          ],
          "table": [
           {
            "cells": {
             "fill": {
              "color": "#EBF0F8"
             },
             "line": {
              "color": "white"
             }
            },
            "header": {
             "fill": {
              "color": "#C8D4E3"
             },
             "line": {
              "color": "white"
             }
            },
            "type": "table"
           }
          ]
         },
         "layout": {
          "annotationdefaults": {
           "arrowcolor": "#2a3f5f",
           "arrowhead": 0,
           "arrowwidth": 1
          },
          "autotypenumbers": "strict",
          "coloraxis": {
           "colorbar": {
            "outlinewidth": 0,
            "ticks": ""
           }
          },
          "colorscale": {
           "diverging": [
            [
             0,
             "#8e0152"
            ],
            [
             0.1,
             "#c51b7d"
            ],
            [
             0.2,
             "#de77ae"
            ],
            [
             0.3,
             "#f1b6da"
            ],
            [
             0.4,
             "#fde0ef"
            ],
            [
             0.5,
             "#f7f7f7"
            ],
            [
             0.6,
             "#e6f5d0"
            ],
            [
             0.7,
             "#b8e186"
            ],
            [
             0.8,
             "#7fbc41"
            ],
            [
             0.9,
             "#4d9221"
            ],
            [
             1,
             "#276419"
            ]
           ],
           "sequential": [
            [
             0,
             "#0d0887"
            ],
            [
             0.1111111111111111,
             "#46039f"
            ],
            [
             0.2222222222222222,
             "#7201a8"
            ],
            [
             0.3333333333333333,
             "#9c179e"
            ],
            [
             0.4444444444444444,
             "#bd3786"
            ],
            [
             0.5555555555555556,
             "#d8576b"
            ],
            [
             0.6666666666666666,
             "#ed7953"
            ],
            [
             0.7777777777777778,
             "#fb9f3a"
            ],
            [
             0.8888888888888888,
             "#fdca26"
            ],
            [
             1,
             "#f0f921"
            ]
           ],
           "sequentialminus": [
            [
             0,
             "#0d0887"
            ],
            [
             0.1111111111111111,
             "#46039f"
            ],
            [
             0.2222222222222222,
             "#7201a8"
            ],
            [
             0.3333333333333333,
             "#9c179e"
            ],
            [
             0.4444444444444444,
             "#bd3786"
            ],
            [
             0.5555555555555556,
             "#d8576b"
            ],
            [
             0.6666666666666666,
             "#ed7953"
            ],
            [
             0.7777777777777778,
             "#fb9f3a"
            ],
            [
             0.8888888888888888,
             "#fdca26"
            ],
            [
             1,
             "#f0f921"
            ]
           ]
          },
          "colorway": [
           "#636efa",
           "#EF553B",
           "#00cc96",
           "#ab63fa",
           "#FFA15A",
           "#19d3f3",
           "#FF6692",
           "#B6E880",
           "#FF97FF",
           "#FECB52"
          ],
          "font": {
           "color": "#2a3f5f"
          },
          "geo": {
           "bgcolor": "white",
           "lakecolor": "white",
           "landcolor": "#E5ECF6",
           "showlakes": true,
           "showland": true,
           "subunitcolor": "white"
          },
          "hoverlabel": {
           "align": "left"
          },
          "hovermode": "closest",
          "mapbox": {
           "style": "light"
          },
          "paper_bgcolor": "white",
          "plot_bgcolor": "#E5ECF6",
          "polar": {
           "angularaxis": {
            "gridcolor": "white",
            "linecolor": "white",
            "ticks": ""
           },
           "bgcolor": "#E5ECF6",
           "radialaxis": {
            "gridcolor": "white",
            "linecolor": "white",
            "ticks": ""
           }
          },
          "scene": {
           "xaxis": {
            "backgroundcolor": "#E5ECF6",
            "gridcolor": "white",
            "gridwidth": 2,
            "linecolor": "white",
            "showbackground": true,
            "ticks": "",
            "zerolinecolor": "white"
           },
           "yaxis": {
            "backgroundcolor": "#E5ECF6",
            "gridcolor": "white",
            "gridwidth": 2,
            "linecolor": "white",
            "showbackground": true,
            "ticks": "",
            "zerolinecolor": "white"
           },
           "zaxis": {
            "backgroundcolor": "#E5ECF6",
            "gridcolor": "white",
            "gridwidth": 2,
            "linecolor": "white",
            "showbackground": true,
            "ticks": "",
            "zerolinecolor": "white"
           }
          },
          "shapedefaults": {
           "line": {
            "color": "#2a3f5f"
           }
          },
          "ternary": {
           "aaxis": {
            "gridcolor": "white",
            "linecolor": "white",
            "ticks": ""
           },
           "baxis": {
            "gridcolor": "white",
            "linecolor": "white",
            "ticks": ""
           },
           "bgcolor": "#E5ECF6",
           "caxis": {
            "gridcolor": "white",
            "linecolor": "white",
            "ticks": ""
           }
          },
          "title": {
           "x": 0.05
          },
          "xaxis": {
           "automargin": true,
           "gridcolor": "white",
           "linecolor": "white",
           "ticks": "",
           "title": {
            "standoff": 15
           },
           "zerolinecolor": "white",
           "zerolinewidth": 2
          },
          "yaxis": {
           "automargin": true,
           "gridcolor": "white",
           "linecolor": "white",
           "ticks": "",
           "title": {
            "standoff": 15
           },
           "zerolinecolor": "white",
           "zerolinewidth": 2
          }
         }
        },
        "title": {
         "font": {
          "color": "black"
         },
         "text": "Average house prices per neighborhood in Ottawa"
        },
        "xaxis": {
         "anchor": "y",
         "domain": [
          0,
          1
         ],
         "title": {
          "text": "Average sales price (CAD)"
         }
        },
        "yaxis": {
         "anchor": "x",
         "domain": [
          0,
          1
         ],
         "tickfont": {
          "size": 7.5
         },
         "title": {
          "text": "Neighborhood"
         }
        }
       }
      },
      "text/html": [
       "<div>                            <div id=\"a91a4d84-279a-4956-ac3f-b34a5c6aee76\" class=\"plotly-graph-div\" style=\"height:525px; width:100%;\"></div>            <script type=\"text/javascript\">                require([\"plotly\"], function(Plotly) {                    window.PLOTLYENV=window.PLOTLYENV || {};                                    if (document.getElementById(\"a91a4d84-279a-4956-ac3f-b34a5c6aee76\")) {                    Plotly.newPlot(                        \"a91a4d84-279a-4956-ac3f-b34a5c6aee76\",                        [{\"alignmentgroup\":\"True\",\"cliponaxis\":false,\"hovertemplate\":\"x=%{x}<br>y=%{y}<extra></extra>\",\"legendgroup\":\"\",\"marker\":{\"color\":\"darkgreen\",\"pattern\":{\"shape\":\"\"}},\"name\":\"\",\"offsetgroup\":\"\",\"orientation\":\"h\",\"showlegend\":false,\"textangle\":0,\"textfont\":{\"size\":12},\"textposition\":\"outside\",\"texttemplate\":\"%{x:.2s}\",\"x\":[527865.0,543916.0,544541.0,552682.0,584981.0,635378.0,641642.0,658386.0,662876.0,666269.0,674537.0,681913.0,685340.0,711337.0,735501.0,748885.0,759877.0,794340.0,798469.0,803296.0,812763.0,849786.0,852054.0,895556.0,965076.0,973954.0,991500.0,1008250.0,1008664.0,1049450.0,1049626.0,1105539.0,1210273.0,1404750.0,1446576.0,1468100.0,1479393.0],\"xaxis\":\"x\",\"y\":[\"Gloucester (Blackburn Hamlet / Pine View)\",\"Orleans (Queenswood)\",\"Kanata (Katimavik-Hazeldean / Glen Cairn)\",\"Ottawa (Britannia / Pinecrest)\",\"Nepean (Bells Corners)\",\"Gloucester (Beacon Hill / Cyrville)\",\"Ottawa (Centre Town)\",\"Ottawa (Riverside Park / Hunt Club West / Riverside South / YOW)\",\"Gloucester (Blossom Park / Hunt Club East / Leitrim)\",\"Ottawa (Queensway / Copeland / Carlington / Carleton Heights)\",\"Orleans (Fallingbrook)\",\"Ottawa (Riverview / Hawthorne)\",\"Gloucester (West Orleans)\",\"Kanata (Beaverbrook / South March)\",\"Kanata (Bridlewood)\",\"Ottawa (West Downtown area)\",\"Nepean (Barrhaven)\",\"Ottawa (Overbrook)\",\"Ottawa (Vanier)\",\"Kanata (Terry Fox / Palladium)\",\"Stittsville\",\"Kanata (Marchwood)\",\"Nepean (Davidson Heights)\",\"Ottawa (Parliament Hill)\",\"Ottawa (Lower Town / Sandy Hill / University of Ottawa)\",\"Gloucester (South Orleans)\",\"Ottawa (Alta Vista)\",\"Gloucester South\",\"Ottawa West\",\"Ottawa (Westboro)\",\"Nepean East\",\"Ottawa (Highland Park / Carlingwood)\",\"Ottawa (The Glebe / Ottawa South / Ottawa East)\",\"Nepean (Fallowfield Village / Cedarhill Estates / Orchard Estates)\",\"Ottawa (Rockcliffe Park / New Edinburgh)\",\"Kanata (North March)\",\"Greely\"],\"yaxis\":\"y\",\"type\":\"bar\"}],                        {\"barmode\":\"relative\",\"font\":{\"color\":\"black\",\"family\":\"Droid Sans\"},\"legend\":{\"tracegroupgap\":0},\"plot_bgcolor\":\"rgba(0,0,0,0)\",\"template\":{\"data\":{\"barpolar\":[{\"marker\":{\"line\":{\"color\":\"#E5ECF6\",\"width\":0.5},\"pattern\":{\"fillmode\":\"overlay\",\"size\":10,\"solidity\":0.2}},\"type\":\"barpolar\"}],\"bar\":[{\"error_x\":{\"color\":\"#2a3f5f\"},\"error_y\":{\"color\":\"#2a3f5f\"},\"marker\":{\"line\":{\"color\":\"#E5ECF6\",\"width\":0.5},\"pattern\":{\"fillmode\":\"overlay\",\"size\":10,\"solidity\":0.2}},\"type\":\"bar\"}],\"carpet\":[{\"aaxis\":{\"endlinecolor\":\"#2a3f5f\",\"gridcolor\":\"white\",\"linecolor\":\"white\",\"minorgridcolor\":\"white\",\"startlinecolor\":\"#2a3f5f\"},\"baxis\":{\"endlinecolor\":\"#2a3f5f\",\"gridcolor\":\"white\",\"linecolor\":\"white\",\"minorgridcolor\":\"white\",\"startlinecolor\":\"#2a3f5f\"},\"type\":\"carpet\"}],\"choropleth\":[{\"colorbar\":{\"outlinewidth\":0,\"ticks\":\"\"},\"type\":\"choropleth\"}],\"contourcarpet\":[{\"colorbar\":{\"outlinewidth\":0,\"ticks\":\"\"},\"type\":\"contourcarpet\"}],\"contour\":[{\"colorbar\":{\"outlinewidth\":0,\"ticks\":\"\"},\"colorscale\":[[0.0,\"#0d0887\"],[0.1111111111111111,\"#46039f\"],[0.2222222222222222,\"#7201a8\"],[0.3333333333333333,\"#9c179e\"],[0.4444444444444444,\"#bd3786\"],[0.5555555555555556,\"#d8576b\"],[0.6666666666666666,\"#ed7953\"],[0.7777777777777778,\"#fb9f3a\"],[0.8888888888888888,\"#fdca26\"],[1.0,\"#f0f921\"]],\"type\":\"contour\"}],\"heatmapgl\":[{\"colorbar\":{\"outlinewidth\":0,\"ticks\":\"\"},\"colorscale\":[[0.0,\"#0d0887\"],[0.1111111111111111,\"#46039f\"],[0.2222222222222222,\"#7201a8\"],[0.3333333333333333,\"#9c179e\"],[0.4444444444444444,\"#bd3786\"],[0.5555555555555556,\"#d8576b\"],[0.6666666666666666,\"#ed7953\"],[0.7777777777777778,\"#fb9f3a\"],[0.8888888888888888,\"#fdca26\"],[1.0,\"#f0f921\"]],\"type\":\"heatmapgl\"}],\"heatmap\":[{\"colorbar\":{\"outlinewidth\":0,\"ticks\":\"\"},\"colorscale\":[[0.0,\"#0d0887\"],[0.1111111111111111,\"#46039f\"],[0.2222222222222222,\"#7201a8\"],[0.3333333333333333,\"#9c179e\"],[0.4444444444444444,\"#bd3786\"],[0.5555555555555556,\"#d8576b\"],[0.6666666666666666,\"#ed7953\"],[0.7777777777777778,\"#fb9f3a\"],[0.8888888888888888,\"#fdca26\"],[1.0,\"#f0f921\"]],\"type\":\"heatmap\"}],\"histogram2dcontour\":[{\"colorbar\":{\"outlinewidth\":0,\"ticks\":\"\"},\"colorscale\":[[0.0,\"#0d0887\"],[0.1111111111111111,\"#46039f\"],[0.2222222222222222,\"#7201a8\"],[0.3333333333333333,\"#9c179e\"],[0.4444444444444444,\"#bd3786\"],[0.5555555555555556,\"#d8576b\"],[0.6666666666666666,\"#ed7953\"],[0.7777777777777778,\"#fb9f3a\"],[0.8888888888888888,\"#fdca26\"],[1.0,\"#f0f921\"]],\"type\":\"histogram2dcontour\"}],\"histogram2d\":[{\"colorbar\":{\"outlinewidth\":0,\"ticks\":\"\"},\"colorscale\":[[0.0,\"#0d0887\"],[0.1111111111111111,\"#46039f\"],[0.2222222222222222,\"#7201a8\"],[0.3333333333333333,\"#9c179e\"],[0.4444444444444444,\"#bd3786\"],[0.5555555555555556,\"#d8576b\"],[0.6666666666666666,\"#ed7953\"],[0.7777777777777778,\"#fb9f3a\"],[0.8888888888888888,\"#fdca26\"],[1.0,\"#f0f921\"]],\"type\":\"histogram2d\"}],\"histogram\":[{\"marker\":{\"pattern\":{\"fillmode\":\"overlay\",\"size\":10,\"solidity\":0.2}},\"type\":\"histogram\"}],\"mesh3d\":[{\"colorbar\":{\"outlinewidth\":0,\"ticks\":\"\"},\"type\":\"mesh3d\"}],\"parcoords\":[{\"line\":{\"colorbar\":{\"outlinewidth\":0,\"ticks\":\"\"}},\"type\":\"parcoords\"}],\"pie\":[{\"automargin\":true,\"type\":\"pie\"}],\"scatter3d\":[{\"line\":{\"colorbar\":{\"outlinewidth\":0,\"ticks\":\"\"}},\"marker\":{\"colorbar\":{\"outlinewidth\":0,\"ticks\":\"\"}},\"type\":\"scatter3d\"}],\"scattercarpet\":[{\"marker\":{\"colorbar\":{\"outlinewidth\":0,\"ticks\":\"\"}},\"type\":\"scattercarpet\"}],\"scattergeo\":[{\"marker\":{\"colorbar\":{\"outlinewidth\":0,\"ticks\":\"\"}},\"type\":\"scattergeo\"}],\"scattergl\":[{\"marker\":{\"colorbar\":{\"outlinewidth\":0,\"ticks\":\"\"}},\"type\":\"scattergl\"}],\"scattermapbox\":[{\"marker\":{\"colorbar\":{\"outlinewidth\":0,\"ticks\":\"\"}},\"type\":\"scattermapbox\"}],\"scatterpolargl\":[{\"marker\":{\"colorbar\":{\"outlinewidth\":0,\"ticks\":\"\"}},\"type\":\"scatterpolargl\"}],\"scatterpolar\":[{\"marker\":{\"colorbar\":{\"outlinewidth\":0,\"ticks\":\"\"}},\"type\":\"scatterpolar\"}],\"scatter\":[{\"marker\":{\"colorbar\":{\"outlinewidth\":0,\"ticks\":\"\"}},\"type\":\"scatter\"}],\"scatterternary\":[{\"marker\":{\"colorbar\":{\"outlinewidth\":0,\"ticks\":\"\"}},\"type\":\"scatterternary\"}],\"surface\":[{\"colorbar\":{\"outlinewidth\":0,\"ticks\":\"\"},\"colorscale\":[[0.0,\"#0d0887\"],[0.1111111111111111,\"#46039f\"],[0.2222222222222222,\"#7201a8\"],[0.3333333333333333,\"#9c179e\"],[0.4444444444444444,\"#bd3786\"],[0.5555555555555556,\"#d8576b\"],[0.6666666666666666,\"#ed7953\"],[0.7777777777777778,\"#fb9f3a\"],[0.8888888888888888,\"#fdca26\"],[1.0,\"#f0f921\"]],\"type\":\"surface\"}],\"table\":[{\"cells\":{\"fill\":{\"color\":\"#EBF0F8\"},\"line\":{\"color\":\"white\"}},\"header\":{\"fill\":{\"color\":\"#C8D4E3\"},\"line\":{\"color\":\"white\"}},\"type\":\"table\"}]},\"layout\":{\"annotationdefaults\":{\"arrowcolor\":\"#2a3f5f\",\"arrowhead\":0,\"arrowwidth\":1},\"autotypenumbers\":\"strict\",\"coloraxis\":{\"colorbar\":{\"outlinewidth\":0,\"ticks\":\"\"}},\"colorscale\":{\"diverging\":[[0,\"#8e0152\"],[0.1,\"#c51b7d\"],[0.2,\"#de77ae\"],[0.3,\"#f1b6da\"],[0.4,\"#fde0ef\"],[0.5,\"#f7f7f7\"],[0.6,\"#e6f5d0\"],[0.7,\"#b8e186\"],[0.8,\"#7fbc41\"],[0.9,\"#4d9221\"],[1,\"#276419\"]],\"sequential\":[[0.0,\"#0d0887\"],[0.1111111111111111,\"#46039f\"],[0.2222222222222222,\"#7201a8\"],[0.3333333333333333,\"#9c179e\"],[0.4444444444444444,\"#bd3786\"],[0.5555555555555556,\"#d8576b\"],[0.6666666666666666,\"#ed7953\"],[0.7777777777777778,\"#fb9f3a\"],[0.8888888888888888,\"#fdca26\"],[1.0,\"#f0f921\"]],\"sequentialminus\":[[0.0,\"#0d0887\"],[0.1111111111111111,\"#46039f\"],[0.2222222222222222,\"#7201a8\"],[0.3333333333333333,\"#9c179e\"],[0.4444444444444444,\"#bd3786\"],[0.5555555555555556,\"#d8576b\"],[0.6666666666666666,\"#ed7953\"],[0.7777777777777778,\"#fb9f3a\"],[0.8888888888888888,\"#fdca26\"],[1.0,\"#f0f921\"]]},\"colorway\":[\"#636efa\",\"#EF553B\",\"#00cc96\",\"#ab63fa\",\"#FFA15A\",\"#19d3f3\",\"#FF6692\",\"#B6E880\",\"#FF97FF\",\"#FECB52\"],\"font\":{\"color\":\"#2a3f5f\"},\"geo\":{\"bgcolor\":\"white\",\"lakecolor\":\"white\",\"landcolor\":\"#E5ECF6\",\"showlakes\":true,\"showland\":true,\"subunitcolor\":\"white\"},\"hoverlabel\":{\"align\":\"left\"},\"hovermode\":\"closest\",\"mapbox\":{\"style\":\"light\"},\"paper_bgcolor\":\"white\",\"plot_bgcolor\":\"#E5ECF6\",\"polar\":{\"angularaxis\":{\"gridcolor\":\"white\",\"linecolor\":\"white\",\"ticks\":\"\"},\"bgcolor\":\"#E5ECF6\",\"radialaxis\":{\"gridcolor\":\"white\",\"linecolor\":\"white\",\"ticks\":\"\"}},\"scene\":{\"xaxis\":{\"backgroundcolor\":\"#E5ECF6\",\"gridcolor\":\"white\",\"gridwidth\":2,\"linecolor\":\"white\",\"showbackground\":true,\"ticks\":\"\",\"zerolinecolor\":\"white\"},\"yaxis\":{\"backgroundcolor\":\"#E5ECF6\",\"gridcolor\":\"white\",\"gridwidth\":2,\"linecolor\":\"white\",\"showbackground\":true,\"ticks\":\"\",\"zerolinecolor\":\"white\"},\"zaxis\":{\"backgroundcolor\":\"#E5ECF6\",\"gridcolor\":\"white\",\"gridwidth\":2,\"linecolor\":\"white\",\"showbackground\":true,\"ticks\":\"\",\"zerolinecolor\":\"white\"}},\"shapedefaults\":{\"line\":{\"color\":\"#2a3f5f\"}},\"ternary\":{\"aaxis\":{\"gridcolor\":\"white\",\"linecolor\":\"white\",\"ticks\":\"\"},\"baxis\":{\"gridcolor\":\"white\",\"linecolor\":\"white\",\"ticks\":\"\"},\"bgcolor\":\"#E5ECF6\",\"caxis\":{\"gridcolor\":\"white\",\"linecolor\":\"white\",\"ticks\":\"\"}},\"title\":{\"x\":0.05},\"xaxis\":{\"automargin\":true,\"gridcolor\":\"white\",\"linecolor\":\"white\",\"ticks\":\"\",\"title\":{\"standoff\":15},\"zerolinecolor\":\"white\",\"zerolinewidth\":2},\"yaxis\":{\"automargin\":true,\"gridcolor\":\"white\",\"linecolor\":\"white\",\"ticks\":\"\",\"title\":{\"standoff\":15},\"zerolinecolor\":\"white\",\"zerolinewidth\":2}}},\"title\":{\"font\":{\"color\":\"black\"},\"text\":\"Average house prices per neighborhood in Ottawa\"},\"xaxis\":{\"anchor\":\"y\",\"domain\":[0.0,1.0],\"title\":{\"text\":\"Average sales price (CAD)\"}},\"yaxis\":{\"anchor\":\"x\",\"domain\":[0.0,1.0],\"tickfont\":{\"size\":7.5},\"title\":{\"text\":\"Neighborhood\"}}},                        {\"responsive\": true}                    ).then(function(){\n",
       "                            \n",
       "var gd = document.getElementById('a91a4d84-279a-4956-ac3f-b34a5c6aee76');\n",
       "var x = new MutationObserver(function (mutations, observer) {{\n",
       "        var display = window.getComputedStyle(gd).display;\n",
       "        if (!display || display === 'none') {{\n",
       "            console.log([gd, 'removed!']);\n",
       "            Plotly.purge(gd);\n",
       "            observer.disconnect();\n",
       "        }}\n",
       "}});\n",
       "\n",
       "// Listen for the removal of the full notebook cells\n",
       "var notebookContainer = gd.closest('#notebook-container');\n",
       "if (notebookContainer) {{\n",
       "    x.observe(notebookContainer, {childList: true});\n",
       "}}\n",
       "\n",
       "// Listen for the clearing of the current output cell\n",
       "var outputEl = gd.closest('.output');\n",
       "if (outputEl) {{\n",
       "    x.observe(outputEl, {childList: true});\n",
       "}}\n",
       "\n",
       "                        })                };                });            </script>        </div>"
      ]
     },
     "metadata": {},
     "output_type": "display_data"
    }
   ],
   "source": [
    "#Creating a bar chart to see the average property prices in Ottawa\n",
    "\n",
    "avg_price = properties.groupby('new_neighb')['price'].mean().round().sort_values()\n",
    "\n",
    "data = px.bar(x=avg_price.values, y=avg_price.index, orientation='h', text_auto='.2s'\\\n",
    "             ,title = 'Average house prices per neighborhood in Ottawa')\n",
    "\n",
    "data.update_traces(textfont_size=12, textangle=0, textposition=\"outside\", cliponaxis=False, marker_color='darkgreen')\n",
    "\n",
    "data.update_layout(font_family='Droid Sans',\n",
    "                  font_color ='black',\n",
    "                  title_font_color= 'black',\n",
    "                  plot_bgcolor='rgba(0,0,0,0)',\n",
    "                  xaxis_title= 'Average sales price (CAD)',\n",
    "                  yaxis_title='Neighborhood')\n",
    "\n",
    "data.update_yaxes(dict(tickfont = dict(size=7.5)))\n",
    "go.Figure(data)"
   ]
  },
  {
   "cell_type": "markdown",
   "id": "45417b59",
   "metadata": {},
   "source": [
    "### Average house prices per number of bedrooms"
   ]
  },
  {
   "cell_type": "code",
   "execution_count": 30,
   "id": "5c26552d",
   "metadata": {},
   "outputs": [
    {
     "data": {
      "application/vnd.plotly.v1+json": {
       "config": {
        "plotlyServerURL": "https://plot.ly"
       },
       "data": [
        {
         "alignmentgroup": "True",
         "cliponaxis": false,
         "hovertemplate": "x=%{x}<br>y=%{y}<extra></extra>",
         "legendgroup": "",
         "marker": {
          "color": "darkgreen",
          "pattern": {
           "shape": ""
          }
         },
         "name": "",
         "offsetgroup": "",
         "orientation": "h",
         "showlegend": false,
         "textangle": 0,
         "textfont": {
          "size": 12
         },
         "textposition": "outside",
         "texttemplate": "%{x:.2s}",
         "type": "bar",
         "x": [
          506518,
          681508,
          695629,
          1010762,
          1231215,
          1531938,
          1540809
         ],
         "xaxis": "x",
         "y": [
          1,
          2,
          3,
          4,
          5,
          7,
          6
         ],
         "yaxis": "y"
        }
       ],
       "layout": {
        "barmode": "relative",
        "font": {
         "color": "black",
         "family": "Droid Sans"
        },
        "legend": {
         "tracegroupgap": 0
        },
        "plot_bgcolor": "rgba(0,0,0,0)",
        "template": {
         "data": {
          "bar": [
           {
            "error_x": {
             "color": "#2a3f5f"
            },
            "error_y": {
             "color": "#2a3f5f"
            },
            "marker": {
             "line": {
              "color": "#E5ECF6",
              "width": 0.5
             },
             "pattern": {
              "fillmode": "overlay",
              "size": 10,
              "solidity": 0.2
             }
            },
            "type": "bar"
           }
          ],
          "barpolar": [
           {
            "marker": {
             "line": {
              "color": "#E5ECF6",
              "width": 0.5
             },
             "pattern": {
              "fillmode": "overlay",
              "size": 10,
              "solidity": 0.2
             }
            },
            "type": "barpolar"
           }
          ],
          "carpet": [
           {
            "aaxis": {
             "endlinecolor": "#2a3f5f",
             "gridcolor": "white",
             "linecolor": "white",
             "minorgridcolor": "white",
             "startlinecolor": "#2a3f5f"
            },
            "baxis": {
             "endlinecolor": "#2a3f5f",
             "gridcolor": "white",
             "linecolor": "white",
             "minorgridcolor": "white",
             "startlinecolor": "#2a3f5f"
            },
            "type": "carpet"
           }
          ],
          "choropleth": [
           {
            "colorbar": {
             "outlinewidth": 0,
             "ticks": ""
            },
            "type": "choropleth"
           }
          ],
          "contour": [
           {
            "colorbar": {
             "outlinewidth": 0,
             "ticks": ""
            },
            "colorscale": [
             [
              0,
              "#0d0887"
             ],
             [
              0.1111111111111111,
              "#46039f"
             ],
             [
              0.2222222222222222,
              "#7201a8"
             ],
             [
              0.3333333333333333,
              "#9c179e"
             ],
             [
              0.4444444444444444,
              "#bd3786"
             ],
             [
              0.5555555555555556,
              "#d8576b"
             ],
             [
              0.6666666666666666,
              "#ed7953"
             ],
             [
              0.7777777777777778,
              "#fb9f3a"
             ],
             [
              0.8888888888888888,
              "#fdca26"
             ],
             [
              1,
              "#f0f921"
             ]
            ],
            "type": "contour"
           }
          ],
          "contourcarpet": [
           {
            "colorbar": {
             "outlinewidth": 0,
             "ticks": ""
            },
            "type": "contourcarpet"
           }
          ],
          "heatmap": [
           {
            "colorbar": {
             "outlinewidth": 0,
             "ticks": ""
            },
            "colorscale": [
             [
              0,
              "#0d0887"
             ],
             [
              0.1111111111111111,
              "#46039f"
             ],
             [
              0.2222222222222222,
              "#7201a8"
             ],
             [
              0.3333333333333333,
              "#9c179e"
             ],
             [
              0.4444444444444444,
              "#bd3786"
             ],
             [
              0.5555555555555556,
              "#d8576b"
             ],
             [
              0.6666666666666666,
              "#ed7953"
             ],
             [
              0.7777777777777778,
              "#fb9f3a"
             ],
             [
              0.8888888888888888,
              "#fdca26"
             ],
             [
              1,
              "#f0f921"
             ]
            ],
            "type": "heatmap"
           }
          ],
          "heatmapgl": [
           {
            "colorbar": {
             "outlinewidth": 0,
             "ticks": ""
            },
            "colorscale": [
             [
              0,
              "#0d0887"
             ],
             [
              0.1111111111111111,
              "#46039f"
             ],
             [
              0.2222222222222222,
              "#7201a8"
             ],
             [
              0.3333333333333333,
              "#9c179e"
             ],
             [
              0.4444444444444444,
              "#bd3786"
             ],
             [
              0.5555555555555556,
              "#d8576b"
             ],
             [
              0.6666666666666666,
              "#ed7953"
             ],
             [
              0.7777777777777778,
              "#fb9f3a"
             ],
             [
              0.8888888888888888,
              "#fdca26"
             ],
             [
              1,
              "#f0f921"
             ]
            ],
            "type": "heatmapgl"
           }
          ],
          "histogram": [
           {
            "marker": {
             "pattern": {
              "fillmode": "overlay",
              "size": 10,
              "solidity": 0.2
             }
            },
            "type": "histogram"
           }
          ],
          "histogram2d": [
           {
            "colorbar": {
             "outlinewidth": 0,
             "ticks": ""
            },
            "colorscale": [
             [
              0,
              "#0d0887"
             ],
             [
              0.1111111111111111,
              "#46039f"
             ],
             [
              0.2222222222222222,
              "#7201a8"
             ],
             [
              0.3333333333333333,
              "#9c179e"
             ],
             [
              0.4444444444444444,
              "#bd3786"
             ],
             [
              0.5555555555555556,
              "#d8576b"
             ],
             [
              0.6666666666666666,
              "#ed7953"
             ],
             [
              0.7777777777777778,
              "#fb9f3a"
             ],
             [
              0.8888888888888888,
              "#fdca26"
             ],
             [
              1,
              "#f0f921"
             ]
            ],
            "type": "histogram2d"
           }
          ],
          "histogram2dcontour": [
           {
            "colorbar": {
             "outlinewidth": 0,
             "ticks": ""
            },
            "colorscale": [
             [
              0,
              "#0d0887"
             ],
             [
              0.1111111111111111,
              "#46039f"
             ],
             [
              0.2222222222222222,
              "#7201a8"
             ],
             [
              0.3333333333333333,
              "#9c179e"
             ],
             [
              0.4444444444444444,
              "#bd3786"
             ],
             [
              0.5555555555555556,
              "#d8576b"
             ],
             [
              0.6666666666666666,
              "#ed7953"
             ],
             [
              0.7777777777777778,
              "#fb9f3a"
             ],
             [
              0.8888888888888888,
              "#fdca26"
             ],
             [
              1,
              "#f0f921"
             ]
            ],
            "type": "histogram2dcontour"
           }
          ],
          "mesh3d": [
           {
            "colorbar": {
             "outlinewidth": 0,
             "ticks": ""
            },
            "type": "mesh3d"
           }
          ],
          "parcoords": [
           {
            "line": {
             "colorbar": {
              "outlinewidth": 0,
              "ticks": ""
             }
            },
            "type": "parcoords"
           }
          ],
          "pie": [
           {
            "automargin": true,
            "type": "pie"
           }
          ],
          "scatter": [
           {
            "marker": {
             "colorbar": {
              "outlinewidth": 0,
              "ticks": ""
             }
            },
            "type": "scatter"
           }
          ],
          "scatter3d": [
           {
            "line": {
             "colorbar": {
              "outlinewidth": 0,
              "ticks": ""
             }
            },
            "marker": {
             "colorbar": {
              "outlinewidth": 0,
              "ticks": ""
             }
            },
            "type": "scatter3d"
           }
          ],
          "scattercarpet": [
           {
            "marker": {
             "colorbar": {
              "outlinewidth": 0,
              "ticks": ""
             }
            },
            "type": "scattercarpet"
           }
          ],
          "scattergeo": [
           {
            "marker": {
             "colorbar": {
              "outlinewidth": 0,
              "ticks": ""
             }
            },
            "type": "scattergeo"
           }
          ],
          "scattergl": [
           {
            "marker": {
             "colorbar": {
              "outlinewidth": 0,
              "ticks": ""
             }
            },
            "type": "scattergl"
           }
          ],
          "scattermapbox": [
           {
            "marker": {
             "colorbar": {
              "outlinewidth": 0,
              "ticks": ""
             }
            },
            "type": "scattermapbox"
           }
          ],
          "scatterpolar": [
           {
            "marker": {
             "colorbar": {
              "outlinewidth": 0,
              "ticks": ""
             }
            },
            "type": "scatterpolar"
           }
          ],
          "scatterpolargl": [
           {
            "marker": {
             "colorbar": {
              "outlinewidth": 0,
              "ticks": ""
             }
            },
            "type": "scatterpolargl"
           }
          ],
          "scatterternary": [
           {
            "marker": {
             "colorbar": {
              "outlinewidth": 0,
              "ticks": ""
             }
            },
            "type": "scatterternary"
           }
          ],
          "surface": [
           {
            "colorbar": {
             "outlinewidth": 0,
             "ticks": ""
            },
            "colorscale": [
             [
              0,
              "#0d0887"
             ],
             [
              0.1111111111111111,
              "#46039f"
             ],
             [
              0.2222222222222222,
              "#7201a8"
             ],
             [
              0.3333333333333333,
              "#9c179e"
             ],
             [
              0.4444444444444444,
              "#bd3786"
             ],
             [
              0.5555555555555556,
              "#d8576b"
             ],
             [
              0.6666666666666666,
              "#ed7953"
             ],
             [
              0.7777777777777778,
              "#fb9f3a"
             ],
             [
              0.8888888888888888,
              "#fdca26"
             ],
             [
              1,
              "#f0f921"
             ]
            ],
            "type": "surface"
           }
          ],
          "table": [
           {
            "cells": {
             "fill": {
              "color": "#EBF0F8"
             },
             "line": {
              "color": "white"
             }
            },
            "header": {
             "fill": {
              "color": "#C8D4E3"
             },
             "line": {
              "color": "white"
             }
            },
            "type": "table"
           }
          ]
         },
         "layout": {
          "annotationdefaults": {
           "arrowcolor": "#2a3f5f",
           "arrowhead": 0,
           "arrowwidth": 1
          },
          "autotypenumbers": "strict",
          "coloraxis": {
           "colorbar": {
            "outlinewidth": 0,
            "ticks": ""
           }
          },
          "colorscale": {
           "diverging": [
            [
             0,
             "#8e0152"
            ],
            [
             0.1,
             "#c51b7d"
            ],
            [
             0.2,
             "#de77ae"
            ],
            [
             0.3,
             "#f1b6da"
            ],
            [
             0.4,
             "#fde0ef"
            ],
            [
             0.5,
             "#f7f7f7"
            ],
            [
             0.6,
             "#e6f5d0"
            ],
            [
             0.7,
             "#b8e186"
            ],
            [
             0.8,
             "#7fbc41"
            ],
            [
             0.9,
             "#4d9221"
            ],
            [
             1,
             "#276419"
            ]
           ],
           "sequential": [
            [
             0,
             "#0d0887"
            ],
            [
             0.1111111111111111,
             "#46039f"
            ],
            [
             0.2222222222222222,
             "#7201a8"
            ],
            [
             0.3333333333333333,
             "#9c179e"
            ],
            [
             0.4444444444444444,
             "#bd3786"
            ],
            [
             0.5555555555555556,
             "#d8576b"
            ],
            [
             0.6666666666666666,
             "#ed7953"
            ],
            [
             0.7777777777777778,
             "#fb9f3a"
            ],
            [
             0.8888888888888888,
             "#fdca26"
            ],
            [
             1,
             "#f0f921"
            ]
           ],
           "sequentialminus": [
            [
             0,
             "#0d0887"
            ],
            [
             0.1111111111111111,
             "#46039f"
            ],
            [
             0.2222222222222222,
             "#7201a8"
            ],
            [
             0.3333333333333333,
             "#9c179e"
            ],
            [
             0.4444444444444444,
             "#bd3786"
            ],
            [
             0.5555555555555556,
             "#d8576b"
            ],
            [
             0.6666666666666666,
             "#ed7953"
            ],
            [
             0.7777777777777778,
             "#fb9f3a"
            ],
            [
             0.8888888888888888,
             "#fdca26"
            ],
            [
             1,
             "#f0f921"
            ]
           ]
          },
          "colorway": [
           "#636efa",
           "#EF553B",
           "#00cc96",
           "#ab63fa",
           "#FFA15A",
           "#19d3f3",
           "#FF6692",
           "#B6E880",
           "#FF97FF",
           "#FECB52"
          ],
          "font": {
           "color": "#2a3f5f"
          },
          "geo": {
           "bgcolor": "white",
           "lakecolor": "white",
           "landcolor": "#E5ECF6",
           "showlakes": true,
           "showland": true,
           "subunitcolor": "white"
          },
          "hoverlabel": {
           "align": "left"
          },
          "hovermode": "closest",
          "mapbox": {
           "style": "light"
          },
          "paper_bgcolor": "white",
          "plot_bgcolor": "#E5ECF6",
          "polar": {
           "angularaxis": {
            "gridcolor": "white",
            "linecolor": "white",
            "ticks": ""
           },
           "bgcolor": "#E5ECF6",
           "radialaxis": {
            "gridcolor": "white",
            "linecolor": "white",
            "ticks": ""
           }
          },
          "scene": {
           "xaxis": {
            "backgroundcolor": "#E5ECF6",
            "gridcolor": "white",
            "gridwidth": 2,
            "linecolor": "white",
            "showbackground": true,
            "ticks": "",
            "zerolinecolor": "white"
           },
           "yaxis": {
            "backgroundcolor": "#E5ECF6",
            "gridcolor": "white",
            "gridwidth": 2,
            "linecolor": "white",
            "showbackground": true,
            "ticks": "",
            "zerolinecolor": "white"
           },
           "zaxis": {
            "backgroundcolor": "#E5ECF6",
            "gridcolor": "white",
            "gridwidth": 2,
            "linecolor": "white",
            "showbackground": true,
            "ticks": "",
            "zerolinecolor": "white"
           }
          },
          "shapedefaults": {
           "line": {
            "color": "#2a3f5f"
           }
          },
          "ternary": {
           "aaxis": {
            "gridcolor": "white",
            "linecolor": "white",
            "ticks": ""
           },
           "baxis": {
            "gridcolor": "white",
            "linecolor": "white",
            "ticks": ""
           },
           "bgcolor": "#E5ECF6",
           "caxis": {
            "gridcolor": "white",
            "linecolor": "white",
            "ticks": ""
           }
          },
          "title": {
           "x": 0.05
          },
          "xaxis": {
           "automargin": true,
           "gridcolor": "white",
           "linecolor": "white",
           "ticks": "",
           "title": {
            "standoff": 15
           },
           "zerolinecolor": "white",
           "zerolinewidth": 2
          },
          "yaxis": {
           "automargin": true,
           "gridcolor": "white",
           "linecolor": "white",
           "ticks": "",
           "title": {
            "standoff": 15
           },
           "zerolinecolor": "white",
           "zerolinewidth": 2
          }
         }
        },
        "title": {
         "font": {
          "color": "black"
         },
         "text": "Average house prices per number of bedrooms in Ottawa"
        },
        "xaxis": {
         "anchor": "y",
         "domain": [
          0,
          1
         ],
         "title": {
          "text": "Average sales price (CAD)"
         }
        },
        "yaxis": {
         "anchor": "x",
         "domain": [
          0,
          1
         ],
         "tickfont": {
          "size": 15
         },
         "title": {
          "text": "Number of Bedrooms"
         }
        }
       }
      },
      "text/html": [
       "<div>                            <div id=\"2b2716fd-f10d-47f3-a6ec-387ba6ddf585\" class=\"plotly-graph-div\" style=\"height:525px; width:100%;\"></div>            <script type=\"text/javascript\">                require([\"plotly\"], function(Plotly) {                    window.PLOTLYENV=window.PLOTLYENV || {};                                    if (document.getElementById(\"2b2716fd-f10d-47f3-a6ec-387ba6ddf585\")) {                    Plotly.newPlot(                        \"2b2716fd-f10d-47f3-a6ec-387ba6ddf585\",                        [{\"alignmentgroup\":\"True\",\"cliponaxis\":false,\"hovertemplate\":\"x=%{x}<br>y=%{y}<extra></extra>\",\"legendgroup\":\"\",\"marker\":{\"color\":\"darkgreen\",\"pattern\":{\"shape\":\"\"}},\"name\":\"\",\"offsetgroup\":\"\",\"orientation\":\"h\",\"showlegend\":false,\"textangle\":0,\"textfont\":{\"size\":12},\"textposition\":\"outside\",\"texttemplate\":\"%{x:.2s}\",\"x\":[506518.0,681508.0,695629.0,1010762.0,1231215.0,1531938.0,1540809.0],\"xaxis\":\"x\",\"y\":[1,2,3,4,5,7,6],\"yaxis\":\"y\",\"type\":\"bar\"}],                        {\"barmode\":\"relative\",\"font\":{\"color\":\"black\",\"family\":\"Droid Sans\"},\"legend\":{\"tracegroupgap\":0},\"plot_bgcolor\":\"rgba(0,0,0,0)\",\"template\":{\"data\":{\"barpolar\":[{\"marker\":{\"line\":{\"color\":\"#E5ECF6\",\"width\":0.5},\"pattern\":{\"fillmode\":\"overlay\",\"size\":10,\"solidity\":0.2}},\"type\":\"barpolar\"}],\"bar\":[{\"error_x\":{\"color\":\"#2a3f5f\"},\"error_y\":{\"color\":\"#2a3f5f\"},\"marker\":{\"line\":{\"color\":\"#E5ECF6\",\"width\":0.5},\"pattern\":{\"fillmode\":\"overlay\",\"size\":10,\"solidity\":0.2}},\"type\":\"bar\"}],\"carpet\":[{\"aaxis\":{\"endlinecolor\":\"#2a3f5f\",\"gridcolor\":\"white\",\"linecolor\":\"white\",\"minorgridcolor\":\"white\",\"startlinecolor\":\"#2a3f5f\"},\"baxis\":{\"endlinecolor\":\"#2a3f5f\",\"gridcolor\":\"white\",\"linecolor\":\"white\",\"minorgridcolor\":\"white\",\"startlinecolor\":\"#2a3f5f\"},\"type\":\"carpet\"}],\"choropleth\":[{\"colorbar\":{\"outlinewidth\":0,\"ticks\":\"\"},\"type\":\"choropleth\"}],\"contourcarpet\":[{\"colorbar\":{\"outlinewidth\":0,\"ticks\":\"\"},\"type\":\"contourcarpet\"}],\"contour\":[{\"colorbar\":{\"outlinewidth\":0,\"ticks\":\"\"},\"colorscale\":[[0.0,\"#0d0887\"],[0.1111111111111111,\"#46039f\"],[0.2222222222222222,\"#7201a8\"],[0.3333333333333333,\"#9c179e\"],[0.4444444444444444,\"#bd3786\"],[0.5555555555555556,\"#d8576b\"],[0.6666666666666666,\"#ed7953\"],[0.7777777777777778,\"#fb9f3a\"],[0.8888888888888888,\"#fdca26\"],[1.0,\"#f0f921\"]],\"type\":\"contour\"}],\"heatmapgl\":[{\"colorbar\":{\"outlinewidth\":0,\"ticks\":\"\"},\"colorscale\":[[0.0,\"#0d0887\"],[0.1111111111111111,\"#46039f\"],[0.2222222222222222,\"#7201a8\"],[0.3333333333333333,\"#9c179e\"],[0.4444444444444444,\"#bd3786\"],[0.5555555555555556,\"#d8576b\"],[0.6666666666666666,\"#ed7953\"],[0.7777777777777778,\"#fb9f3a\"],[0.8888888888888888,\"#fdca26\"],[1.0,\"#f0f921\"]],\"type\":\"heatmapgl\"}],\"heatmap\":[{\"colorbar\":{\"outlinewidth\":0,\"ticks\":\"\"},\"colorscale\":[[0.0,\"#0d0887\"],[0.1111111111111111,\"#46039f\"],[0.2222222222222222,\"#7201a8\"],[0.3333333333333333,\"#9c179e\"],[0.4444444444444444,\"#bd3786\"],[0.5555555555555556,\"#d8576b\"],[0.6666666666666666,\"#ed7953\"],[0.7777777777777778,\"#fb9f3a\"],[0.8888888888888888,\"#fdca26\"],[1.0,\"#f0f921\"]],\"type\":\"heatmap\"}],\"histogram2dcontour\":[{\"colorbar\":{\"outlinewidth\":0,\"ticks\":\"\"},\"colorscale\":[[0.0,\"#0d0887\"],[0.1111111111111111,\"#46039f\"],[0.2222222222222222,\"#7201a8\"],[0.3333333333333333,\"#9c179e\"],[0.4444444444444444,\"#bd3786\"],[0.5555555555555556,\"#d8576b\"],[0.6666666666666666,\"#ed7953\"],[0.7777777777777778,\"#fb9f3a\"],[0.8888888888888888,\"#fdca26\"],[1.0,\"#f0f921\"]],\"type\":\"histogram2dcontour\"}],\"histogram2d\":[{\"colorbar\":{\"outlinewidth\":0,\"ticks\":\"\"},\"colorscale\":[[0.0,\"#0d0887\"],[0.1111111111111111,\"#46039f\"],[0.2222222222222222,\"#7201a8\"],[0.3333333333333333,\"#9c179e\"],[0.4444444444444444,\"#bd3786\"],[0.5555555555555556,\"#d8576b\"],[0.6666666666666666,\"#ed7953\"],[0.7777777777777778,\"#fb9f3a\"],[0.8888888888888888,\"#fdca26\"],[1.0,\"#f0f921\"]],\"type\":\"histogram2d\"}],\"histogram\":[{\"marker\":{\"pattern\":{\"fillmode\":\"overlay\",\"size\":10,\"solidity\":0.2}},\"type\":\"histogram\"}],\"mesh3d\":[{\"colorbar\":{\"outlinewidth\":0,\"ticks\":\"\"},\"type\":\"mesh3d\"}],\"parcoords\":[{\"line\":{\"colorbar\":{\"outlinewidth\":0,\"ticks\":\"\"}},\"type\":\"parcoords\"}],\"pie\":[{\"automargin\":true,\"type\":\"pie\"}],\"scatter3d\":[{\"line\":{\"colorbar\":{\"outlinewidth\":0,\"ticks\":\"\"}},\"marker\":{\"colorbar\":{\"outlinewidth\":0,\"ticks\":\"\"}},\"type\":\"scatter3d\"}],\"scattercarpet\":[{\"marker\":{\"colorbar\":{\"outlinewidth\":0,\"ticks\":\"\"}},\"type\":\"scattercarpet\"}],\"scattergeo\":[{\"marker\":{\"colorbar\":{\"outlinewidth\":0,\"ticks\":\"\"}},\"type\":\"scattergeo\"}],\"scattergl\":[{\"marker\":{\"colorbar\":{\"outlinewidth\":0,\"ticks\":\"\"}},\"type\":\"scattergl\"}],\"scattermapbox\":[{\"marker\":{\"colorbar\":{\"outlinewidth\":0,\"ticks\":\"\"}},\"type\":\"scattermapbox\"}],\"scatterpolargl\":[{\"marker\":{\"colorbar\":{\"outlinewidth\":0,\"ticks\":\"\"}},\"type\":\"scatterpolargl\"}],\"scatterpolar\":[{\"marker\":{\"colorbar\":{\"outlinewidth\":0,\"ticks\":\"\"}},\"type\":\"scatterpolar\"}],\"scatter\":[{\"marker\":{\"colorbar\":{\"outlinewidth\":0,\"ticks\":\"\"}},\"type\":\"scatter\"}],\"scatterternary\":[{\"marker\":{\"colorbar\":{\"outlinewidth\":0,\"ticks\":\"\"}},\"type\":\"scatterternary\"}],\"surface\":[{\"colorbar\":{\"outlinewidth\":0,\"ticks\":\"\"},\"colorscale\":[[0.0,\"#0d0887\"],[0.1111111111111111,\"#46039f\"],[0.2222222222222222,\"#7201a8\"],[0.3333333333333333,\"#9c179e\"],[0.4444444444444444,\"#bd3786\"],[0.5555555555555556,\"#d8576b\"],[0.6666666666666666,\"#ed7953\"],[0.7777777777777778,\"#fb9f3a\"],[0.8888888888888888,\"#fdca26\"],[1.0,\"#f0f921\"]],\"type\":\"surface\"}],\"table\":[{\"cells\":{\"fill\":{\"color\":\"#EBF0F8\"},\"line\":{\"color\":\"white\"}},\"header\":{\"fill\":{\"color\":\"#C8D4E3\"},\"line\":{\"color\":\"white\"}},\"type\":\"table\"}]},\"layout\":{\"annotationdefaults\":{\"arrowcolor\":\"#2a3f5f\",\"arrowhead\":0,\"arrowwidth\":1},\"autotypenumbers\":\"strict\",\"coloraxis\":{\"colorbar\":{\"outlinewidth\":0,\"ticks\":\"\"}},\"colorscale\":{\"diverging\":[[0,\"#8e0152\"],[0.1,\"#c51b7d\"],[0.2,\"#de77ae\"],[0.3,\"#f1b6da\"],[0.4,\"#fde0ef\"],[0.5,\"#f7f7f7\"],[0.6,\"#e6f5d0\"],[0.7,\"#b8e186\"],[0.8,\"#7fbc41\"],[0.9,\"#4d9221\"],[1,\"#276419\"]],\"sequential\":[[0.0,\"#0d0887\"],[0.1111111111111111,\"#46039f\"],[0.2222222222222222,\"#7201a8\"],[0.3333333333333333,\"#9c179e\"],[0.4444444444444444,\"#bd3786\"],[0.5555555555555556,\"#d8576b\"],[0.6666666666666666,\"#ed7953\"],[0.7777777777777778,\"#fb9f3a\"],[0.8888888888888888,\"#fdca26\"],[1.0,\"#f0f921\"]],\"sequentialminus\":[[0.0,\"#0d0887\"],[0.1111111111111111,\"#46039f\"],[0.2222222222222222,\"#7201a8\"],[0.3333333333333333,\"#9c179e\"],[0.4444444444444444,\"#bd3786\"],[0.5555555555555556,\"#d8576b\"],[0.6666666666666666,\"#ed7953\"],[0.7777777777777778,\"#fb9f3a\"],[0.8888888888888888,\"#fdca26\"],[1.0,\"#f0f921\"]]},\"colorway\":[\"#636efa\",\"#EF553B\",\"#00cc96\",\"#ab63fa\",\"#FFA15A\",\"#19d3f3\",\"#FF6692\",\"#B6E880\",\"#FF97FF\",\"#FECB52\"],\"font\":{\"color\":\"#2a3f5f\"},\"geo\":{\"bgcolor\":\"white\",\"lakecolor\":\"white\",\"landcolor\":\"#E5ECF6\",\"showlakes\":true,\"showland\":true,\"subunitcolor\":\"white\"},\"hoverlabel\":{\"align\":\"left\"},\"hovermode\":\"closest\",\"mapbox\":{\"style\":\"light\"},\"paper_bgcolor\":\"white\",\"plot_bgcolor\":\"#E5ECF6\",\"polar\":{\"angularaxis\":{\"gridcolor\":\"white\",\"linecolor\":\"white\",\"ticks\":\"\"},\"bgcolor\":\"#E5ECF6\",\"radialaxis\":{\"gridcolor\":\"white\",\"linecolor\":\"white\",\"ticks\":\"\"}},\"scene\":{\"xaxis\":{\"backgroundcolor\":\"#E5ECF6\",\"gridcolor\":\"white\",\"gridwidth\":2,\"linecolor\":\"white\",\"showbackground\":true,\"ticks\":\"\",\"zerolinecolor\":\"white\"},\"yaxis\":{\"backgroundcolor\":\"#E5ECF6\",\"gridcolor\":\"white\",\"gridwidth\":2,\"linecolor\":\"white\",\"showbackground\":true,\"ticks\":\"\",\"zerolinecolor\":\"white\"},\"zaxis\":{\"backgroundcolor\":\"#E5ECF6\",\"gridcolor\":\"white\",\"gridwidth\":2,\"linecolor\":\"white\",\"showbackground\":true,\"ticks\":\"\",\"zerolinecolor\":\"white\"}},\"shapedefaults\":{\"line\":{\"color\":\"#2a3f5f\"}},\"ternary\":{\"aaxis\":{\"gridcolor\":\"white\",\"linecolor\":\"white\",\"ticks\":\"\"},\"baxis\":{\"gridcolor\":\"white\",\"linecolor\":\"white\",\"ticks\":\"\"},\"bgcolor\":\"#E5ECF6\",\"caxis\":{\"gridcolor\":\"white\",\"linecolor\":\"white\",\"ticks\":\"\"}},\"title\":{\"x\":0.05},\"xaxis\":{\"automargin\":true,\"gridcolor\":\"white\",\"linecolor\":\"white\",\"ticks\":\"\",\"title\":{\"standoff\":15},\"zerolinecolor\":\"white\",\"zerolinewidth\":2},\"yaxis\":{\"automargin\":true,\"gridcolor\":\"white\",\"linecolor\":\"white\",\"ticks\":\"\",\"title\":{\"standoff\":15},\"zerolinecolor\":\"white\",\"zerolinewidth\":2}}},\"title\":{\"font\":{\"color\":\"black\"},\"text\":\"Average house prices per number of bedrooms in Ottawa\"},\"xaxis\":{\"anchor\":\"y\",\"domain\":[0.0,1.0],\"title\":{\"text\":\"Average sales price (CAD)\"}},\"yaxis\":{\"anchor\":\"x\",\"domain\":[0.0,1.0],\"tickfont\":{\"size\":15},\"title\":{\"text\":\"Number of Bedrooms\"}}},                        {\"responsive\": true}                    ).then(function(){\n",
       "                            \n",
       "var gd = document.getElementById('2b2716fd-f10d-47f3-a6ec-387ba6ddf585');\n",
       "var x = new MutationObserver(function (mutations, observer) {{\n",
       "        var display = window.getComputedStyle(gd).display;\n",
       "        if (!display || display === 'none') {{\n",
       "            console.log([gd, 'removed!']);\n",
       "            Plotly.purge(gd);\n",
       "            observer.disconnect();\n",
       "        }}\n",
       "}});\n",
       "\n",
       "// Listen for the removal of the full notebook cells\n",
       "var notebookContainer = gd.closest('#notebook-container');\n",
       "if (notebookContainer) {{\n",
       "    x.observe(notebookContainer, {childList: true});\n",
       "}}\n",
       "\n",
       "// Listen for the clearing of the current output cell\n",
       "var outputEl = gd.closest('.output');\n",
       "if (outputEl) {{\n",
       "    x.observe(outputEl, {childList: true});\n",
       "}}\n",
       "\n",
       "                        })                };                });            </script>        </div>"
      ]
     },
     "metadata": {},
     "output_type": "display_data"
    }
   ],
   "source": [
    "avg_price_num_bedrooms = properties.groupby('num_beds')['price'].mean().round().sort_values()\n",
    "\n",
    "data = px.bar(x=avg_price_num_bedrooms.values, y=avg_price_num_bedrooms.index, orientation='h', text_auto='.2s'\\\n",
    "             ,title = 'Average house prices per number of bedrooms in Ottawa')\n",
    "\n",
    "data.update_traces(textfont_size=12, textangle=0, textposition=\"outside\", cliponaxis=False, marker_color='darkgreen')\n",
    "\n",
    "data.update_layout(font_family='Droid Sans',\n",
    "                  font_color ='black',\n",
    "                  title_font_color= 'black',\n",
    "                  plot_bgcolor='rgba(0,0,0,0)',\n",
    "                  xaxis_title= 'Average sales price (CAD)',\n",
    "                  yaxis_title='Number of Bedrooms')\n",
    "\n",
    "data.update_yaxes(dict(tickfont = dict(size=15)))\n",
    "\n",
    "go.Figure(data)"
   ]
  },
  {
   "cell_type": "markdown",
   "id": "68e96246",
   "metadata": {},
   "source": [
    "###  Average house price per property type and number of bedrooms"
   ]
  },
  {
   "cell_type": "code",
   "execution_count": 32,
   "id": "aa7fc4fd",
   "metadata": {},
   "outputs": [
    {
     "name": "stdout",
     "output_type": "stream",
     "text": [
      "num_beds  prop_type    \n",
      "1         Condominium       395822.0\n",
      "          Multi-Family      719957.0\n",
      "          Residential       797073.0\n",
      "          Single Family     437829.0\n",
      "2         Condominium       508112.0\n",
      "          Multi-Family     1536115.0\n",
      "          Residential       654902.0\n",
      "          Single Family     533054.0\n",
      "3         Condominium       418562.0\n",
      "          Residential       760427.0\n",
      "          Single Family     685187.0\n",
      "4         Condominium       360000.0\n",
      "          Residential      1079924.0\n",
      "          Single Family     995686.0\n",
      "5         Residential      1348945.0\n",
      "          Single Family    1207881.0\n",
      "6         Residential      1787383.0\n",
      "          Single Family    1492864.0\n",
      "7         Residential      1500000.0\n",
      "          Single Family    1536500.0\n",
      "Name: price, dtype: Float64\n"
     ]
    }
   ],
   "source": [
    "# Get the average prices per property type and num of bedrooms\n",
    "avg_price_bedr_type = properties.groupby(['num_beds', 'prop_type'])['price'].mean().round()\n",
    "print(avg_price_bedr_type)"
   ]
  },
  {
   "cell_type": "code",
   "execution_count": 33,
   "id": "e0260978",
   "metadata": {
    "scrolled": false
   },
   "outputs": [
    {
     "data": {
      "application/vnd.plotly.v1+json": {
       "config": {
        "plotlyServerURL": "https://plot.ly"
       },
       "data": [
        {
         "marker": {
          "color": "steelblue"
         },
         "name": "1 beds",
         "type": "bar",
         "x": [
          "Condominium",
          "Multi-Family",
          "Residential",
          "Single Family"
         ],
         "y": [
          395822,
          719957,
          797073,
          437829
         ]
        },
        {
         "marker": {
          "color": "turquoise"
         },
         "name": "2 beds",
         "type": "bar",
         "x": [
          "Condominium",
          "Multi-Family",
          "Residential",
          "Single Family"
         ],
         "y": [
          508112,
          1536115,
          654902,
          533054
         ]
        },
        {
         "marker": {
          "color": "aquamarine"
         },
         "name": "3 beds",
         "type": "bar",
         "x": [
          "Condominium",
          "Residential",
          "Single Family"
         ],
         "y": [
          418562,
          760427,
          685187
         ]
        },
        {
         "marker": {
          "color": "seagreen"
         },
         "name": "4 beds",
         "type": "bar",
         "x": [
          "Condominium",
          "Residential",
          "Single Family"
         ],
         "y": [
          360000,
          1079924,
          995686
         ]
        },
        {
         "marker": {
          "color": "mediumturquoise"
         },
         "name": "5 beds",
         "type": "bar",
         "x": [
          "Residential",
          "Single Family"
         ],
         "y": [
          1348945,
          1207881
         ]
        },
        {
         "marker": {
          "color": "mediumseagreen"
         },
         "name": "6 beds",
         "type": "bar",
         "x": [
          "Residential",
          "Single Family"
         ],
         "y": [
          1787383,
          1492864
         ]
        },
        {
         "marker": {
          "color": "green"
         },
         "name": "7 beds",
         "type": "bar",
         "x": [
          "Residential",
          "Single Family"
         ],
         "y": [
          1500000,
          1536500
         ]
        }
       ],
       "layout": {
        "barmode": "group",
        "font": {
         "color": "black",
         "family": "Droid Sans"
        },
        "plot_bgcolor": "rgba(0,0,0,0)",
        "template": {
         "data": {
          "bar": [
           {
            "error_x": {
             "color": "#2a3f5f"
            },
            "error_y": {
             "color": "#2a3f5f"
            },
            "marker": {
             "line": {
              "color": "#E5ECF6",
              "width": 0.5
             },
             "pattern": {
              "fillmode": "overlay",
              "size": 10,
              "solidity": 0.2
             }
            },
            "type": "bar"
           }
          ],
          "barpolar": [
           {
            "marker": {
             "line": {
              "color": "#E5ECF6",
              "width": 0.5
             },
             "pattern": {
              "fillmode": "overlay",
              "size": 10,
              "solidity": 0.2
             }
            },
            "type": "barpolar"
           }
          ],
          "carpet": [
           {
            "aaxis": {
             "endlinecolor": "#2a3f5f",
             "gridcolor": "white",
             "linecolor": "white",
             "minorgridcolor": "white",
             "startlinecolor": "#2a3f5f"
            },
            "baxis": {
             "endlinecolor": "#2a3f5f",
             "gridcolor": "white",
             "linecolor": "white",
             "minorgridcolor": "white",
             "startlinecolor": "#2a3f5f"
            },
            "type": "carpet"
           }
          ],
          "choropleth": [
           {
            "colorbar": {
             "outlinewidth": 0,
             "ticks": ""
            },
            "type": "choropleth"
           }
          ],
          "contour": [
           {
            "colorbar": {
             "outlinewidth": 0,
             "ticks": ""
            },
            "colorscale": [
             [
              0,
              "#0d0887"
             ],
             [
              0.1111111111111111,
              "#46039f"
             ],
             [
              0.2222222222222222,
              "#7201a8"
             ],
             [
              0.3333333333333333,
              "#9c179e"
             ],
             [
              0.4444444444444444,
              "#bd3786"
             ],
             [
              0.5555555555555556,
              "#d8576b"
             ],
             [
              0.6666666666666666,
              "#ed7953"
             ],
             [
              0.7777777777777778,
              "#fb9f3a"
             ],
             [
              0.8888888888888888,
              "#fdca26"
             ],
             [
              1,
              "#f0f921"
             ]
            ],
            "type": "contour"
           }
          ],
          "contourcarpet": [
           {
            "colorbar": {
             "outlinewidth": 0,
             "ticks": ""
            },
            "type": "contourcarpet"
           }
          ],
          "heatmap": [
           {
            "colorbar": {
             "outlinewidth": 0,
             "ticks": ""
            },
            "colorscale": [
             [
              0,
              "#0d0887"
             ],
             [
              0.1111111111111111,
              "#46039f"
             ],
             [
              0.2222222222222222,
              "#7201a8"
             ],
             [
              0.3333333333333333,
              "#9c179e"
             ],
             [
              0.4444444444444444,
              "#bd3786"
             ],
             [
              0.5555555555555556,
              "#d8576b"
             ],
             [
              0.6666666666666666,
              "#ed7953"
             ],
             [
              0.7777777777777778,
              "#fb9f3a"
             ],
             [
              0.8888888888888888,
              "#fdca26"
             ],
             [
              1,
              "#f0f921"
             ]
            ],
            "type": "heatmap"
           }
          ],
          "heatmapgl": [
           {
            "colorbar": {
             "outlinewidth": 0,
             "ticks": ""
            },
            "colorscale": [
             [
              0,
              "#0d0887"
             ],
             [
              0.1111111111111111,
              "#46039f"
             ],
             [
              0.2222222222222222,
              "#7201a8"
             ],
             [
              0.3333333333333333,
              "#9c179e"
             ],
             [
              0.4444444444444444,
              "#bd3786"
             ],
             [
              0.5555555555555556,
              "#d8576b"
             ],
             [
              0.6666666666666666,
              "#ed7953"
             ],
             [
              0.7777777777777778,
              "#fb9f3a"
             ],
             [
              0.8888888888888888,
              "#fdca26"
             ],
             [
              1,
              "#f0f921"
             ]
            ],
            "type": "heatmapgl"
           }
          ],
          "histogram": [
           {
            "marker": {
             "pattern": {
              "fillmode": "overlay",
              "size": 10,
              "solidity": 0.2
             }
            },
            "type": "histogram"
           }
          ],
          "histogram2d": [
           {
            "colorbar": {
             "outlinewidth": 0,
             "ticks": ""
            },
            "colorscale": [
             [
              0,
              "#0d0887"
             ],
             [
              0.1111111111111111,
              "#46039f"
             ],
             [
              0.2222222222222222,
              "#7201a8"
             ],
             [
              0.3333333333333333,
              "#9c179e"
             ],
             [
              0.4444444444444444,
              "#bd3786"
             ],
             [
              0.5555555555555556,
              "#d8576b"
             ],
             [
              0.6666666666666666,
              "#ed7953"
             ],
             [
              0.7777777777777778,
              "#fb9f3a"
             ],
             [
              0.8888888888888888,
              "#fdca26"
             ],
             [
              1,
              "#f0f921"
             ]
            ],
            "type": "histogram2d"
           }
          ],
          "histogram2dcontour": [
           {
            "colorbar": {
             "outlinewidth": 0,
             "ticks": ""
            },
            "colorscale": [
             [
              0,
              "#0d0887"
             ],
             [
              0.1111111111111111,
              "#46039f"
             ],
             [
              0.2222222222222222,
              "#7201a8"
             ],
             [
              0.3333333333333333,
              "#9c179e"
             ],
             [
              0.4444444444444444,
              "#bd3786"
             ],
             [
              0.5555555555555556,
              "#d8576b"
             ],
             [
              0.6666666666666666,
              "#ed7953"
             ],
             [
              0.7777777777777778,
              "#fb9f3a"
             ],
             [
              0.8888888888888888,
              "#fdca26"
             ],
             [
              1,
              "#f0f921"
             ]
            ],
            "type": "histogram2dcontour"
           }
          ],
          "mesh3d": [
           {
            "colorbar": {
             "outlinewidth": 0,
             "ticks": ""
            },
            "type": "mesh3d"
           }
          ],
          "parcoords": [
           {
            "line": {
             "colorbar": {
              "outlinewidth": 0,
              "ticks": ""
             }
            },
            "type": "parcoords"
           }
          ],
          "pie": [
           {
            "automargin": true,
            "type": "pie"
           }
          ],
          "scatter": [
           {
            "marker": {
             "colorbar": {
              "outlinewidth": 0,
              "ticks": ""
             }
            },
            "type": "scatter"
           }
          ],
          "scatter3d": [
           {
            "line": {
             "colorbar": {
              "outlinewidth": 0,
              "ticks": ""
             }
            },
            "marker": {
             "colorbar": {
              "outlinewidth": 0,
              "ticks": ""
             }
            },
            "type": "scatter3d"
           }
          ],
          "scattercarpet": [
           {
            "marker": {
             "colorbar": {
              "outlinewidth": 0,
              "ticks": ""
             }
            },
            "type": "scattercarpet"
           }
          ],
          "scattergeo": [
           {
            "marker": {
             "colorbar": {
              "outlinewidth": 0,
              "ticks": ""
             }
            },
            "type": "scattergeo"
           }
          ],
          "scattergl": [
           {
            "marker": {
             "colorbar": {
              "outlinewidth": 0,
              "ticks": ""
             }
            },
            "type": "scattergl"
           }
          ],
          "scattermapbox": [
           {
            "marker": {
             "colorbar": {
              "outlinewidth": 0,
              "ticks": ""
             }
            },
            "type": "scattermapbox"
           }
          ],
          "scatterpolar": [
           {
            "marker": {
             "colorbar": {
              "outlinewidth": 0,
              "ticks": ""
             }
            },
            "type": "scatterpolar"
           }
          ],
          "scatterpolargl": [
           {
            "marker": {
             "colorbar": {
              "outlinewidth": 0,
              "ticks": ""
             }
            },
            "type": "scatterpolargl"
           }
          ],
          "scatterternary": [
           {
            "marker": {
             "colorbar": {
              "outlinewidth": 0,
              "ticks": ""
             }
            },
            "type": "scatterternary"
           }
          ],
          "surface": [
           {
            "colorbar": {
             "outlinewidth": 0,
             "ticks": ""
            },
            "colorscale": [
             [
              0,
              "#0d0887"
             ],
             [
              0.1111111111111111,
              "#46039f"
             ],
             [
              0.2222222222222222,
              "#7201a8"
             ],
             [
              0.3333333333333333,
              "#9c179e"
             ],
             [
              0.4444444444444444,
              "#bd3786"
             ],
             [
              0.5555555555555556,
              "#d8576b"
             ],
             [
              0.6666666666666666,
              "#ed7953"
             ],
             [
              0.7777777777777778,
              "#fb9f3a"
             ],
             [
              0.8888888888888888,
              "#fdca26"
             ],
             [
              1,
              "#f0f921"
             ]
            ],
            "type": "surface"
           }
          ],
          "table": [
           {
            "cells": {
             "fill": {
              "color": "#EBF0F8"
             },
             "line": {
              "color": "white"
             }
            },
            "header": {
             "fill": {
              "color": "#C8D4E3"
             },
             "line": {
              "color": "white"
             }
            },
            "type": "table"
           }
          ]
         },
         "layout": {
          "annotationdefaults": {
           "arrowcolor": "#2a3f5f",
           "arrowhead": 0,
           "arrowwidth": 1
          },
          "autotypenumbers": "strict",
          "coloraxis": {
           "colorbar": {
            "outlinewidth": 0,
            "ticks": ""
           }
          },
          "colorscale": {
           "diverging": [
            [
             0,
             "#8e0152"
            ],
            [
             0.1,
             "#c51b7d"
            ],
            [
             0.2,
             "#de77ae"
            ],
            [
             0.3,
             "#f1b6da"
            ],
            [
             0.4,
             "#fde0ef"
            ],
            [
             0.5,
             "#f7f7f7"
            ],
            [
             0.6,
             "#e6f5d0"
            ],
            [
             0.7,
             "#b8e186"
            ],
            [
             0.8,
             "#7fbc41"
            ],
            [
             0.9,
             "#4d9221"
            ],
            [
             1,
             "#276419"
            ]
           ],
           "sequential": [
            [
             0,
             "#0d0887"
            ],
            [
             0.1111111111111111,
             "#46039f"
            ],
            [
             0.2222222222222222,
             "#7201a8"
            ],
            [
             0.3333333333333333,
             "#9c179e"
            ],
            [
             0.4444444444444444,
             "#bd3786"
            ],
            [
             0.5555555555555556,
             "#d8576b"
            ],
            [
             0.6666666666666666,
             "#ed7953"
            ],
            [
             0.7777777777777778,
             "#fb9f3a"
            ],
            [
             0.8888888888888888,
             "#fdca26"
            ],
            [
             1,
             "#f0f921"
            ]
           ],
           "sequentialminus": [
            [
             0,
             "#0d0887"
            ],
            [
             0.1111111111111111,
             "#46039f"
            ],
            [
             0.2222222222222222,
             "#7201a8"
            ],
            [
             0.3333333333333333,
             "#9c179e"
            ],
            [
             0.4444444444444444,
             "#bd3786"
            ],
            [
             0.5555555555555556,
             "#d8576b"
            ],
            [
             0.6666666666666666,
             "#ed7953"
            ],
            [
             0.7777777777777778,
             "#fb9f3a"
            ],
            [
             0.8888888888888888,
             "#fdca26"
            ],
            [
             1,
             "#f0f921"
            ]
           ]
          },
          "colorway": [
           "#636efa",
           "#EF553B",
           "#00cc96",
           "#ab63fa",
           "#FFA15A",
           "#19d3f3",
           "#FF6692",
           "#B6E880",
           "#FF97FF",
           "#FECB52"
          ],
          "font": {
           "color": "#2a3f5f"
          },
          "geo": {
           "bgcolor": "white",
           "lakecolor": "white",
           "landcolor": "#E5ECF6",
           "showlakes": true,
           "showland": true,
           "subunitcolor": "white"
          },
          "hoverlabel": {
           "align": "left"
          },
          "hovermode": "closest",
          "mapbox": {
           "style": "light"
          },
          "paper_bgcolor": "white",
          "plot_bgcolor": "#E5ECF6",
          "polar": {
           "angularaxis": {
            "gridcolor": "white",
            "linecolor": "white",
            "ticks": ""
           },
           "bgcolor": "#E5ECF6",
           "radialaxis": {
            "gridcolor": "white",
            "linecolor": "white",
            "ticks": ""
           }
          },
          "scene": {
           "xaxis": {
            "backgroundcolor": "#E5ECF6",
            "gridcolor": "white",
            "gridwidth": 2,
            "linecolor": "white",
            "showbackground": true,
            "ticks": "",
            "zerolinecolor": "white"
           },
           "yaxis": {
            "backgroundcolor": "#E5ECF6",
            "gridcolor": "white",
            "gridwidth": 2,
            "linecolor": "white",
            "showbackground": true,
            "ticks": "",
            "zerolinecolor": "white"
           },
           "zaxis": {
            "backgroundcolor": "#E5ECF6",
            "gridcolor": "white",
            "gridwidth": 2,
            "linecolor": "white",
            "showbackground": true,
            "ticks": "",
            "zerolinecolor": "white"
           }
          },
          "shapedefaults": {
           "line": {
            "color": "#2a3f5f"
           }
          },
          "ternary": {
           "aaxis": {
            "gridcolor": "white",
            "linecolor": "white",
            "ticks": ""
           },
           "baxis": {
            "gridcolor": "white",
            "linecolor": "white",
            "ticks": ""
           },
           "bgcolor": "#E5ECF6",
           "caxis": {
            "gridcolor": "white",
            "linecolor": "white",
            "ticks": ""
           }
          },
          "title": {
           "x": 0.05
          },
          "xaxis": {
           "automargin": true,
           "gridcolor": "white",
           "linecolor": "white",
           "ticks": "",
           "title": {
            "standoff": 15
           },
           "zerolinecolor": "white",
           "zerolinewidth": 2
          },
          "yaxis": {
           "automargin": true,
           "gridcolor": "white",
           "linecolor": "white",
           "ticks": "",
           "title": {
            "standoff": 15
           },
           "zerolinecolor": "white",
           "zerolinewidth": 2
          }
         }
        },
        "title": {
         "font": {
          "color": "black"
         },
         "text": "Average house price per property type and number of bedrooms"
        },
        "xaxis": {
         "title": {
          "text": "Property Type"
         }
        },
        "yaxis": {
         "title": {
          "text": "Average Sales Price (CAD)"
         }
        }
       }
      },
      "text/html": [
       "<div>                            <div id=\"574aabfa-428e-4c4e-9d13-a0685ee382ed\" class=\"plotly-graph-div\" style=\"height:525px; width:100%;\"></div>            <script type=\"text/javascript\">                require([\"plotly\"], function(Plotly) {                    window.PLOTLYENV=window.PLOTLYENV || {};                                    if (document.getElementById(\"574aabfa-428e-4c4e-9d13-a0685ee382ed\")) {                    Plotly.newPlot(                        \"574aabfa-428e-4c4e-9d13-a0685ee382ed\",                        [{\"marker\":{\"color\":\"steelblue\"},\"name\":\"1 beds\",\"x\":[\"Condominium\",\"Multi-Family\",\"Residential\",\"Single Family\"],\"y\":[395822.0,719957.0,797073.0,437829.0],\"type\":\"bar\"},{\"marker\":{\"color\":\"turquoise\"},\"name\":\"2 beds\",\"x\":[\"Condominium\",\"Multi-Family\",\"Residential\",\"Single Family\"],\"y\":[508112.0,1536115.0,654902.0,533054.0],\"type\":\"bar\"},{\"marker\":{\"color\":\"aquamarine\"},\"name\":\"3 beds\",\"x\":[\"Condominium\",\"Residential\",\"Single Family\"],\"y\":[418562.0,760427.0,685187.0],\"type\":\"bar\"},{\"marker\":{\"color\":\"seagreen\"},\"name\":\"4 beds\",\"x\":[\"Condominium\",\"Residential\",\"Single Family\"],\"y\":[360000.0,1079924.0,995686.0],\"type\":\"bar\"},{\"marker\":{\"color\":\"mediumturquoise\"},\"name\":\"5 beds\",\"x\":[\"Residential\",\"Single Family\"],\"y\":[1348945.0,1207881.0],\"type\":\"bar\"},{\"marker\":{\"color\":\"mediumseagreen\"},\"name\":\"6 beds\",\"x\":[\"Residential\",\"Single Family\"],\"y\":[1787383.0,1492864.0],\"type\":\"bar\"},{\"marker\":{\"color\":\"green\"},\"name\":\"7 beds\",\"x\":[\"Residential\",\"Single Family\"],\"y\":[1500000.0,1536500.0],\"type\":\"bar\"}],                        {\"template\":{\"data\":{\"bar\":[{\"error_x\":{\"color\":\"#2a3f5f\"},\"error_y\":{\"color\":\"#2a3f5f\"},\"marker\":{\"line\":{\"color\":\"#E5ECF6\",\"width\":0.5},\"pattern\":{\"fillmode\":\"overlay\",\"size\":10,\"solidity\":0.2}},\"type\":\"bar\"}],\"barpolar\":[{\"marker\":{\"line\":{\"color\":\"#E5ECF6\",\"width\":0.5},\"pattern\":{\"fillmode\":\"overlay\",\"size\":10,\"solidity\":0.2}},\"type\":\"barpolar\"}],\"carpet\":[{\"aaxis\":{\"endlinecolor\":\"#2a3f5f\",\"gridcolor\":\"white\",\"linecolor\":\"white\",\"minorgridcolor\":\"white\",\"startlinecolor\":\"#2a3f5f\"},\"baxis\":{\"endlinecolor\":\"#2a3f5f\",\"gridcolor\":\"white\",\"linecolor\":\"white\",\"minorgridcolor\":\"white\",\"startlinecolor\":\"#2a3f5f\"},\"type\":\"carpet\"}],\"choropleth\":[{\"colorbar\":{\"outlinewidth\":0,\"ticks\":\"\"},\"type\":\"choropleth\"}],\"contour\":[{\"colorbar\":{\"outlinewidth\":0,\"ticks\":\"\"},\"colorscale\":[[0.0,\"#0d0887\"],[0.1111111111111111,\"#46039f\"],[0.2222222222222222,\"#7201a8\"],[0.3333333333333333,\"#9c179e\"],[0.4444444444444444,\"#bd3786\"],[0.5555555555555556,\"#d8576b\"],[0.6666666666666666,\"#ed7953\"],[0.7777777777777778,\"#fb9f3a\"],[0.8888888888888888,\"#fdca26\"],[1.0,\"#f0f921\"]],\"type\":\"contour\"}],\"contourcarpet\":[{\"colorbar\":{\"outlinewidth\":0,\"ticks\":\"\"},\"type\":\"contourcarpet\"}],\"heatmap\":[{\"colorbar\":{\"outlinewidth\":0,\"ticks\":\"\"},\"colorscale\":[[0.0,\"#0d0887\"],[0.1111111111111111,\"#46039f\"],[0.2222222222222222,\"#7201a8\"],[0.3333333333333333,\"#9c179e\"],[0.4444444444444444,\"#bd3786\"],[0.5555555555555556,\"#d8576b\"],[0.6666666666666666,\"#ed7953\"],[0.7777777777777778,\"#fb9f3a\"],[0.8888888888888888,\"#fdca26\"],[1.0,\"#f0f921\"]],\"type\":\"heatmap\"}],\"heatmapgl\":[{\"colorbar\":{\"outlinewidth\":0,\"ticks\":\"\"},\"colorscale\":[[0.0,\"#0d0887\"],[0.1111111111111111,\"#46039f\"],[0.2222222222222222,\"#7201a8\"],[0.3333333333333333,\"#9c179e\"],[0.4444444444444444,\"#bd3786\"],[0.5555555555555556,\"#d8576b\"],[0.6666666666666666,\"#ed7953\"],[0.7777777777777778,\"#fb9f3a\"],[0.8888888888888888,\"#fdca26\"],[1.0,\"#f0f921\"]],\"type\":\"heatmapgl\"}],\"histogram\":[{\"marker\":{\"pattern\":{\"fillmode\":\"overlay\",\"size\":10,\"solidity\":0.2}},\"type\":\"histogram\"}],\"histogram2d\":[{\"colorbar\":{\"outlinewidth\":0,\"ticks\":\"\"},\"colorscale\":[[0.0,\"#0d0887\"],[0.1111111111111111,\"#46039f\"],[0.2222222222222222,\"#7201a8\"],[0.3333333333333333,\"#9c179e\"],[0.4444444444444444,\"#bd3786\"],[0.5555555555555556,\"#d8576b\"],[0.6666666666666666,\"#ed7953\"],[0.7777777777777778,\"#fb9f3a\"],[0.8888888888888888,\"#fdca26\"],[1.0,\"#f0f921\"]],\"type\":\"histogram2d\"}],\"histogram2dcontour\":[{\"colorbar\":{\"outlinewidth\":0,\"ticks\":\"\"},\"colorscale\":[[0.0,\"#0d0887\"],[0.1111111111111111,\"#46039f\"],[0.2222222222222222,\"#7201a8\"],[0.3333333333333333,\"#9c179e\"],[0.4444444444444444,\"#bd3786\"],[0.5555555555555556,\"#d8576b\"],[0.6666666666666666,\"#ed7953\"],[0.7777777777777778,\"#fb9f3a\"],[0.8888888888888888,\"#fdca26\"],[1.0,\"#f0f921\"]],\"type\":\"histogram2dcontour\"}],\"mesh3d\":[{\"colorbar\":{\"outlinewidth\":0,\"ticks\":\"\"},\"type\":\"mesh3d\"}],\"parcoords\":[{\"line\":{\"colorbar\":{\"outlinewidth\":0,\"ticks\":\"\"}},\"type\":\"parcoords\"}],\"pie\":[{\"automargin\":true,\"type\":\"pie\"}],\"scatter\":[{\"marker\":{\"colorbar\":{\"outlinewidth\":0,\"ticks\":\"\"}},\"type\":\"scatter\"}],\"scatter3d\":[{\"line\":{\"colorbar\":{\"outlinewidth\":0,\"ticks\":\"\"}},\"marker\":{\"colorbar\":{\"outlinewidth\":0,\"ticks\":\"\"}},\"type\":\"scatter3d\"}],\"scattercarpet\":[{\"marker\":{\"colorbar\":{\"outlinewidth\":0,\"ticks\":\"\"}},\"type\":\"scattercarpet\"}],\"scattergeo\":[{\"marker\":{\"colorbar\":{\"outlinewidth\":0,\"ticks\":\"\"}},\"type\":\"scattergeo\"}],\"scattergl\":[{\"marker\":{\"colorbar\":{\"outlinewidth\":0,\"ticks\":\"\"}},\"type\":\"scattergl\"}],\"scattermapbox\":[{\"marker\":{\"colorbar\":{\"outlinewidth\":0,\"ticks\":\"\"}},\"type\":\"scattermapbox\"}],\"scatterpolar\":[{\"marker\":{\"colorbar\":{\"outlinewidth\":0,\"ticks\":\"\"}},\"type\":\"scatterpolar\"}],\"scatterpolargl\":[{\"marker\":{\"colorbar\":{\"outlinewidth\":0,\"ticks\":\"\"}},\"type\":\"scatterpolargl\"}],\"scatterternary\":[{\"marker\":{\"colorbar\":{\"outlinewidth\":0,\"ticks\":\"\"}},\"type\":\"scatterternary\"}],\"surface\":[{\"colorbar\":{\"outlinewidth\":0,\"ticks\":\"\"},\"colorscale\":[[0.0,\"#0d0887\"],[0.1111111111111111,\"#46039f\"],[0.2222222222222222,\"#7201a8\"],[0.3333333333333333,\"#9c179e\"],[0.4444444444444444,\"#bd3786\"],[0.5555555555555556,\"#d8576b\"],[0.6666666666666666,\"#ed7953\"],[0.7777777777777778,\"#fb9f3a\"],[0.8888888888888888,\"#fdca26\"],[1.0,\"#f0f921\"]],\"type\":\"surface\"}],\"table\":[{\"cells\":{\"fill\":{\"color\":\"#EBF0F8\"},\"line\":{\"color\":\"white\"}},\"header\":{\"fill\":{\"color\":\"#C8D4E3\"},\"line\":{\"color\":\"white\"}},\"type\":\"table\"}]},\"layout\":{\"annotationdefaults\":{\"arrowcolor\":\"#2a3f5f\",\"arrowhead\":0,\"arrowwidth\":1},\"autotypenumbers\":\"strict\",\"coloraxis\":{\"colorbar\":{\"outlinewidth\":0,\"ticks\":\"\"}},\"colorscale\":{\"diverging\":[[0,\"#8e0152\"],[0.1,\"#c51b7d\"],[0.2,\"#de77ae\"],[0.3,\"#f1b6da\"],[0.4,\"#fde0ef\"],[0.5,\"#f7f7f7\"],[0.6,\"#e6f5d0\"],[0.7,\"#b8e186\"],[0.8,\"#7fbc41\"],[0.9,\"#4d9221\"],[1,\"#276419\"]],\"sequential\":[[0.0,\"#0d0887\"],[0.1111111111111111,\"#46039f\"],[0.2222222222222222,\"#7201a8\"],[0.3333333333333333,\"#9c179e\"],[0.4444444444444444,\"#bd3786\"],[0.5555555555555556,\"#d8576b\"],[0.6666666666666666,\"#ed7953\"],[0.7777777777777778,\"#fb9f3a\"],[0.8888888888888888,\"#fdca26\"],[1.0,\"#f0f921\"]],\"sequentialminus\":[[0.0,\"#0d0887\"],[0.1111111111111111,\"#46039f\"],[0.2222222222222222,\"#7201a8\"],[0.3333333333333333,\"#9c179e\"],[0.4444444444444444,\"#bd3786\"],[0.5555555555555556,\"#d8576b\"],[0.6666666666666666,\"#ed7953\"],[0.7777777777777778,\"#fb9f3a\"],[0.8888888888888888,\"#fdca26\"],[1.0,\"#f0f921\"]]},\"colorway\":[\"#636efa\",\"#EF553B\",\"#00cc96\",\"#ab63fa\",\"#FFA15A\",\"#19d3f3\",\"#FF6692\",\"#B6E880\",\"#FF97FF\",\"#FECB52\"],\"font\":{\"color\":\"#2a3f5f\"},\"geo\":{\"bgcolor\":\"white\",\"lakecolor\":\"white\",\"landcolor\":\"#E5ECF6\",\"showlakes\":true,\"showland\":true,\"subunitcolor\":\"white\"},\"hoverlabel\":{\"align\":\"left\"},\"hovermode\":\"closest\",\"mapbox\":{\"style\":\"light\"},\"paper_bgcolor\":\"white\",\"plot_bgcolor\":\"#E5ECF6\",\"polar\":{\"angularaxis\":{\"gridcolor\":\"white\",\"linecolor\":\"white\",\"ticks\":\"\"},\"bgcolor\":\"#E5ECF6\",\"radialaxis\":{\"gridcolor\":\"white\",\"linecolor\":\"white\",\"ticks\":\"\"}},\"scene\":{\"xaxis\":{\"backgroundcolor\":\"#E5ECF6\",\"gridcolor\":\"white\",\"gridwidth\":2,\"linecolor\":\"white\",\"showbackground\":true,\"ticks\":\"\",\"zerolinecolor\":\"white\"},\"yaxis\":{\"backgroundcolor\":\"#E5ECF6\",\"gridcolor\":\"white\",\"gridwidth\":2,\"linecolor\":\"white\",\"showbackground\":true,\"ticks\":\"\",\"zerolinecolor\":\"white\"},\"zaxis\":{\"backgroundcolor\":\"#E5ECF6\",\"gridcolor\":\"white\",\"gridwidth\":2,\"linecolor\":\"white\",\"showbackground\":true,\"ticks\":\"\",\"zerolinecolor\":\"white\"}},\"shapedefaults\":{\"line\":{\"color\":\"#2a3f5f\"}},\"ternary\":{\"aaxis\":{\"gridcolor\":\"white\",\"linecolor\":\"white\",\"ticks\":\"\"},\"baxis\":{\"gridcolor\":\"white\",\"linecolor\":\"white\",\"ticks\":\"\"},\"bgcolor\":\"#E5ECF6\",\"caxis\":{\"gridcolor\":\"white\",\"linecolor\":\"white\",\"ticks\":\"\"}},\"title\":{\"x\":0.05},\"xaxis\":{\"automargin\":true,\"gridcolor\":\"white\",\"linecolor\":\"white\",\"ticks\":\"\",\"title\":{\"standoff\":15},\"zerolinecolor\":\"white\",\"zerolinewidth\":2},\"yaxis\":{\"automargin\":true,\"gridcolor\":\"white\",\"linecolor\":\"white\",\"ticks\":\"\",\"title\":{\"standoff\":15},\"zerolinecolor\":\"white\",\"zerolinewidth\":2}}},\"font\":{\"family\":\"Droid Sans\",\"color\":\"black\"},\"title\":{\"text\":\"Average house price per property type and number of bedrooms\",\"font\":{\"color\":\"black\"}},\"barmode\":\"group\",\"plot_bgcolor\":\"rgba(0,0,0,0)\",\"xaxis\":{\"title\":{\"text\":\"Property Type\"}},\"yaxis\":{\"title\":{\"text\":\"Average Sales Price (CAD)\"}}},                        {\"responsive\": true}                    ).then(function(){\n",
       "                            \n",
       "var gd = document.getElementById('574aabfa-428e-4c4e-9d13-a0685ee382ed');\n",
       "var x = new MutationObserver(function (mutations, observer) {{\n",
       "        var display = window.getComputedStyle(gd).display;\n",
       "        if (!display || display === 'none') {{\n",
       "            console.log([gd, 'removed!']);\n",
       "            Plotly.purge(gd);\n",
       "            observer.disconnect();\n",
       "        }}\n",
       "}});\n",
       "\n",
       "// Listen for the removal of the full notebook cells\n",
       "var notebookContainer = gd.closest('#notebook-container');\n",
       "if (notebookContainer) {{\n",
       "    x.observe(notebookContainer, {childList: true});\n",
       "}}\n",
       "\n",
       "// Listen for the clearing of the current output cell\n",
       "var outputEl = gd.closest('.output');\n",
       "if (outputEl) {{\n",
       "    x.observe(outputEl, {childList: true});\n",
       "}}\n",
       "\n",
       "                        })                };                });            </script>        </div>"
      ]
     },
     "metadata": {},
     "output_type": "display_data"
    }
   ],
   "source": [
    "import plotly.graph_objects as go\n",
    "\n",
    "beds = list(set([x[0] for x in avg_price_bedr_type.index]))\n",
    "colors = ['steelblue', 'turquoise', 'aquamarine', 'seagreen', 'mediumturquoise', 'mediumseagreen', 'green']\n",
    "\n",
    "fig = go.Figure()\n",
    "\n",
    "for b in beds:\n",
    "    fig.add_trace(go.Bar(\n",
    "        x=avg_price_bedr_type[b].index,\n",
    "        y=avg_price_bedr_type[b].values,\n",
    "        name= f'{b} beds',\n",
    "        marker_color=colors[b-1]\n",
    "    ))\n",
    "\n",
    "fig.update_layout(barmode='group',\n",
    "                  title= 'Average house price per property type and number of bedrooms',\n",
    "                 font_family='Droid Sans',\n",
    "                  font_color ='black',\n",
    "                  plot_bgcolor='rgba(0,0,0,0)',\n",
    "                  title_font_color= 'black',\n",
    "                  xaxis_title= 'Property Type',\n",
    "                  yaxis_title='Average Sales Price (CAD)')\n",
    "\n",
    "fig.show()\n"
   ]
  },
  {
   "cell_type": "markdown",
   "id": "311aa264",
   "metadata": {},
   "source": [
    "### Mapping the top 10 most bikeable neighborhoods.\n"
   ]
  },
  {
   "cell_type": "code",
   "execution_count": 34,
   "id": "3efd7b54",
   "metadata": {},
   "outputs": [],
   "source": [
    "#Finding the top 10 neighborhoods that have the highest bike scores.\n",
    "top_10 = properties.groupby('new_neighb')[['bike_score']].mean().nlargest(10,'bike_score')"
   ]
  },
  {
   "cell_type": "code",
   "execution_count": 35,
   "id": "0d17fea0",
   "metadata": {},
   "outputs": [
    {
     "data": {
      "text/html": [
       "<div>\n",
       "<style scoped>\n",
       "    .dataframe tbody tr th:only-of-type {\n",
       "        vertical-align: middle;\n",
       "    }\n",
       "\n",
       "    .dataframe tbody tr th {\n",
       "        vertical-align: top;\n",
       "    }\n",
       "\n",
       "    .dataframe thead th {\n",
       "        text-align: right;\n",
       "    }\n",
       "</style>\n",
       "<table border=\"1\" class=\"dataframe\">\n",
       "  <thead>\n",
       "    <tr style=\"text-align: right;\">\n",
       "      <th></th>\n",
       "      <th>latitude</th>\n",
       "      <th>longitude</th>\n",
       "      <th>bike_score</th>\n",
       "    </tr>\n",
       "    <tr>\n",
       "      <th>new_neighb</th>\n",
       "      <th></th>\n",
       "      <th></th>\n",
       "      <th></th>\n",
       "    </tr>\n",
       "  </thead>\n",
       "  <tbody>\n",
       "    <tr>\n",
       "      <th>Ottawa (West Downtown area)</th>\n",
       "      <td>45.409122</td>\n",
       "      <td>-75.699116</td>\n",
       "      <td>94.967213</td>\n",
       "    </tr>\n",
       "    <tr>\n",
       "      <th>Ottawa (Lower Town / Sandy Hill / University of Ottawa)</th>\n",
       "      <td>45.4295616</td>\n",
       "      <td>-75.6811447</td>\n",
       "      <td>95.169014</td>\n",
       "    </tr>\n",
       "    <tr>\n",
       "      <th>Ottawa (Britannia / Pinecrest)</th>\n",
       "      <td>45.3603592</td>\n",
       "      <td>-75.794487</td>\n",
       "      <td>84.470588</td>\n",
       "    </tr>\n",
       "    <tr>\n",
       "      <th>Ottawa (Vanier)</th>\n",
       "      <td>45.4381714</td>\n",
       "      <td>-75.6757355</td>\n",
       "      <td>86.45098</td>\n",
       "    </tr>\n",
       "    <tr>\n",
       "      <th>Ottawa West</th>\n",
       "      <td>45.407089</td>\n",
       "      <td>-75.731964</td>\n",
       "      <td>94.196721</td>\n",
       "    </tr>\n",
       "    <tr>\n",
       "      <th>Ottawa (Westboro)</th>\n",
       "      <td>45.3795013</td>\n",
       "      <td>-75.7264252</td>\n",
       "      <td>95.5</td>\n",
       "    </tr>\n",
       "    <tr>\n",
       "      <th>Ottawa (The Glebe / Ottawa South / Ottawa East)</th>\n",
       "      <td>45.4007568</td>\n",
       "      <td>-75.7112885</td>\n",
       "      <td>95.454545</td>\n",
       "    </tr>\n",
       "    <tr>\n",
       "      <th>Ottawa (Parliament Hill)</th>\n",
       "      <td>45.4220657</td>\n",
       "      <td>-75.6975861</td>\n",
       "      <td>94.1875</td>\n",
       "    </tr>\n",
       "    <tr>\n",
       "      <th>Ottawa (Centre Town)</th>\n",
       "      <td>45.4068947</td>\n",
       "      <td>-75.716568</td>\n",
       "      <td>97.692308</td>\n",
       "    </tr>\n",
       "    <tr>\n",
       "      <th>Ottawa (Rockcliffe Park / New Edinburgh)</th>\n",
       "      <td>45.4420586</td>\n",
       "      <td>-75.675148</td>\n",
       "      <td>93.857143</td>\n",
       "    </tr>\n",
       "  </tbody>\n",
       "</table>\n",
       "</div>"
      ],
      "text/plain": [
       "                                                      latitude    longitude  \\\n",
       "new_neighb                                                                    \n",
       "Ottawa (West Downtown area)                          45.409122   -75.699116   \n",
       "Ottawa (Lower Town / Sandy Hill / University of...  45.4295616  -75.6811447   \n",
       "Ottawa (Britannia / Pinecrest)                      45.3603592   -75.794487   \n",
       "Ottawa (Vanier)                                     45.4381714  -75.6757355   \n",
       "Ottawa West                                          45.407089   -75.731964   \n",
       "Ottawa (Westboro)                                   45.3795013  -75.7264252   \n",
       "Ottawa (The Glebe / Ottawa South / Ottawa East)     45.4007568  -75.7112885   \n",
       "Ottawa (Parliament Hill)                            45.4220657  -75.6975861   \n",
       "Ottawa (Centre Town)                                45.4068947   -75.716568   \n",
       "Ottawa (Rockcliffe Park / New Edinburgh)            45.4420586   -75.675148   \n",
       "\n",
       "                                                    bike_score  \n",
       "new_neighb                                                      \n",
       "Ottawa (West Downtown area)                          94.967213  \n",
       "Ottawa (Lower Town / Sandy Hill / University of...   95.169014  \n",
       "Ottawa (Britannia / Pinecrest)                       84.470588  \n",
       "Ottawa (Vanier)                                       86.45098  \n",
       "Ottawa West                                          94.196721  \n",
       "Ottawa (Westboro)                                         95.5  \n",
       "Ottawa (The Glebe / Ottawa South / Ottawa East)      95.454545  \n",
       "Ottawa (Parliament Hill)                               94.1875  \n",
       "Ottawa (Centre Town)                                 97.692308  \n",
       "Ottawa (Rockcliffe Park / New Edinburgh)             93.857143  "
      ]
     },
     "execution_count": 35,
     "metadata": {},
     "output_type": "execute_result"
    }
   ],
   "source": [
    "#Joining tables to get the latitude and longitude for the neighborhoods\n",
    "map_data = properties[['new_neighb', 'latitude', 'longitude']]\\\n",
    "            .drop_duplicates('new_neighb').set_index('new_neighb') \\\n",
    "            .join(top_10, how='inner')\n",
    "map_data"
   ]
  },
  {
   "cell_type": "code",
   "execution_count": 36,
   "id": "e2eb46df",
   "metadata": {
    "scrolled": false
   },
   "outputs": [
    {
     "data": {
      "text/html": [
       "<div style=\"width:100%;\"><div style=\"position:relative;width:100%;height:0;padding-bottom:60%;\"><span style=\"color:#565656\">Make this Notebook Trusted to load map: File -> Trust Notebook</span><iframe srcdoc=\"&lt;!DOCTYPE html&gt;\n",
       "&lt;head&gt;    \n",
       "    &lt;meta http-equiv=&quot;content-type&quot; content=&quot;text/html; charset=UTF-8&quot; /&gt;\n",
       "    \n",
       "        &lt;script&gt;\n",
       "            L_NO_TOUCH = false;\n",
       "            L_DISABLE_3D = false;\n",
       "        &lt;/script&gt;\n",
       "    \n",
       "    &lt;style&gt;html, body {width: 100%;height: 100%;margin: 0;padding: 0;}&lt;/style&gt;\n",
       "    &lt;style&gt;#map {position:absolute;top:0;bottom:0;right:0;left:0;}&lt;/style&gt;\n",
       "    &lt;script src=&quot;https://cdn.jsdelivr.net/npm/leaflet@1.6.0/dist/leaflet.js&quot;&gt;&lt;/script&gt;\n",
       "    &lt;script src=&quot;https://code.jquery.com/jquery-1.12.4.min.js&quot;&gt;&lt;/script&gt;\n",
       "    &lt;script src=&quot;https://maxcdn.bootstrapcdn.com/bootstrap/3.2.0/js/bootstrap.min.js&quot;&gt;&lt;/script&gt;\n",
       "    &lt;script src=&quot;https://cdnjs.cloudflare.com/ajax/libs/Leaflet.awesome-markers/2.0.2/leaflet.awesome-markers.js&quot;&gt;&lt;/script&gt;\n",
       "    &lt;link rel=&quot;stylesheet&quot; href=&quot;https://cdn.jsdelivr.net/npm/leaflet@1.6.0/dist/leaflet.css&quot;/&gt;\n",
       "    &lt;link rel=&quot;stylesheet&quot; href=&quot;https://maxcdn.bootstrapcdn.com/bootstrap/3.2.0/css/bootstrap.min.css&quot;/&gt;\n",
       "    &lt;link rel=&quot;stylesheet&quot; href=&quot;https://maxcdn.bootstrapcdn.com/bootstrap/3.2.0/css/bootstrap-theme.min.css&quot;/&gt;\n",
       "    &lt;link rel=&quot;stylesheet&quot; href=&quot;https://maxcdn.bootstrapcdn.com/font-awesome/4.6.3/css/font-awesome.min.css&quot;/&gt;\n",
       "    &lt;link rel=&quot;stylesheet&quot; href=&quot;https://cdnjs.cloudflare.com/ajax/libs/Leaflet.awesome-markers/2.0.2/leaflet.awesome-markers.css&quot;/&gt;\n",
       "    &lt;link rel=&quot;stylesheet&quot; href=&quot;https://cdn.jsdelivr.net/gh/python-visualization/folium/folium/templates/leaflet.awesome.rotate.min.css&quot;/&gt;\n",
       "    \n",
       "            &lt;meta name=&quot;viewport&quot; content=&quot;width=device-width,\n",
       "                initial-scale=1.0, maximum-scale=1.0, user-scalable=no&quot; /&gt;\n",
       "            &lt;style&gt;\n",
       "                #map_ac69144eb505c31b85b13e72640f3f0e {\n",
       "                    position: relative;\n",
       "                    width: 100.0%;\n",
       "                    height: 100.0%;\n",
       "                    left: 0.0%;\n",
       "                    top: 0.0%;\n",
       "                }\n",
       "            &lt;/style&gt;\n",
       "        \n",
       "&lt;/head&gt;\n",
       "&lt;body&gt;    \n",
       "    \n",
       "            &lt;div class=&quot;folium-map&quot; id=&quot;map_ac69144eb505c31b85b13e72640f3f0e&quot; &gt;&lt;/div&gt;\n",
       "        \n",
       "&lt;/body&gt;\n",
       "&lt;script&gt;    \n",
       "    \n",
       "            var map_ac69144eb505c31b85b13e72640f3f0e = L.map(\n",
       "                &quot;map_ac69144eb505c31b85b13e72640f3f0e&quot;,\n",
       "                {\n",
       "                    center: [45.4215, -75.6972],\n",
       "                    crs: L.CRS.EPSG3857,\n",
       "                    zoom: 13,\n",
       "                    zoomControl: true,\n",
       "                    preferCanvas: false,\n",
       "                }\n",
       "            );\n",
       "\n",
       "            \n",
       "\n",
       "        \n",
       "    \n",
       "            var tile_layer_17bda51d3881a29db93a3fbafd83cf85 = L.tileLayer(\n",
       "                &quot;https://{s}.tile.openstreetmap.org/{z}/{x}/{y}.png&quot;,\n",
       "                {&quot;attribution&quot;: &quot;Data by \\u0026copy; \\u003ca href=\\&quot;http://openstreetmap.org\\&quot;\\u003eOpenStreetMap\\u003c/a\\u003e, under \\u003ca href=\\&quot;http://www.openstreetmap.org/copyright\\&quot;\\u003eODbL\\u003c/a\\u003e.&quot;, &quot;detectRetina&quot;: false, &quot;maxNativeZoom&quot;: 18, &quot;maxZoom&quot;: 18, &quot;minZoom&quot;: 0, &quot;noWrap&quot;: false, &quot;opacity&quot;: 1, &quot;subdomains&quot;: &quot;abc&quot;, &quot;tms&quot;: false}\n",
       "            ).addTo(map_ac69144eb505c31b85b13e72640f3f0e);\n",
       "        \n",
       "    \n",
       "            var marker_1bd6b1245152d171f39d91dd273d96b3 = L.marker(\n",
       "                [45.409122, -75.699116],\n",
       "                {}\n",
       "            ).addTo(map_ac69144eb505c31b85b13e72640f3f0e);\n",
       "        \n",
       "    \n",
       "        var popup_944c7704df139cc7ce66b2334cfe958f = L.popup({&quot;maxWidth&quot;: &quot;100%&quot;});\n",
       "\n",
       "        \n",
       "            var html_9d95cc63eae1adc38b8cb43481548dd9 = $(`&lt;div id=&quot;html_9d95cc63eae1adc38b8cb43481548dd9&quot; style=&quot;width: 100.0%; height: 100.0%;&quot;&gt;Ottawa (West Downtown area)&lt;/div&gt;`)[0];\n",
       "            popup_944c7704df139cc7ce66b2334cfe958f.setContent(html_9d95cc63eae1adc38b8cb43481548dd9);\n",
       "        \n",
       "\n",
       "        marker_1bd6b1245152d171f39d91dd273d96b3.bindPopup(popup_944c7704df139cc7ce66b2334cfe958f)\n",
       "        ;\n",
       "\n",
       "        \n",
       "    \n",
       "    \n",
       "            var marker_c25cd31fb079f171c36846118cf127a5 = L.marker(\n",
       "                [45.4295616, -75.6811447],\n",
       "                {}\n",
       "            ).addTo(map_ac69144eb505c31b85b13e72640f3f0e);\n",
       "        \n",
       "    \n",
       "        var popup_78c9b87336f28db52ac466895479d7e9 = L.popup({&quot;maxWidth&quot;: &quot;100%&quot;});\n",
       "\n",
       "        \n",
       "            var html_d6f2b9e64d80d5c9fb0abe9e72115c73 = $(`&lt;div id=&quot;html_d6f2b9e64d80d5c9fb0abe9e72115c73&quot; style=&quot;width: 100.0%; height: 100.0%;&quot;&gt;Ottawa (Lower Town / Sandy Hill / University of Ottawa)&lt;/div&gt;`)[0];\n",
       "            popup_78c9b87336f28db52ac466895479d7e9.setContent(html_d6f2b9e64d80d5c9fb0abe9e72115c73);\n",
       "        \n",
       "\n",
       "        marker_c25cd31fb079f171c36846118cf127a5.bindPopup(popup_78c9b87336f28db52ac466895479d7e9)\n",
       "        ;\n",
       "\n",
       "        \n",
       "    \n",
       "    \n",
       "            var marker_92c3a8fcd8d041901d77778418f605de = L.marker(\n",
       "                [45.3603592, -75.794487],\n",
       "                {}\n",
       "            ).addTo(map_ac69144eb505c31b85b13e72640f3f0e);\n",
       "        \n",
       "    \n",
       "        var popup_5a59a7688b9c6fae2b029c956a507782 = L.popup({&quot;maxWidth&quot;: &quot;100%&quot;});\n",
       "\n",
       "        \n",
       "            var html_856fe5a5249fa86a6929444679a86e9c = $(`&lt;div id=&quot;html_856fe5a5249fa86a6929444679a86e9c&quot; style=&quot;width: 100.0%; height: 100.0%;&quot;&gt;Ottawa (Britannia / Pinecrest)&lt;/div&gt;`)[0];\n",
       "            popup_5a59a7688b9c6fae2b029c956a507782.setContent(html_856fe5a5249fa86a6929444679a86e9c);\n",
       "        \n",
       "\n",
       "        marker_92c3a8fcd8d041901d77778418f605de.bindPopup(popup_5a59a7688b9c6fae2b029c956a507782)\n",
       "        ;\n",
       "\n",
       "        \n",
       "    \n",
       "    \n",
       "            var marker_99f0e5b4f099156a6def23d3cab90df6 = L.marker(\n",
       "                [45.4381714, -75.6757355],\n",
       "                {}\n",
       "            ).addTo(map_ac69144eb505c31b85b13e72640f3f0e);\n",
       "        \n",
       "    \n",
       "        var popup_1252ab7ffd97b4180c10d7bef380e323 = L.popup({&quot;maxWidth&quot;: &quot;100%&quot;});\n",
       "\n",
       "        \n",
       "            var html_9538eb4bf8efcb06b2ccee4a0876783d = $(`&lt;div id=&quot;html_9538eb4bf8efcb06b2ccee4a0876783d&quot; style=&quot;width: 100.0%; height: 100.0%;&quot;&gt;Ottawa (Vanier)&lt;/div&gt;`)[0];\n",
       "            popup_1252ab7ffd97b4180c10d7bef380e323.setContent(html_9538eb4bf8efcb06b2ccee4a0876783d);\n",
       "        \n",
       "\n",
       "        marker_99f0e5b4f099156a6def23d3cab90df6.bindPopup(popup_1252ab7ffd97b4180c10d7bef380e323)\n",
       "        ;\n",
       "\n",
       "        \n",
       "    \n",
       "    \n",
       "            var marker_f799e1d51524c4b3210e47e1515a627d = L.marker(\n",
       "                [45.407089, -75.731964],\n",
       "                {}\n",
       "            ).addTo(map_ac69144eb505c31b85b13e72640f3f0e);\n",
       "        \n",
       "    \n",
       "        var popup_e44338b92ca5da98b907045bd826a919 = L.popup({&quot;maxWidth&quot;: &quot;100%&quot;});\n",
       "\n",
       "        \n",
       "            var html_e81879606cd51423f7418944fad53a24 = $(`&lt;div id=&quot;html_e81879606cd51423f7418944fad53a24&quot; style=&quot;width: 100.0%; height: 100.0%;&quot;&gt;Ottawa West&lt;/div&gt;`)[0];\n",
       "            popup_e44338b92ca5da98b907045bd826a919.setContent(html_e81879606cd51423f7418944fad53a24);\n",
       "        \n",
       "\n",
       "        marker_f799e1d51524c4b3210e47e1515a627d.bindPopup(popup_e44338b92ca5da98b907045bd826a919)\n",
       "        ;\n",
       "\n",
       "        \n",
       "    \n",
       "    \n",
       "            var marker_e8e0e778186d8ac1b016d82a0f932468 = L.marker(\n",
       "                [45.3795013, -75.7264252],\n",
       "                {}\n",
       "            ).addTo(map_ac69144eb505c31b85b13e72640f3f0e);\n",
       "        \n",
       "    \n",
       "        var popup_9194fbcad7c24a5572bea8e34a16358b = L.popup({&quot;maxWidth&quot;: &quot;100%&quot;});\n",
       "\n",
       "        \n",
       "            var html_524affef82eedac97f8257e54ba4d9db = $(`&lt;div id=&quot;html_524affef82eedac97f8257e54ba4d9db&quot; style=&quot;width: 100.0%; height: 100.0%;&quot;&gt;Ottawa (Westboro)&lt;/div&gt;`)[0];\n",
       "            popup_9194fbcad7c24a5572bea8e34a16358b.setContent(html_524affef82eedac97f8257e54ba4d9db);\n",
       "        \n",
       "\n",
       "        marker_e8e0e778186d8ac1b016d82a0f932468.bindPopup(popup_9194fbcad7c24a5572bea8e34a16358b)\n",
       "        ;\n",
       "\n",
       "        \n",
       "    \n",
       "    \n",
       "            var marker_f1fa508ad2d31c0a5f3553f237c0bedd = L.marker(\n",
       "                [45.4007568, -75.7112885],\n",
       "                {}\n",
       "            ).addTo(map_ac69144eb505c31b85b13e72640f3f0e);\n",
       "        \n",
       "    \n",
       "        var popup_98a84620af78c96dd0b905c632f8d723 = L.popup({&quot;maxWidth&quot;: &quot;100%&quot;});\n",
       "\n",
       "        \n",
       "            var html_36edbaa6b688d9b3513864862bd51abc = $(`&lt;div id=&quot;html_36edbaa6b688d9b3513864862bd51abc&quot; style=&quot;width: 100.0%; height: 100.0%;&quot;&gt;Ottawa (The Glebe / Ottawa South / Ottawa East)&lt;/div&gt;`)[0];\n",
       "            popup_98a84620af78c96dd0b905c632f8d723.setContent(html_36edbaa6b688d9b3513864862bd51abc);\n",
       "        \n",
       "\n",
       "        marker_f1fa508ad2d31c0a5f3553f237c0bedd.bindPopup(popup_98a84620af78c96dd0b905c632f8d723)\n",
       "        ;\n",
       "\n",
       "        \n",
       "    \n",
       "    \n",
       "            var marker_5dd1ed82ace0c8e93e35d1c1c4b0062d = L.marker(\n",
       "                [45.4220657, -75.6975861],\n",
       "                {}\n",
       "            ).addTo(map_ac69144eb505c31b85b13e72640f3f0e);\n",
       "        \n",
       "    \n",
       "        var popup_4eaf37cfbfce436ac63b3d9172f415bf = L.popup({&quot;maxWidth&quot;: &quot;100%&quot;});\n",
       "\n",
       "        \n",
       "            var html_80779649c1aff22ae4f172627d1c7714 = $(`&lt;div id=&quot;html_80779649c1aff22ae4f172627d1c7714&quot; style=&quot;width: 100.0%; height: 100.0%;&quot;&gt;Ottawa (Parliament Hill)&lt;/div&gt;`)[0];\n",
       "            popup_4eaf37cfbfce436ac63b3d9172f415bf.setContent(html_80779649c1aff22ae4f172627d1c7714);\n",
       "        \n",
       "\n",
       "        marker_5dd1ed82ace0c8e93e35d1c1c4b0062d.bindPopup(popup_4eaf37cfbfce436ac63b3d9172f415bf)\n",
       "        ;\n",
       "\n",
       "        \n",
       "    \n",
       "    \n",
       "            var marker_45b2ef53f7e945f60e953a82069e2d10 = L.marker(\n",
       "                [45.4068947, -75.716568],\n",
       "                {}\n",
       "            ).addTo(map_ac69144eb505c31b85b13e72640f3f0e);\n",
       "        \n",
       "    \n",
       "        var popup_c76a27d1465e3214a46a00e32621206b = L.popup({&quot;maxWidth&quot;: &quot;100%&quot;});\n",
       "\n",
       "        \n",
       "            var html_6b5d4a74f39aa205662473247466df1a = $(`&lt;div id=&quot;html_6b5d4a74f39aa205662473247466df1a&quot; style=&quot;width: 100.0%; height: 100.0%;&quot;&gt;Ottawa (Centre Town)&lt;/div&gt;`)[0];\n",
       "            popup_c76a27d1465e3214a46a00e32621206b.setContent(html_6b5d4a74f39aa205662473247466df1a);\n",
       "        \n",
       "\n",
       "        marker_45b2ef53f7e945f60e953a82069e2d10.bindPopup(popup_c76a27d1465e3214a46a00e32621206b)\n",
       "        ;\n",
       "\n",
       "        \n",
       "    \n",
       "    \n",
       "            var marker_8265fe5a37cf97d73169b8dd2d51c18f = L.marker(\n",
       "                [45.4420586, -75.675148],\n",
       "                {}\n",
       "            ).addTo(map_ac69144eb505c31b85b13e72640f3f0e);\n",
       "        \n",
       "    \n",
       "        var popup_96f75861521c296f60ba0ee5e07be6dd = L.popup({&quot;maxWidth&quot;: &quot;100%&quot;});\n",
       "\n",
       "        \n",
       "            var html_efc23a2ce4b3e1a088f37e8d437ba269 = $(`&lt;div id=&quot;html_efc23a2ce4b3e1a088f37e8d437ba269&quot; style=&quot;width: 100.0%; height: 100.0%;&quot;&gt;Ottawa (Rockcliffe Park / New Edinburgh)&lt;/div&gt;`)[0];\n",
       "            popup_96f75861521c296f60ba0ee5e07be6dd.setContent(html_efc23a2ce4b3e1a088f37e8d437ba269);\n",
       "        \n",
       "\n",
       "        marker_8265fe5a37cf97d73169b8dd2d51c18f.bindPopup(popup_96f75861521c296f60ba0ee5e07be6dd)\n",
       "        ;\n",
       "\n",
       "        \n",
       "    \n",
       "&lt;/script&gt;\" style=\"position:absolute;width:100%;height:100%;left:0;top:0;border:none !important;\" allowfullscreen webkitallowfullscreen mozallowfullscreen></iframe></div></div>"
      ],
      "text/plain": [
       "<folium.folium.Map at 0x7f8fcbfdebb0>"
      ]
     },
     "execution_count": 36,
     "metadata": {},
     "output_type": "execute_result"
    }
   ],
   "source": [
    "#Creating a map of the top 10 most bikeable neighborhoods.\n",
    "import folium\n",
    "\n",
    "m = folium.Map(\n",
    "    location=[45.4215, -75.6972],\n",
    "    zoom_start=13\n",
    ")\n",
    "\n",
    "for x in map_data.iterrows():\n",
    "    folium.Marker([x[1].latitude, x[1].longitude],\n",
    "                 popup = x[0]).add_to(m)\n",
    "m"
   ]
  },
  {
   "cell_type": "markdown",
   "id": "6f86aaa9",
   "metadata": {},
   "source": [
    "### Mapping the top 10 neighborhoods with the best transit score"
   ]
  },
  {
   "cell_type": "code",
   "execution_count": 37,
   "id": "002e0204",
   "metadata": {},
   "outputs": [],
   "source": [
    "#Finding the top 10 neighborhoods that have the highest transit scores.\n",
    "top_10_transit = properties.groupby('new_neighb')[['transit_score']].mean().nlargest(10,'transit_score')"
   ]
  },
  {
   "cell_type": "code",
   "execution_count": 38,
   "id": "4917da96",
   "metadata": {},
   "outputs": [
    {
     "data": {
      "text/html": [
       "<div>\n",
       "<style scoped>\n",
       "    .dataframe tbody tr th:only-of-type {\n",
       "        vertical-align: middle;\n",
       "    }\n",
       "\n",
       "    .dataframe tbody tr th {\n",
       "        vertical-align: top;\n",
       "    }\n",
       "\n",
       "    .dataframe thead th {\n",
       "        text-align: right;\n",
       "    }\n",
       "</style>\n",
       "<table border=\"1\" class=\"dataframe\">\n",
       "  <thead>\n",
       "    <tr style=\"text-align: right;\">\n",
       "      <th></th>\n",
       "      <th>latitude</th>\n",
       "      <th>longitude</th>\n",
       "      <th>transit_score</th>\n",
       "    </tr>\n",
       "    <tr>\n",
       "      <th>new_neighb</th>\n",
       "      <th></th>\n",
       "      <th></th>\n",
       "      <th></th>\n",
       "    </tr>\n",
       "  </thead>\n",
       "  <tbody>\n",
       "    <tr>\n",
       "      <th>Ottawa (West Downtown area)</th>\n",
       "      <td>45.409122</td>\n",
       "      <td>-75.699116</td>\n",
       "      <td>81.508197</td>\n",
       "    </tr>\n",
       "    <tr>\n",
       "      <th>Ottawa (Lower Town / Sandy Hill / University of Ottawa)</th>\n",
       "      <td>45.4295616</td>\n",
       "      <td>-75.6811447</td>\n",
       "      <td>84.422535</td>\n",
       "    </tr>\n",
       "    <tr>\n",
       "      <th>Ottawa (Britannia / Pinecrest)</th>\n",
       "      <td>45.3603592</td>\n",
       "      <td>-75.794487</td>\n",
       "      <td>62.176471</td>\n",
       "    </tr>\n",
       "    <tr>\n",
       "      <th>Ottawa West</th>\n",
       "      <td>45.407089</td>\n",
       "      <td>-75.731964</td>\n",
       "      <td>77.783333</td>\n",
       "    </tr>\n",
       "    <tr>\n",
       "      <th>Ottawa (Westboro)</th>\n",
       "      <td>45.3795013</td>\n",
       "      <td>-75.7264252</td>\n",
       "      <td>64.9</td>\n",
       "    </tr>\n",
       "    <tr>\n",
       "      <th>Ottawa (The Glebe / Ottawa South / Ottawa East)</th>\n",
       "      <td>45.4007568</td>\n",
       "      <td>-75.7112885</td>\n",
       "      <td>65.25</td>\n",
       "    </tr>\n",
       "    <tr>\n",
       "      <th>Ottawa (Highland Park / Carlingwood)</th>\n",
       "      <td>45.3847389</td>\n",
       "      <td>-75.7602463</td>\n",
       "      <td>60.055556</td>\n",
       "    </tr>\n",
       "    <tr>\n",
       "      <th>Ottawa (Parliament Hill)</th>\n",
       "      <td>45.4220657</td>\n",
       "      <td>-75.6975861</td>\n",
       "      <td>91.875</td>\n",
       "    </tr>\n",
       "    <tr>\n",
       "      <th>Ottawa (Alta Vista)</th>\n",
       "      <td>45.3825302</td>\n",
       "      <td>-75.6490631</td>\n",
       "      <td>62.034483</td>\n",
       "    </tr>\n",
       "    <tr>\n",
       "      <th>Ottawa (Centre Town)</th>\n",
       "      <td>45.4068947</td>\n",
       "      <td>-75.716568</td>\n",
       "      <td>80.884615</td>\n",
       "    </tr>\n",
       "  </tbody>\n",
       "</table>\n",
       "</div>"
      ],
      "text/plain": [
       "                                                      latitude    longitude  \\\n",
       "new_neighb                                                                    \n",
       "Ottawa (West Downtown area)                          45.409122   -75.699116   \n",
       "Ottawa (Lower Town / Sandy Hill / University of...  45.4295616  -75.6811447   \n",
       "Ottawa (Britannia / Pinecrest)                      45.3603592   -75.794487   \n",
       "Ottawa West                                          45.407089   -75.731964   \n",
       "Ottawa (Westboro)                                   45.3795013  -75.7264252   \n",
       "Ottawa (The Glebe / Ottawa South / Ottawa East)     45.4007568  -75.7112885   \n",
       "Ottawa (Highland Park / Carlingwood)                45.3847389  -75.7602463   \n",
       "Ottawa (Parliament Hill)                            45.4220657  -75.6975861   \n",
       "Ottawa (Alta Vista)                                 45.3825302  -75.6490631   \n",
       "Ottawa (Centre Town)                                45.4068947   -75.716568   \n",
       "\n",
       "                                                    transit_score  \n",
       "new_neighb                                                         \n",
       "Ottawa (West Downtown area)                             81.508197  \n",
       "Ottawa (Lower Town / Sandy Hill / University of...      84.422535  \n",
       "Ottawa (Britannia / Pinecrest)                          62.176471  \n",
       "Ottawa West                                             77.783333  \n",
       "Ottawa (Westboro)                                            64.9  \n",
       "Ottawa (The Glebe / Ottawa South / Ottawa East)             65.25  \n",
       "Ottawa (Highland Park / Carlingwood)                    60.055556  \n",
       "Ottawa (Parliament Hill)                                   91.875  \n",
       "Ottawa (Alta Vista)                                     62.034483  \n",
       "Ottawa (Centre Town)                                    80.884615  "
      ]
     },
     "execution_count": 38,
     "metadata": {},
     "output_type": "execute_result"
    }
   ],
   "source": [
    "#Joining tables to get the latitude and lingitude for the neighborhoods\n",
    "map2_data = properties[['new_neighb', 'latitude', 'longitude']]\\\n",
    "            .drop_duplicates('new_neighb').set_index('new_neighb') \\\n",
    "            .join(top_10_transit, how='inner')\n",
    "map2_data"
   ]
  },
  {
   "cell_type": "code",
   "execution_count": 39,
   "id": "57a0f900",
   "metadata": {},
   "outputs": [
    {
     "data": {
      "text/html": [
       "<div style=\"width:100%;\"><div style=\"position:relative;width:100%;height:0;padding-bottom:60%;\"><span style=\"color:#565656\">Make this Notebook Trusted to load map: File -> Trust Notebook</span><iframe srcdoc=\"&lt;!DOCTYPE html&gt;\n",
       "&lt;head&gt;    \n",
       "    &lt;meta http-equiv=&quot;content-type&quot; content=&quot;text/html; charset=UTF-8&quot; /&gt;\n",
       "    \n",
       "        &lt;script&gt;\n",
       "            L_NO_TOUCH = false;\n",
       "            L_DISABLE_3D = false;\n",
       "        &lt;/script&gt;\n",
       "    \n",
       "    &lt;style&gt;html, body {width: 100%;height: 100%;margin: 0;padding: 0;}&lt;/style&gt;\n",
       "    &lt;style&gt;#map {position:absolute;top:0;bottom:0;right:0;left:0;}&lt;/style&gt;\n",
       "    &lt;script src=&quot;https://cdn.jsdelivr.net/npm/leaflet@1.6.0/dist/leaflet.js&quot;&gt;&lt;/script&gt;\n",
       "    &lt;script src=&quot;https://code.jquery.com/jquery-1.12.4.min.js&quot;&gt;&lt;/script&gt;\n",
       "    &lt;script src=&quot;https://maxcdn.bootstrapcdn.com/bootstrap/3.2.0/js/bootstrap.min.js&quot;&gt;&lt;/script&gt;\n",
       "    &lt;script src=&quot;https://cdnjs.cloudflare.com/ajax/libs/Leaflet.awesome-markers/2.0.2/leaflet.awesome-markers.js&quot;&gt;&lt;/script&gt;\n",
       "    &lt;link rel=&quot;stylesheet&quot; href=&quot;https://cdn.jsdelivr.net/npm/leaflet@1.6.0/dist/leaflet.css&quot;/&gt;\n",
       "    &lt;link rel=&quot;stylesheet&quot; href=&quot;https://maxcdn.bootstrapcdn.com/bootstrap/3.2.0/css/bootstrap.min.css&quot;/&gt;\n",
       "    &lt;link rel=&quot;stylesheet&quot; href=&quot;https://maxcdn.bootstrapcdn.com/bootstrap/3.2.0/css/bootstrap-theme.min.css&quot;/&gt;\n",
       "    &lt;link rel=&quot;stylesheet&quot; href=&quot;https://maxcdn.bootstrapcdn.com/font-awesome/4.6.3/css/font-awesome.min.css&quot;/&gt;\n",
       "    &lt;link rel=&quot;stylesheet&quot; href=&quot;https://cdnjs.cloudflare.com/ajax/libs/Leaflet.awesome-markers/2.0.2/leaflet.awesome-markers.css&quot;/&gt;\n",
       "    &lt;link rel=&quot;stylesheet&quot; href=&quot;https://cdn.jsdelivr.net/gh/python-visualization/folium/folium/templates/leaflet.awesome.rotate.min.css&quot;/&gt;\n",
       "    \n",
       "            &lt;meta name=&quot;viewport&quot; content=&quot;width=device-width,\n",
       "                initial-scale=1.0, maximum-scale=1.0, user-scalable=no&quot; /&gt;\n",
       "            &lt;style&gt;\n",
       "                #map_ea68fcdb2172f9e841aee0817e911df1 {\n",
       "                    position: relative;\n",
       "                    width: 100.0%;\n",
       "                    height: 100.0%;\n",
       "                    left: 0.0%;\n",
       "                    top: 0.0%;\n",
       "                }\n",
       "            &lt;/style&gt;\n",
       "        \n",
       "&lt;/head&gt;\n",
       "&lt;body&gt;    \n",
       "    \n",
       "            &lt;div class=&quot;folium-map&quot; id=&quot;map_ea68fcdb2172f9e841aee0817e911df1&quot; &gt;&lt;/div&gt;\n",
       "        \n",
       "&lt;/body&gt;\n",
       "&lt;script&gt;    \n",
       "    \n",
       "            var map_ea68fcdb2172f9e841aee0817e911df1 = L.map(\n",
       "                &quot;map_ea68fcdb2172f9e841aee0817e911df1&quot;,\n",
       "                {\n",
       "                    center: [45.4215, -75.6972],\n",
       "                    crs: L.CRS.EPSG3857,\n",
       "                    zoom: 13,\n",
       "                    zoomControl: true,\n",
       "                    preferCanvas: false,\n",
       "                }\n",
       "            );\n",
       "\n",
       "            \n",
       "\n",
       "        \n",
       "    \n",
       "            var tile_layer_249d684eaaef83e99e2d02d469e74fa8 = L.tileLayer(\n",
       "                &quot;https://{s}.tile.openstreetmap.org/{z}/{x}/{y}.png&quot;,\n",
       "                {&quot;attribution&quot;: &quot;Data by \\u0026copy; \\u003ca href=\\&quot;http://openstreetmap.org\\&quot;\\u003eOpenStreetMap\\u003c/a\\u003e, under \\u003ca href=\\&quot;http://www.openstreetmap.org/copyright\\&quot;\\u003eODbL\\u003c/a\\u003e.&quot;, &quot;detectRetina&quot;: false, &quot;maxNativeZoom&quot;: 18, &quot;maxZoom&quot;: 18, &quot;minZoom&quot;: 0, &quot;noWrap&quot;: false, &quot;opacity&quot;: 1, &quot;subdomains&quot;: &quot;abc&quot;, &quot;tms&quot;: false}\n",
       "            ).addTo(map_ea68fcdb2172f9e841aee0817e911df1);\n",
       "        \n",
       "    \n",
       "            var marker_358a162e4e4aa477c3567f83e60ad406 = L.marker(\n",
       "                [45.409122, -75.699116],\n",
       "                {}\n",
       "            ).addTo(map_ea68fcdb2172f9e841aee0817e911df1);\n",
       "        \n",
       "    \n",
       "        var popup_9e685a0c7b9a526106320e5d9da1bdad = L.popup({&quot;maxWidth&quot;: &quot;100%&quot;});\n",
       "\n",
       "        \n",
       "            var html_fa434c97021b6c92b6bfca3eb40b866d = $(`&lt;div id=&quot;html_fa434c97021b6c92b6bfca3eb40b866d&quot; style=&quot;width: 100.0%; height: 100.0%;&quot;&gt;Ottawa (West Downtown area)&lt;/div&gt;`)[0];\n",
       "            popup_9e685a0c7b9a526106320e5d9da1bdad.setContent(html_fa434c97021b6c92b6bfca3eb40b866d);\n",
       "        \n",
       "\n",
       "        marker_358a162e4e4aa477c3567f83e60ad406.bindPopup(popup_9e685a0c7b9a526106320e5d9da1bdad)\n",
       "        ;\n",
       "\n",
       "        \n",
       "    \n",
       "    \n",
       "            var marker_3f9e29a3994233f4377f1cce667f4872 = L.marker(\n",
       "                [45.4295616, -75.6811447],\n",
       "                {}\n",
       "            ).addTo(map_ea68fcdb2172f9e841aee0817e911df1);\n",
       "        \n",
       "    \n",
       "        var popup_2e2fac6781293907c4d69221ddc319c8 = L.popup({&quot;maxWidth&quot;: &quot;100%&quot;});\n",
       "\n",
       "        \n",
       "            var html_37654499f256b7323c075e30d1ff9d83 = $(`&lt;div id=&quot;html_37654499f256b7323c075e30d1ff9d83&quot; style=&quot;width: 100.0%; height: 100.0%;&quot;&gt;Ottawa (Lower Town / Sandy Hill / University of Ottawa)&lt;/div&gt;`)[0];\n",
       "            popup_2e2fac6781293907c4d69221ddc319c8.setContent(html_37654499f256b7323c075e30d1ff9d83);\n",
       "        \n",
       "\n",
       "        marker_3f9e29a3994233f4377f1cce667f4872.bindPopup(popup_2e2fac6781293907c4d69221ddc319c8)\n",
       "        ;\n",
       "\n",
       "        \n",
       "    \n",
       "    \n",
       "            var marker_9bdd8ee4323951c3fe6edf73750b056f = L.marker(\n",
       "                [45.3603592, -75.794487],\n",
       "                {}\n",
       "            ).addTo(map_ea68fcdb2172f9e841aee0817e911df1);\n",
       "        \n",
       "    \n",
       "        var popup_59790974fd832f5759d7921a675063c0 = L.popup({&quot;maxWidth&quot;: &quot;100%&quot;});\n",
       "\n",
       "        \n",
       "            var html_818fb8c6b360f892079427d8a95b0981 = $(`&lt;div id=&quot;html_818fb8c6b360f892079427d8a95b0981&quot; style=&quot;width: 100.0%; height: 100.0%;&quot;&gt;Ottawa (Britannia / Pinecrest)&lt;/div&gt;`)[0];\n",
       "            popup_59790974fd832f5759d7921a675063c0.setContent(html_818fb8c6b360f892079427d8a95b0981);\n",
       "        \n",
       "\n",
       "        marker_9bdd8ee4323951c3fe6edf73750b056f.bindPopup(popup_59790974fd832f5759d7921a675063c0)\n",
       "        ;\n",
       "\n",
       "        \n",
       "    \n",
       "    \n",
       "            var marker_ad26e862cdc7fc6d11b4d54a31ac9a03 = L.marker(\n",
       "                [45.407089, -75.731964],\n",
       "                {}\n",
       "            ).addTo(map_ea68fcdb2172f9e841aee0817e911df1);\n",
       "        \n",
       "    \n",
       "        var popup_81551f6482b7e47d2564ebf4e005bb89 = L.popup({&quot;maxWidth&quot;: &quot;100%&quot;});\n",
       "\n",
       "        \n",
       "            var html_3c75050487669548f4b16e7d849ebeef = $(`&lt;div id=&quot;html_3c75050487669548f4b16e7d849ebeef&quot; style=&quot;width: 100.0%; height: 100.0%;&quot;&gt;Ottawa West&lt;/div&gt;`)[0];\n",
       "            popup_81551f6482b7e47d2564ebf4e005bb89.setContent(html_3c75050487669548f4b16e7d849ebeef);\n",
       "        \n",
       "\n",
       "        marker_ad26e862cdc7fc6d11b4d54a31ac9a03.bindPopup(popup_81551f6482b7e47d2564ebf4e005bb89)\n",
       "        ;\n",
       "\n",
       "        \n",
       "    \n",
       "    \n",
       "            var marker_47a8f8944e36535c3cc68d513c5a0af2 = L.marker(\n",
       "                [45.3795013, -75.7264252],\n",
       "                {}\n",
       "            ).addTo(map_ea68fcdb2172f9e841aee0817e911df1);\n",
       "        \n",
       "    \n",
       "        var popup_4fc492ef74563c8cc47e02819f2159ed = L.popup({&quot;maxWidth&quot;: &quot;100%&quot;});\n",
       "\n",
       "        \n",
       "            var html_deabbbadfe472353eeb9d2f527ffc863 = $(`&lt;div id=&quot;html_deabbbadfe472353eeb9d2f527ffc863&quot; style=&quot;width: 100.0%; height: 100.0%;&quot;&gt;Ottawa (Westboro)&lt;/div&gt;`)[0];\n",
       "            popup_4fc492ef74563c8cc47e02819f2159ed.setContent(html_deabbbadfe472353eeb9d2f527ffc863);\n",
       "        \n",
       "\n",
       "        marker_47a8f8944e36535c3cc68d513c5a0af2.bindPopup(popup_4fc492ef74563c8cc47e02819f2159ed)\n",
       "        ;\n",
       "\n",
       "        \n",
       "    \n",
       "    \n",
       "            var marker_512d42882caf196feeb05e7481af2ff5 = L.marker(\n",
       "                [45.4007568, -75.7112885],\n",
       "                {}\n",
       "            ).addTo(map_ea68fcdb2172f9e841aee0817e911df1);\n",
       "        \n",
       "    \n",
       "        var popup_911b66a327a01613863c030b4c73e64c = L.popup({&quot;maxWidth&quot;: &quot;100%&quot;});\n",
       "\n",
       "        \n",
       "            var html_ace978335a9865b34436438d42d786fe = $(`&lt;div id=&quot;html_ace978335a9865b34436438d42d786fe&quot; style=&quot;width: 100.0%; height: 100.0%;&quot;&gt;Ottawa (The Glebe / Ottawa South / Ottawa East)&lt;/div&gt;`)[0];\n",
       "            popup_911b66a327a01613863c030b4c73e64c.setContent(html_ace978335a9865b34436438d42d786fe);\n",
       "        \n",
       "\n",
       "        marker_512d42882caf196feeb05e7481af2ff5.bindPopup(popup_911b66a327a01613863c030b4c73e64c)\n",
       "        ;\n",
       "\n",
       "        \n",
       "    \n",
       "    \n",
       "            var marker_ce646b89fcb33c02a19be7606db0a467 = L.marker(\n",
       "                [45.3847389, -75.7602463],\n",
       "                {}\n",
       "            ).addTo(map_ea68fcdb2172f9e841aee0817e911df1);\n",
       "        \n",
       "    \n",
       "        var popup_f8328a4224fbf8e3f49dceb0e47bb58f = L.popup({&quot;maxWidth&quot;: &quot;100%&quot;});\n",
       "\n",
       "        \n",
       "            var html_45555c3b2fd812d8fcb7731b1e9ab57d = $(`&lt;div id=&quot;html_45555c3b2fd812d8fcb7731b1e9ab57d&quot; style=&quot;width: 100.0%; height: 100.0%;&quot;&gt;Ottawa (Highland Park / Carlingwood)&lt;/div&gt;`)[0];\n",
       "            popup_f8328a4224fbf8e3f49dceb0e47bb58f.setContent(html_45555c3b2fd812d8fcb7731b1e9ab57d);\n",
       "        \n",
       "\n",
       "        marker_ce646b89fcb33c02a19be7606db0a467.bindPopup(popup_f8328a4224fbf8e3f49dceb0e47bb58f)\n",
       "        ;\n",
       "\n",
       "        \n",
       "    \n",
       "    \n",
       "            var marker_8dde3f0b35906a6d5304f20564c919e9 = L.marker(\n",
       "                [45.4220657, -75.6975861],\n",
       "                {}\n",
       "            ).addTo(map_ea68fcdb2172f9e841aee0817e911df1);\n",
       "        \n",
       "    \n",
       "        var popup_43e77abd30df1e920b89176b314b1a12 = L.popup({&quot;maxWidth&quot;: &quot;100%&quot;});\n",
       "\n",
       "        \n",
       "            var html_012b29a58f910afb062812c6756f98a0 = $(`&lt;div id=&quot;html_012b29a58f910afb062812c6756f98a0&quot; style=&quot;width: 100.0%; height: 100.0%;&quot;&gt;Ottawa (Parliament Hill)&lt;/div&gt;`)[0];\n",
       "            popup_43e77abd30df1e920b89176b314b1a12.setContent(html_012b29a58f910afb062812c6756f98a0);\n",
       "        \n",
       "\n",
       "        marker_8dde3f0b35906a6d5304f20564c919e9.bindPopup(popup_43e77abd30df1e920b89176b314b1a12)\n",
       "        ;\n",
       "\n",
       "        \n",
       "    \n",
       "    \n",
       "            var marker_64918dbc6d18151fee99b097884fcf15 = L.marker(\n",
       "                [45.3825302, -75.6490631],\n",
       "                {}\n",
       "            ).addTo(map_ea68fcdb2172f9e841aee0817e911df1);\n",
       "        \n",
       "    \n",
       "        var popup_b415fcf733bdad201b3c03ae308764b5 = L.popup({&quot;maxWidth&quot;: &quot;100%&quot;});\n",
       "\n",
       "        \n",
       "            var html_726afaed0d2449ff74fc1c32ec12357f = $(`&lt;div id=&quot;html_726afaed0d2449ff74fc1c32ec12357f&quot; style=&quot;width: 100.0%; height: 100.0%;&quot;&gt;Ottawa (Alta Vista)&lt;/div&gt;`)[0];\n",
       "            popup_b415fcf733bdad201b3c03ae308764b5.setContent(html_726afaed0d2449ff74fc1c32ec12357f);\n",
       "        \n",
       "\n",
       "        marker_64918dbc6d18151fee99b097884fcf15.bindPopup(popup_b415fcf733bdad201b3c03ae308764b5)\n",
       "        ;\n",
       "\n",
       "        \n",
       "    \n",
       "    \n",
       "            var marker_063b413503380e2ce36cb56a15ea3a64 = L.marker(\n",
       "                [45.4068947, -75.716568],\n",
       "                {}\n",
       "            ).addTo(map_ea68fcdb2172f9e841aee0817e911df1);\n",
       "        \n",
       "    \n",
       "        var popup_d1ad42bab960a55edc68688b3146f064 = L.popup({&quot;maxWidth&quot;: &quot;100%&quot;});\n",
       "\n",
       "        \n",
       "            var html_964282721995f26bb4adf4f67b67b1d6 = $(`&lt;div id=&quot;html_964282721995f26bb4adf4f67b67b1d6&quot; style=&quot;width: 100.0%; height: 100.0%;&quot;&gt;Ottawa (Centre Town)&lt;/div&gt;`)[0];\n",
       "            popup_d1ad42bab960a55edc68688b3146f064.setContent(html_964282721995f26bb4adf4f67b67b1d6);\n",
       "        \n",
       "\n",
       "        marker_063b413503380e2ce36cb56a15ea3a64.bindPopup(popup_d1ad42bab960a55edc68688b3146f064)\n",
       "        ;\n",
       "\n",
       "        \n",
       "    \n",
       "&lt;/script&gt;\" style=\"position:absolute;width:100%;height:100%;left:0;top:0;border:none !important;\" allowfullscreen webkitallowfullscreen mozallowfullscreen></iframe></div></div>"
      ],
      "text/plain": [
       "<folium.folium.Map at 0x7f8fd8b79670>"
      ]
     },
     "execution_count": 39,
     "metadata": {},
     "output_type": "execute_result"
    }
   ],
   "source": [
    "#Creating the map\n",
    "import folium\n",
    "\n",
    "m = folium.Map(\n",
    "    location=[45.4215, -75.6972],\n",
    "    zoom_start=13\n",
    ")\n",
    "\n",
    "for x in map2_data.iterrows():\n",
    "    folium.Marker([x[1].latitude, x[1].longitude],\n",
    "                 popup = x[0]).add_to(m)\n",
    "m    "
   ]
  },
  {
   "cell_type": "markdown",
   "id": "a9c4128c",
   "metadata": {},
   "source": [
    "### Mapping the top most walkable 10 neighborhoods "
   ]
  },
  {
   "cell_type": "code",
   "execution_count": 40,
   "id": "7d7f0a20",
   "metadata": {},
   "outputs": [],
   "source": [
    "#Finding the top 10 neighborhoods that have the highest bike scores.\n",
    "top_10_walk = properties.groupby('new_neighb')[['walk_score']].mean().nlargest(10,'walk_score')"
   ]
  },
  {
   "cell_type": "code",
   "execution_count": 41,
   "id": "1972540d",
   "metadata": {},
   "outputs": [
    {
     "data": {
      "text/html": [
       "<div>\n",
       "<style scoped>\n",
       "    .dataframe tbody tr th:only-of-type {\n",
       "        vertical-align: middle;\n",
       "    }\n",
       "\n",
       "    .dataframe tbody tr th {\n",
       "        vertical-align: top;\n",
       "    }\n",
       "\n",
       "    .dataframe thead th {\n",
       "        text-align: right;\n",
       "    }\n",
       "</style>\n",
       "<table border=\"1\" class=\"dataframe\">\n",
       "  <thead>\n",
       "    <tr style=\"text-align: right;\">\n",
       "      <th></th>\n",
       "      <th>latitude</th>\n",
       "      <th>longitude</th>\n",
       "      <th>walk_score</th>\n",
       "    </tr>\n",
       "    <tr>\n",
       "      <th>new_neighb</th>\n",
       "      <th></th>\n",
       "      <th></th>\n",
       "      <th></th>\n",
       "    </tr>\n",
       "  </thead>\n",
       "  <tbody>\n",
       "    <tr>\n",
       "      <th>Ottawa (West Downtown area)</th>\n",
       "      <td>45.409122</td>\n",
       "      <td>-75.699116</td>\n",
       "      <td>87.508197</td>\n",
       "    </tr>\n",
       "    <tr>\n",
       "      <th>Ottawa (Lower Town / Sandy Hill / University of Ottawa)</th>\n",
       "      <td>45.4295616</td>\n",
       "      <td>-75.6811447</td>\n",
       "      <td>89.042254</td>\n",
       "    </tr>\n",
       "    <tr>\n",
       "      <th>Ottawa (Vanier)</th>\n",
       "      <td>45.4381714</td>\n",
       "      <td>-75.6757355</td>\n",
       "      <td>71.294118</td>\n",
       "    </tr>\n",
       "    <tr>\n",
       "      <th>Ottawa West</th>\n",
       "      <td>45.407089</td>\n",
       "      <td>-75.731964</td>\n",
       "      <td>74.295082</td>\n",
       "    </tr>\n",
       "    <tr>\n",
       "      <th>Ottawa (Westboro)</th>\n",
       "      <td>45.3795013</td>\n",
       "      <td>-75.7264252</td>\n",
       "      <td>71.325</td>\n",
       "    </tr>\n",
       "    <tr>\n",
       "      <th>Ottawa (The Glebe / Ottawa South / Ottawa East)</th>\n",
       "      <td>45.4007568</td>\n",
       "      <td>-75.7112885</td>\n",
       "      <td>72.909091</td>\n",
       "    </tr>\n",
       "    <tr>\n",
       "      <th>Ottawa (Highland Park / Carlingwood)</th>\n",
       "      <td>45.3847389</td>\n",
       "      <td>-75.7602463</td>\n",
       "      <td>68.138889</td>\n",
       "    </tr>\n",
       "    <tr>\n",
       "      <th>Ottawa (Parliament Hill)</th>\n",
       "      <td>45.4220657</td>\n",
       "      <td>-75.6975861</td>\n",
       "      <td>96.75</td>\n",
       "    </tr>\n",
       "    <tr>\n",
       "      <th>Ottawa (Centre Town)</th>\n",
       "      <td>45.4068947</td>\n",
       "      <td>-75.716568</td>\n",
       "      <td>92.423077</td>\n",
       "    </tr>\n",
       "    <tr>\n",
       "      <th>Ottawa (Rockcliffe Park / New Edinburgh)</th>\n",
       "      <td>45.4420586</td>\n",
       "      <td>-75.675148</td>\n",
       "      <td>73.952381</td>\n",
       "    </tr>\n",
       "  </tbody>\n",
       "</table>\n",
       "</div>"
      ],
      "text/plain": [
       "                                                      latitude    longitude  \\\n",
       "new_neighb                                                                    \n",
       "Ottawa (West Downtown area)                          45.409122   -75.699116   \n",
       "Ottawa (Lower Town / Sandy Hill / University of...  45.4295616  -75.6811447   \n",
       "Ottawa (Vanier)                                     45.4381714  -75.6757355   \n",
       "Ottawa West                                          45.407089   -75.731964   \n",
       "Ottawa (Westboro)                                   45.3795013  -75.7264252   \n",
       "Ottawa (The Glebe / Ottawa South / Ottawa East)     45.4007568  -75.7112885   \n",
       "Ottawa (Highland Park / Carlingwood)                45.3847389  -75.7602463   \n",
       "Ottawa (Parliament Hill)                            45.4220657  -75.6975861   \n",
       "Ottawa (Centre Town)                                45.4068947   -75.716568   \n",
       "Ottawa (Rockcliffe Park / New Edinburgh)            45.4420586   -75.675148   \n",
       "\n",
       "                                                    walk_score  \n",
       "new_neighb                                                      \n",
       "Ottawa (West Downtown area)                          87.508197  \n",
       "Ottawa (Lower Town / Sandy Hill / University of...   89.042254  \n",
       "Ottawa (Vanier)                                      71.294118  \n",
       "Ottawa West                                          74.295082  \n",
       "Ottawa (Westboro)                                       71.325  \n",
       "Ottawa (The Glebe / Ottawa South / Ottawa East)      72.909091  \n",
       "Ottawa (Highland Park / Carlingwood)                 68.138889  \n",
       "Ottawa (Parliament Hill)                                 96.75  \n",
       "Ottawa (Centre Town)                                 92.423077  \n",
       "Ottawa (Rockcliffe Park / New Edinburgh)             73.952381  "
      ]
     },
     "execution_count": 41,
     "metadata": {},
     "output_type": "execute_result"
    }
   ],
   "source": [
    "#Joining tables to get the latitude and lingitude for the neighborhoods\n",
    "map3_data = properties[['new_neighb', 'latitude', 'longitude']]\\\n",
    "            .drop_duplicates('new_neighb').set_index('new_neighb') \\\n",
    "            .join(top_10_walk, how='inner')\n",
    "map3_data"
   ]
  },
  {
   "cell_type": "code",
   "execution_count": 42,
   "id": "2662731a",
   "metadata": {
    "scrolled": false
   },
   "outputs": [
    {
     "data": {
      "text/html": [
       "<div style=\"width:100%;\"><div style=\"position:relative;width:100%;height:0;padding-bottom:60%;\"><span style=\"color:#565656\">Make this Notebook Trusted to load map: File -> Trust Notebook</span><iframe srcdoc=\"&lt;!DOCTYPE html&gt;\n",
       "&lt;head&gt;    \n",
       "    &lt;meta http-equiv=&quot;content-type&quot; content=&quot;text/html; charset=UTF-8&quot; /&gt;\n",
       "    \n",
       "        &lt;script&gt;\n",
       "            L_NO_TOUCH = false;\n",
       "            L_DISABLE_3D = false;\n",
       "        &lt;/script&gt;\n",
       "    \n",
       "    &lt;style&gt;html, body {width: 100%;height: 100%;margin: 0;padding: 0;}&lt;/style&gt;\n",
       "    &lt;style&gt;#map {position:absolute;top:0;bottom:0;right:0;left:0;}&lt;/style&gt;\n",
       "    &lt;script src=&quot;https://cdn.jsdelivr.net/npm/leaflet@1.6.0/dist/leaflet.js&quot;&gt;&lt;/script&gt;\n",
       "    &lt;script src=&quot;https://code.jquery.com/jquery-1.12.4.min.js&quot;&gt;&lt;/script&gt;\n",
       "    &lt;script src=&quot;https://maxcdn.bootstrapcdn.com/bootstrap/3.2.0/js/bootstrap.min.js&quot;&gt;&lt;/script&gt;\n",
       "    &lt;script src=&quot;https://cdnjs.cloudflare.com/ajax/libs/Leaflet.awesome-markers/2.0.2/leaflet.awesome-markers.js&quot;&gt;&lt;/script&gt;\n",
       "    &lt;link rel=&quot;stylesheet&quot; href=&quot;https://cdn.jsdelivr.net/npm/leaflet@1.6.0/dist/leaflet.css&quot;/&gt;\n",
       "    &lt;link rel=&quot;stylesheet&quot; href=&quot;https://maxcdn.bootstrapcdn.com/bootstrap/3.2.0/css/bootstrap.min.css&quot;/&gt;\n",
       "    &lt;link rel=&quot;stylesheet&quot; href=&quot;https://maxcdn.bootstrapcdn.com/bootstrap/3.2.0/css/bootstrap-theme.min.css&quot;/&gt;\n",
       "    &lt;link rel=&quot;stylesheet&quot; href=&quot;https://maxcdn.bootstrapcdn.com/font-awesome/4.6.3/css/font-awesome.min.css&quot;/&gt;\n",
       "    &lt;link rel=&quot;stylesheet&quot; href=&quot;https://cdnjs.cloudflare.com/ajax/libs/Leaflet.awesome-markers/2.0.2/leaflet.awesome-markers.css&quot;/&gt;\n",
       "    &lt;link rel=&quot;stylesheet&quot; href=&quot;https://cdn.jsdelivr.net/gh/python-visualization/folium/folium/templates/leaflet.awesome.rotate.min.css&quot;/&gt;\n",
       "    \n",
       "            &lt;meta name=&quot;viewport&quot; content=&quot;width=device-width,\n",
       "                initial-scale=1.0, maximum-scale=1.0, user-scalable=no&quot; /&gt;\n",
       "            &lt;style&gt;\n",
       "                #map_83e48866572bd1f4bb62117c7c229503 {\n",
       "                    position: relative;\n",
       "                    width: 100.0%;\n",
       "                    height: 100.0%;\n",
       "                    left: 0.0%;\n",
       "                    top: 0.0%;\n",
       "                }\n",
       "            &lt;/style&gt;\n",
       "        \n",
       "&lt;/head&gt;\n",
       "&lt;body&gt;    \n",
       "    \n",
       "            &lt;div class=&quot;folium-map&quot; id=&quot;map_83e48866572bd1f4bb62117c7c229503&quot; &gt;&lt;/div&gt;\n",
       "        \n",
       "&lt;/body&gt;\n",
       "&lt;script&gt;    \n",
       "    \n",
       "            var map_83e48866572bd1f4bb62117c7c229503 = L.map(\n",
       "                &quot;map_83e48866572bd1f4bb62117c7c229503&quot;,\n",
       "                {\n",
       "                    center: [45.4215, -75.6972],\n",
       "                    crs: L.CRS.EPSG3857,\n",
       "                    zoom: 13,\n",
       "                    zoomControl: true,\n",
       "                    preferCanvas: false,\n",
       "                }\n",
       "            );\n",
       "\n",
       "            \n",
       "\n",
       "        \n",
       "    \n",
       "            var tile_layer_336af9131a8ec19e9b692a3b031a1f4e = L.tileLayer(\n",
       "                &quot;https://{s}.tile.openstreetmap.org/{z}/{x}/{y}.png&quot;,\n",
       "                {&quot;attribution&quot;: &quot;Data by \\u0026copy; \\u003ca href=\\&quot;http://openstreetmap.org\\&quot;\\u003eOpenStreetMap\\u003c/a\\u003e, under \\u003ca href=\\&quot;http://www.openstreetmap.org/copyright\\&quot;\\u003eODbL\\u003c/a\\u003e.&quot;, &quot;detectRetina&quot;: false, &quot;maxNativeZoom&quot;: 18, &quot;maxZoom&quot;: 18, &quot;minZoom&quot;: 0, &quot;noWrap&quot;: false, &quot;opacity&quot;: 1, &quot;subdomains&quot;: &quot;abc&quot;, &quot;tms&quot;: false}\n",
       "            ).addTo(map_83e48866572bd1f4bb62117c7c229503);\n",
       "        \n",
       "    \n",
       "            var marker_2df149fc1af923e66821dd47f920b7ed = L.marker(\n",
       "                [45.409122, -75.699116],\n",
       "                {}\n",
       "            ).addTo(map_83e48866572bd1f4bb62117c7c229503);\n",
       "        \n",
       "    \n",
       "        var popup_3568579f9afa7a787ff2cc2478a8b2a4 = L.popup({&quot;maxWidth&quot;: &quot;100%&quot;});\n",
       "\n",
       "        \n",
       "            var html_02ffa6be14e833402de34c527c45706e = $(`&lt;div id=&quot;html_02ffa6be14e833402de34c527c45706e&quot; style=&quot;width: 100.0%; height: 100.0%;&quot;&gt;Ottawa (West Downtown area)&lt;/div&gt;`)[0];\n",
       "            popup_3568579f9afa7a787ff2cc2478a8b2a4.setContent(html_02ffa6be14e833402de34c527c45706e);\n",
       "        \n",
       "\n",
       "        marker_2df149fc1af923e66821dd47f920b7ed.bindPopup(popup_3568579f9afa7a787ff2cc2478a8b2a4)\n",
       "        ;\n",
       "\n",
       "        \n",
       "    \n",
       "    \n",
       "            var marker_ced86f41c8074d3d4d5e9c4cefcd39af = L.marker(\n",
       "                [45.4295616, -75.6811447],\n",
       "                {}\n",
       "            ).addTo(map_83e48866572bd1f4bb62117c7c229503);\n",
       "        \n",
       "    \n",
       "        var popup_af17b6a3600492ea14e071bd07e5b171 = L.popup({&quot;maxWidth&quot;: &quot;100%&quot;});\n",
       "\n",
       "        \n",
       "            var html_cbfb06e51de32d4d49f4104bd7258ad3 = $(`&lt;div id=&quot;html_cbfb06e51de32d4d49f4104bd7258ad3&quot; style=&quot;width: 100.0%; height: 100.0%;&quot;&gt;Ottawa (Lower Town / Sandy Hill / University of Ottawa)&lt;/div&gt;`)[0];\n",
       "            popup_af17b6a3600492ea14e071bd07e5b171.setContent(html_cbfb06e51de32d4d49f4104bd7258ad3);\n",
       "        \n",
       "\n",
       "        marker_ced86f41c8074d3d4d5e9c4cefcd39af.bindPopup(popup_af17b6a3600492ea14e071bd07e5b171)\n",
       "        ;\n",
       "\n",
       "        \n",
       "    \n",
       "    \n",
       "            var marker_151da6afa2b7dec944ddddea190b21d2 = L.marker(\n",
       "                [45.4381714, -75.6757355],\n",
       "                {}\n",
       "            ).addTo(map_83e48866572bd1f4bb62117c7c229503);\n",
       "        \n",
       "    \n",
       "        var popup_90a8c31dca82618d1478dad466585105 = L.popup({&quot;maxWidth&quot;: &quot;100%&quot;});\n",
       "\n",
       "        \n",
       "            var html_f7880f70350be095f882c540133a5ac0 = $(`&lt;div id=&quot;html_f7880f70350be095f882c540133a5ac0&quot; style=&quot;width: 100.0%; height: 100.0%;&quot;&gt;Ottawa (Vanier)&lt;/div&gt;`)[0];\n",
       "            popup_90a8c31dca82618d1478dad466585105.setContent(html_f7880f70350be095f882c540133a5ac0);\n",
       "        \n",
       "\n",
       "        marker_151da6afa2b7dec944ddddea190b21d2.bindPopup(popup_90a8c31dca82618d1478dad466585105)\n",
       "        ;\n",
       "\n",
       "        \n",
       "    \n",
       "    \n",
       "            var marker_5a9c4723013dfc41c82ab511b4533b05 = L.marker(\n",
       "                [45.407089, -75.731964],\n",
       "                {}\n",
       "            ).addTo(map_83e48866572bd1f4bb62117c7c229503);\n",
       "        \n",
       "    \n",
       "        var popup_b6a36ef0a2b13305bd6a7fa9d4cd9410 = L.popup({&quot;maxWidth&quot;: &quot;100%&quot;});\n",
       "\n",
       "        \n",
       "            var html_a38b960e2e675986c2209bdca4dee4a7 = $(`&lt;div id=&quot;html_a38b960e2e675986c2209bdca4dee4a7&quot; style=&quot;width: 100.0%; height: 100.0%;&quot;&gt;Ottawa West&lt;/div&gt;`)[0];\n",
       "            popup_b6a36ef0a2b13305bd6a7fa9d4cd9410.setContent(html_a38b960e2e675986c2209bdca4dee4a7);\n",
       "        \n",
       "\n",
       "        marker_5a9c4723013dfc41c82ab511b4533b05.bindPopup(popup_b6a36ef0a2b13305bd6a7fa9d4cd9410)\n",
       "        ;\n",
       "\n",
       "        \n",
       "    \n",
       "    \n",
       "            var marker_7f7a0f7dceace2dfd585c42a8eae821b = L.marker(\n",
       "                [45.3795013, -75.7264252],\n",
       "                {}\n",
       "            ).addTo(map_83e48866572bd1f4bb62117c7c229503);\n",
       "        \n",
       "    \n",
       "        var popup_f19f4cef0d0ac388e48eb61a7a828d6d = L.popup({&quot;maxWidth&quot;: &quot;100%&quot;});\n",
       "\n",
       "        \n",
       "            var html_6cfe2d290c1cd967f31933b012b9d088 = $(`&lt;div id=&quot;html_6cfe2d290c1cd967f31933b012b9d088&quot; style=&quot;width: 100.0%; height: 100.0%;&quot;&gt;Ottawa (Westboro)&lt;/div&gt;`)[0];\n",
       "            popup_f19f4cef0d0ac388e48eb61a7a828d6d.setContent(html_6cfe2d290c1cd967f31933b012b9d088);\n",
       "        \n",
       "\n",
       "        marker_7f7a0f7dceace2dfd585c42a8eae821b.bindPopup(popup_f19f4cef0d0ac388e48eb61a7a828d6d)\n",
       "        ;\n",
       "\n",
       "        \n",
       "    \n",
       "    \n",
       "            var marker_39dd8a830cea7bd79148c215d9c428bb = L.marker(\n",
       "                [45.4007568, -75.7112885],\n",
       "                {}\n",
       "            ).addTo(map_83e48866572bd1f4bb62117c7c229503);\n",
       "        \n",
       "    \n",
       "        var popup_ef5bd04cc46737050047ff1b4c527b6b = L.popup({&quot;maxWidth&quot;: &quot;100%&quot;});\n",
       "\n",
       "        \n",
       "            var html_dd3787a4fc6348878d578aac3061f151 = $(`&lt;div id=&quot;html_dd3787a4fc6348878d578aac3061f151&quot; style=&quot;width: 100.0%; height: 100.0%;&quot;&gt;Ottawa (The Glebe / Ottawa South / Ottawa East)&lt;/div&gt;`)[0];\n",
       "            popup_ef5bd04cc46737050047ff1b4c527b6b.setContent(html_dd3787a4fc6348878d578aac3061f151);\n",
       "        \n",
       "\n",
       "        marker_39dd8a830cea7bd79148c215d9c428bb.bindPopup(popup_ef5bd04cc46737050047ff1b4c527b6b)\n",
       "        ;\n",
       "\n",
       "        \n",
       "    \n",
       "    \n",
       "            var marker_cf4b37a1bbf02cee7af90648d5732f16 = L.marker(\n",
       "                [45.3847389, -75.7602463],\n",
       "                {}\n",
       "            ).addTo(map_83e48866572bd1f4bb62117c7c229503);\n",
       "        \n",
       "    \n",
       "        var popup_6970108447840e550379e98c4a7bea1b = L.popup({&quot;maxWidth&quot;: &quot;100%&quot;});\n",
       "\n",
       "        \n",
       "            var html_377147a6239e600179eb1161dca27118 = $(`&lt;div id=&quot;html_377147a6239e600179eb1161dca27118&quot; style=&quot;width: 100.0%; height: 100.0%;&quot;&gt;Ottawa (Highland Park / Carlingwood)&lt;/div&gt;`)[0];\n",
       "            popup_6970108447840e550379e98c4a7bea1b.setContent(html_377147a6239e600179eb1161dca27118);\n",
       "        \n",
       "\n",
       "        marker_cf4b37a1bbf02cee7af90648d5732f16.bindPopup(popup_6970108447840e550379e98c4a7bea1b)\n",
       "        ;\n",
       "\n",
       "        \n",
       "    \n",
       "    \n",
       "            var marker_4903daa6a473bab34e7a3b49b2a23a1e = L.marker(\n",
       "                [45.4220657, -75.6975861],\n",
       "                {}\n",
       "            ).addTo(map_83e48866572bd1f4bb62117c7c229503);\n",
       "        \n",
       "    \n",
       "        var popup_c6ae42939375d6e7cd408e625604d492 = L.popup({&quot;maxWidth&quot;: &quot;100%&quot;});\n",
       "\n",
       "        \n",
       "            var html_137008b51ac406767f05e1de1d31ee49 = $(`&lt;div id=&quot;html_137008b51ac406767f05e1de1d31ee49&quot; style=&quot;width: 100.0%; height: 100.0%;&quot;&gt;Ottawa (Parliament Hill)&lt;/div&gt;`)[0];\n",
       "            popup_c6ae42939375d6e7cd408e625604d492.setContent(html_137008b51ac406767f05e1de1d31ee49);\n",
       "        \n",
       "\n",
       "        marker_4903daa6a473bab34e7a3b49b2a23a1e.bindPopup(popup_c6ae42939375d6e7cd408e625604d492)\n",
       "        ;\n",
       "\n",
       "        \n",
       "    \n",
       "    \n",
       "            var marker_0fa9f1d1462590a6425bfc9be892da96 = L.marker(\n",
       "                [45.4068947, -75.716568],\n",
       "                {}\n",
       "            ).addTo(map_83e48866572bd1f4bb62117c7c229503);\n",
       "        \n",
       "    \n",
       "        var popup_9c1b91ab9cfaa6bc0f73336e1d6226a9 = L.popup({&quot;maxWidth&quot;: &quot;100%&quot;});\n",
       "\n",
       "        \n",
       "            var html_46a734fc85a319aed5ff52a1f15f3846 = $(`&lt;div id=&quot;html_46a734fc85a319aed5ff52a1f15f3846&quot; style=&quot;width: 100.0%; height: 100.0%;&quot;&gt;Ottawa (Centre Town)&lt;/div&gt;`)[0];\n",
       "            popup_9c1b91ab9cfaa6bc0f73336e1d6226a9.setContent(html_46a734fc85a319aed5ff52a1f15f3846);\n",
       "        \n",
       "\n",
       "        marker_0fa9f1d1462590a6425bfc9be892da96.bindPopup(popup_9c1b91ab9cfaa6bc0f73336e1d6226a9)\n",
       "        ;\n",
       "\n",
       "        \n",
       "    \n",
       "    \n",
       "            var marker_350ef657517885e12df9b3cff364fb39 = L.marker(\n",
       "                [45.4420586, -75.675148],\n",
       "                {}\n",
       "            ).addTo(map_83e48866572bd1f4bb62117c7c229503);\n",
       "        \n",
       "    \n",
       "        var popup_e9dccb5c3d9f953a0cfd381b514af314 = L.popup({&quot;maxWidth&quot;: &quot;100%&quot;});\n",
       "\n",
       "        \n",
       "            var html_b14208fe89186da04edb34acfb40b4f4 = $(`&lt;div id=&quot;html_b14208fe89186da04edb34acfb40b4f4&quot; style=&quot;width: 100.0%; height: 100.0%;&quot;&gt;Ottawa (Rockcliffe Park / New Edinburgh)&lt;/div&gt;`)[0];\n",
       "            popup_e9dccb5c3d9f953a0cfd381b514af314.setContent(html_b14208fe89186da04edb34acfb40b4f4);\n",
       "        \n",
       "\n",
       "        marker_350ef657517885e12df9b3cff364fb39.bindPopup(popup_e9dccb5c3d9f953a0cfd381b514af314)\n",
       "        ;\n",
       "\n",
       "        \n",
       "    \n",
       "&lt;/script&gt;\" style=\"position:absolute;width:100%;height:100%;left:0;top:0;border:none !important;\" allowfullscreen webkitallowfullscreen mozallowfullscreen></iframe></div></div>"
      ],
      "text/plain": [
       "<folium.folium.Map at 0x7f8fd9ac2550>"
      ]
     },
     "execution_count": 42,
     "metadata": {},
     "output_type": "execute_result"
    }
   ],
   "source": [
    "#creating the map\n",
    "import folium\n",
    "\n",
    "m = folium.Map(\n",
    "    location=[45.4215, -75.6972],\n",
    "    zoom_start=13\n",
    ")\n",
    "\n",
    "for x in map3_data.iterrows():\n",
    "    folium.Marker([x[1].latitude, x[1].longitude],\n",
    "                 popup = x[0]).add_to(m)\n",
    "m"
   ]
  },
  {
   "cell_type": "markdown",
   "id": "ebab5326",
   "metadata": {},
   "source": [
    "### Finding neighborhoods that are most suitable for me"
   ]
  },
  {
   "cell_type": "markdown",
   "id": "b9b973a8",
   "metadata": {},
   "source": [
    "#### My wishes for buying a house:\n",
    "- At least 3 bedrooms\n",
    "- The neighborhood needs to have a walking score of more than 80\n",
    "- The neighborhood needs to have a bike score of more than 80\n",
    "- The neighborhood needs to have a transit score of more than 80\n",
    "- The price ideally shouldn't be higher than 900,000 CAD"
   ]
  },
  {
   "cell_type": "code",
   "execution_count": 43,
   "id": "de1e3252",
   "metadata": {},
   "outputs": [
    {
     "data": {
      "text/html": [
       "<div>\n",
       "<style scoped>\n",
       "    .dataframe tbody tr th:only-of-type {\n",
       "        vertical-align: middle;\n",
       "    }\n",
       "\n",
       "    .dataframe tbody tr th {\n",
       "        vertical-align: top;\n",
       "    }\n",
       "\n",
       "    .dataframe thead th {\n",
       "        text-align: right;\n",
       "    }\n",
       "</style>\n",
       "<table border=\"1\" class=\"dataframe\">\n",
       "  <thead>\n",
       "    <tr style=\"text-align: right;\">\n",
       "      <th></th>\n",
       "      <th>latitude</th>\n",
       "      <th>longitude</th>\n",
       "    </tr>\n",
       "    <tr>\n",
       "      <th>new_neighb</th>\n",
       "      <th></th>\n",
       "      <th></th>\n",
       "    </tr>\n",
       "  </thead>\n",
       "  <tbody>\n",
       "    <tr>\n",
       "      <th>Ottawa West</th>\n",
       "      <td>45.3983955</td>\n",
       "      <td>-75.7303009</td>\n",
       "    </tr>\n",
       "    <tr>\n",
       "      <th>Orleans (Fallingbrook)</th>\n",
       "      <td>45.421143</td>\n",
       "      <td>-75.690057</td>\n",
       "    </tr>\n",
       "    <tr>\n",
       "      <th>Ottawa (West Downtown area)</th>\n",
       "      <td>45.4180145</td>\n",
       "      <td>-75.7058182</td>\n",
       "    </tr>\n",
       "    <tr>\n",
       "      <th>Ottawa (Lower Town / Sandy Hill / University of Ottawa)</th>\n",
       "      <td>45.4323997</td>\n",
       "      <td>-75.6898041</td>\n",
       "    </tr>\n",
       "    <tr>\n",
       "      <th>Ottawa (Centre Town)</th>\n",
       "      <td>45.4154282</td>\n",
       "      <td>-75.6996002</td>\n",
       "    </tr>\n",
       "  </tbody>\n",
       "</table>\n",
       "</div>"
      ],
      "text/plain": [
       "                                                      latitude    longitude\n",
       "new_neighb                                                                 \n",
       "Ottawa West                                         45.3983955  -75.7303009\n",
       "Orleans (Fallingbrook)                               45.421143   -75.690057\n",
       "Ottawa (West Downtown area)                         45.4180145  -75.7058182\n",
       "Ottawa (Lower Town / Sandy Hill / University of...  45.4323997  -75.6898041\n",
       "Ottawa (Centre Town)                                45.4154282  -75.6996002"
      ]
     },
     "execution_count": 43,
     "metadata": {},
     "output_type": "execute_result"
    }
   ],
   "source": [
    "#Filtering properties that match my wishes and getting the names of the Neighborhoods\n",
    "top_places = properties[(properties['num_beds'] >= 3) &\n",
    "           (properties['walk_score'] >80) &\n",
    "           (properties['bike_score'] >80) &\n",
    "           (properties['transit_score'] >80) &\n",
    "           (properties['price'] <= 900000)].drop_duplicates('new_neighb')\n",
    "\n",
    "#Setting up map data\n",
    "map_data4 = top_places[['new_neighb', 'latitude', 'longitude']].set_index('new_neighb')\n",
    "map_data4"
   ]
  },
  {
   "cell_type": "code",
   "execution_count": 44,
   "id": "442e0393",
   "metadata": {
    "scrolled": false
   },
   "outputs": [
    {
     "data": {
      "text/html": [
       "<div style=\"width:100%;\"><div style=\"position:relative;width:100%;height:0;padding-bottom:60%;\"><span style=\"color:#565656\">Make this Notebook Trusted to load map: File -> Trust Notebook</span><iframe srcdoc=\"&lt;!DOCTYPE html&gt;\n",
       "&lt;head&gt;    \n",
       "    &lt;meta http-equiv=&quot;content-type&quot; content=&quot;text/html; charset=UTF-8&quot; /&gt;\n",
       "    \n",
       "        &lt;script&gt;\n",
       "            L_NO_TOUCH = false;\n",
       "            L_DISABLE_3D = false;\n",
       "        &lt;/script&gt;\n",
       "    \n",
       "    &lt;style&gt;html, body {width: 100%;height: 100%;margin: 0;padding: 0;}&lt;/style&gt;\n",
       "    &lt;style&gt;#map {position:absolute;top:0;bottom:0;right:0;left:0;}&lt;/style&gt;\n",
       "    &lt;script src=&quot;https://cdn.jsdelivr.net/npm/leaflet@1.6.0/dist/leaflet.js&quot;&gt;&lt;/script&gt;\n",
       "    &lt;script src=&quot;https://code.jquery.com/jquery-1.12.4.min.js&quot;&gt;&lt;/script&gt;\n",
       "    &lt;script src=&quot;https://maxcdn.bootstrapcdn.com/bootstrap/3.2.0/js/bootstrap.min.js&quot;&gt;&lt;/script&gt;\n",
       "    &lt;script src=&quot;https://cdnjs.cloudflare.com/ajax/libs/Leaflet.awesome-markers/2.0.2/leaflet.awesome-markers.js&quot;&gt;&lt;/script&gt;\n",
       "    &lt;link rel=&quot;stylesheet&quot; href=&quot;https://cdn.jsdelivr.net/npm/leaflet@1.6.0/dist/leaflet.css&quot;/&gt;\n",
       "    &lt;link rel=&quot;stylesheet&quot; href=&quot;https://maxcdn.bootstrapcdn.com/bootstrap/3.2.0/css/bootstrap.min.css&quot;/&gt;\n",
       "    &lt;link rel=&quot;stylesheet&quot; href=&quot;https://maxcdn.bootstrapcdn.com/bootstrap/3.2.0/css/bootstrap-theme.min.css&quot;/&gt;\n",
       "    &lt;link rel=&quot;stylesheet&quot; href=&quot;https://maxcdn.bootstrapcdn.com/font-awesome/4.6.3/css/font-awesome.min.css&quot;/&gt;\n",
       "    &lt;link rel=&quot;stylesheet&quot; href=&quot;https://cdnjs.cloudflare.com/ajax/libs/Leaflet.awesome-markers/2.0.2/leaflet.awesome-markers.css&quot;/&gt;\n",
       "    &lt;link rel=&quot;stylesheet&quot; href=&quot;https://cdn.jsdelivr.net/gh/python-visualization/folium/folium/templates/leaflet.awesome.rotate.min.css&quot;/&gt;\n",
       "    \n",
       "            &lt;meta name=&quot;viewport&quot; content=&quot;width=device-width,\n",
       "                initial-scale=1.0, maximum-scale=1.0, user-scalable=no&quot; /&gt;\n",
       "            &lt;style&gt;\n",
       "                #map_7c3584164f0fe5f551254a592d45ff4a {\n",
       "                    position: relative;\n",
       "                    width: 100.0%;\n",
       "                    height: 100.0%;\n",
       "                    left: 0.0%;\n",
       "                    top: 0.0%;\n",
       "                }\n",
       "            &lt;/style&gt;\n",
       "        \n",
       "&lt;/head&gt;\n",
       "&lt;body&gt;    \n",
       "    \n",
       "            &lt;div class=&quot;folium-map&quot; id=&quot;map_7c3584164f0fe5f551254a592d45ff4a&quot; &gt;&lt;/div&gt;\n",
       "        \n",
       "&lt;/body&gt;\n",
       "&lt;script&gt;    \n",
       "    \n",
       "            var map_7c3584164f0fe5f551254a592d45ff4a = L.map(\n",
       "                &quot;map_7c3584164f0fe5f551254a592d45ff4a&quot;,\n",
       "                {\n",
       "                    center: [45.4215, -75.6972],\n",
       "                    crs: L.CRS.EPSG3857,\n",
       "                    zoom: 13,\n",
       "                    zoomControl: true,\n",
       "                    preferCanvas: false,\n",
       "                }\n",
       "            );\n",
       "\n",
       "            \n",
       "\n",
       "        \n",
       "    \n",
       "            var tile_layer_8271f110dbd006c973d2a4711aa270be = L.tileLayer(\n",
       "                &quot;https://{s}.tile.openstreetmap.org/{z}/{x}/{y}.png&quot;,\n",
       "                {&quot;attribution&quot;: &quot;Data by \\u0026copy; \\u003ca href=\\&quot;http://openstreetmap.org\\&quot;\\u003eOpenStreetMap\\u003c/a\\u003e, under \\u003ca href=\\&quot;http://www.openstreetmap.org/copyright\\&quot;\\u003eODbL\\u003c/a\\u003e.&quot;, &quot;detectRetina&quot;: false, &quot;maxNativeZoom&quot;: 18, &quot;maxZoom&quot;: 18, &quot;minZoom&quot;: 0, &quot;noWrap&quot;: false, &quot;opacity&quot;: 1, &quot;subdomains&quot;: &quot;abc&quot;, &quot;tms&quot;: false}\n",
       "            ).addTo(map_7c3584164f0fe5f551254a592d45ff4a);\n",
       "        \n",
       "    \n",
       "            var marker_dc5744ccf3af0ef51b0e5d095f1834dc = L.marker(\n",
       "                [45.3983955, -75.7303009],\n",
       "                {}\n",
       "            ).addTo(map_7c3584164f0fe5f551254a592d45ff4a);\n",
       "        \n",
       "    \n",
       "        var popup_80192c47799200a7198518022e81fab9 = L.popup({&quot;maxWidth&quot;: &quot;100%&quot;});\n",
       "\n",
       "        \n",
       "            var html_2e6d5db955aafe73ed90aaa0e92c503b = $(`&lt;div id=&quot;html_2e6d5db955aafe73ed90aaa0e92c503b&quot; style=&quot;width: 100.0%; height: 100.0%;&quot;&gt;Ottawa West&lt;/div&gt;`)[0];\n",
       "            popup_80192c47799200a7198518022e81fab9.setContent(html_2e6d5db955aafe73ed90aaa0e92c503b);\n",
       "        \n",
       "\n",
       "        marker_dc5744ccf3af0ef51b0e5d095f1834dc.bindPopup(popup_80192c47799200a7198518022e81fab9)\n",
       "        ;\n",
       "\n",
       "        \n",
       "    \n",
       "    \n",
       "            var marker_b090849b254e9792615ad0941da9ab9f = L.marker(\n",
       "                [45.421143, -75.690057],\n",
       "                {}\n",
       "            ).addTo(map_7c3584164f0fe5f551254a592d45ff4a);\n",
       "        \n",
       "    \n",
       "        var popup_2202383e18502ccf2e3fa793ecb216a7 = L.popup({&quot;maxWidth&quot;: &quot;100%&quot;});\n",
       "\n",
       "        \n",
       "            var html_7a92f27b2c762c1111afd135215572f4 = $(`&lt;div id=&quot;html_7a92f27b2c762c1111afd135215572f4&quot; style=&quot;width: 100.0%; height: 100.0%;&quot;&gt;Orleans (Fallingbrook)&lt;/div&gt;`)[0];\n",
       "            popup_2202383e18502ccf2e3fa793ecb216a7.setContent(html_7a92f27b2c762c1111afd135215572f4);\n",
       "        \n",
       "\n",
       "        marker_b090849b254e9792615ad0941da9ab9f.bindPopup(popup_2202383e18502ccf2e3fa793ecb216a7)\n",
       "        ;\n",
       "\n",
       "        \n",
       "    \n",
       "    \n",
       "            var marker_d4d2969561c1ed2143987175db10c496 = L.marker(\n",
       "                [45.4180145, -75.7058182],\n",
       "                {}\n",
       "            ).addTo(map_7c3584164f0fe5f551254a592d45ff4a);\n",
       "        \n",
       "    \n",
       "        var popup_7b76e4408a29dfc182dedc1f9d1bd4eb = L.popup({&quot;maxWidth&quot;: &quot;100%&quot;});\n",
       "\n",
       "        \n",
       "            var html_c0e4ce6bee2f46f88792255c9e79f5a6 = $(`&lt;div id=&quot;html_c0e4ce6bee2f46f88792255c9e79f5a6&quot; style=&quot;width: 100.0%; height: 100.0%;&quot;&gt;Ottawa (West Downtown area)&lt;/div&gt;`)[0];\n",
       "            popup_7b76e4408a29dfc182dedc1f9d1bd4eb.setContent(html_c0e4ce6bee2f46f88792255c9e79f5a6);\n",
       "        \n",
       "\n",
       "        marker_d4d2969561c1ed2143987175db10c496.bindPopup(popup_7b76e4408a29dfc182dedc1f9d1bd4eb)\n",
       "        ;\n",
       "\n",
       "        \n",
       "    \n",
       "    \n",
       "            var marker_65e9d5790d87af1af38ff57ad9e5f6fa = L.marker(\n",
       "                [45.4323997, -75.6898041],\n",
       "                {}\n",
       "            ).addTo(map_7c3584164f0fe5f551254a592d45ff4a);\n",
       "        \n",
       "    \n",
       "        var popup_84d2989d6751ce95d92766416abf8f19 = L.popup({&quot;maxWidth&quot;: &quot;100%&quot;});\n",
       "\n",
       "        \n",
       "            var html_42dd18b36dcf0deb48fbeff25b393ec6 = $(`&lt;div id=&quot;html_42dd18b36dcf0deb48fbeff25b393ec6&quot; style=&quot;width: 100.0%; height: 100.0%;&quot;&gt;Ottawa (Lower Town / Sandy Hill / University of Ottawa)&lt;/div&gt;`)[0];\n",
       "            popup_84d2989d6751ce95d92766416abf8f19.setContent(html_42dd18b36dcf0deb48fbeff25b393ec6);\n",
       "        \n",
       "\n",
       "        marker_65e9d5790d87af1af38ff57ad9e5f6fa.bindPopup(popup_84d2989d6751ce95d92766416abf8f19)\n",
       "        ;\n",
       "\n",
       "        \n",
       "    \n",
       "    \n",
       "            var marker_276d045d21a6db80dd297560c2c03cff = L.marker(\n",
       "                [45.4154282, -75.6996002],\n",
       "                {}\n",
       "            ).addTo(map_7c3584164f0fe5f551254a592d45ff4a);\n",
       "        \n",
       "    \n",
       "        var popup_43a0ba41a0e95341fef0de0cd82f53da = L.popup({&quot;maxWidth&quot;: &quot;100%&quot;});\n",
       "\n",
       "        \n",
       "            var html_c0b5dfc0f292776d59dd537e83fe93ba = $(`&lt;div id=&quot;html_c0b5dfc0f292776d59dd537e83fe93ba&quot; style=&quot;width: 100.0%; height: 100.0%;&quot;&gt;Ottawa (Centre Town)&lt;/div&gt;`)[0];\n",
       "            popup_43a0ba41a0e95341fef0de0cd82f53da.setContent(html_c0b5dfc0f292776d59dd537e83fe93ba);\n",
       "        \n",
       "\n",
       "        marker_276d045d21a6db80dd297560c2c03cff.bindPopup(popup_43a0ba41a0e95341fef0de0cd82f53da)\n",
       "        ;\n",
       "\n",
       "        \n",
       "    \n",
       "&lt;/script&gt;\" style=\"position:absolute;width:100%;height:100%;left:0;top:0;border:none !important;\" allowfullscreen webkitallowfullscreen mozallowfullscreen></iframe></div></div>"
      ],
      "text/plain": [
       "<folium.folium.Map at 0x7f8fb806aca0>"
      ]
     },
     "execution_count": 44,
     "metadata": {},
     "output_type": "execute_result"
    }
   ],
   "source": [
    "import folium\n",
    "\n",
    "m = folium.Map(\n",
    "    location=[45.4215, -75.6972],\n",
    "    zoom_start=13\n",
    ")\n",
    "\n",
    "for x in map_data4.iterrows():\n",
    "    folium.Marker([x[1].latitude, x[1].longitude],\n",
    "                 popup = x[0]).add_to(m)\n",
    "m\n"
   ]
  },
  {
   "cell_type": "markdown",
   "id": "ebecf749",
   "metadata": {},
   "source": [
    "### Using these top neighborhoods to find out the average price per bedroom"
   ]
  },
  {
   "cell_type": "code",
   "execution_count": 45,
   "id": "ddf6697f",
   "metadata": {},
   "outputs": [],
   "source": [
    "#Filtering the properties that are in the top neighborhoods.\n",
    "best_n = properties[properties['new_neighb'].isin(top_places['new_neighb'])]"
   ]
  },
  {
   "cell_type": "code",
   "execution_count": 46,
   "id": "b349059f",
   "metadata": {},
   "outputs": [],
   "source": [
    "#Getting the average price per neighborhood per number of bedrooms.\n",
    "avg_price_neighb = best_n.groupby(['num_beds', 'new_neighb'])['price'].mean().round()"
   ]
  },
  {
   "cell_type": "code",
   "execution_count": 47,
   "id": "798a8141",
   "metadata": {},
   "outputs": [
    {
     "data": {
      "application/vnd.plotly.v1+json": {
       "config": {
        "plotlyServerURL": "https://plot.ly"
       },
       "data": [
        {
         "marker": {
          "color": "steelblue"
         },
         "name": "1 beds",
         "type": "bar",
         "x": [
          "Orleans (Fallingbrook)",
          "Ottawa (Centre Town)",
          "Ottawa (Lower Town / Sandy Hill / University of Ottawa)",
          "Ottawa (West Downtown area)",
          "Ottawa West"
         ],
         "y": [
          419000,
          437024,
          400956,
          443671,
          394450
         ]
        },
        {
         "marker": {
          "color": "turquoise"
         },
         "name": "2 beds",
         "type": "bar",
         "x": [
          "Orleans (Fallingbrook)",
          "Ottawa (Centre Town)",
          "Ottawa (Lower Town / Sandy Hill / University of Ottawa)",
          "Ottawa (West Downtown area)",
          "Ottawa West"
         ],
         "y": [
          463510,
          730945,
          1121639,
          871597,
          863215
         ]
        },
        {
         "marker": {
          "color": "aquamarine"
         },
         "name": "3 beds",
         "type": "bar",
         "x": [
          "Orleans (Fallingbrook)",
          "Ottawa (Centre Town)",
          "Ottawa (Lower Town / Sandy Hill / University of Ottawa)",
          "Ottawa (West Downtown area)",
          "Ottawa West"
         ],
         "y": [
          637422,
          599000,
          1048436,
          739812,
          949022
         ]
        },
        {
         "marker": {
          "color": "seagreen"
         },
         "name": "4 beds",
         "type": "bar",
         "x": [
          "Orleans (Fallingbrook)",
          "Ottawa (Lower Town / Sandy Hill / University of Ottawa)",
          "Ottawa (West Downtown area)",
          "Ottawa West"
         ],
         "y": [
          835021,
          1289995,
          759900,
          1692611
         ]
        },
        {
         "marker": {
          "color": "mediumturquoise"
         },
         "name": "5 beds",
         "type": "bar",
         "x": [
          "Orleans (Fallingbrook)",
          "Ottawa (Centre Town)",
          "Ottawa (West Downtown area)",
          "Ottawa West"
         ],
         "y": [
          949646,
          1399500,
          624250,
          1100000
         ]
        },
        {
         "marker": {
          "color": "mediumseagreen"
         },
         "name": "6 beds",
         "type": "bar",
         "x": [
          "Orleans (Fallingbrook)",
          "Ottawa (West Downtown area)",
          "Ottawa West"
         ],
         "y": [
          974900,
          1250000,
          2995000
         ]
        },
        {
         "marker": {
          "color": "green"
         },
         "name": "7 beds",
         "type": "bar",
         "x": [
          "Ottawa (Lower Town / Sandy Hill / University of Ottawa)",
          "Ottawa (West Downtown area)",
          "Ottawa West"
         ],
         "y": [
          1500000,
          1199000,
          1999900
         ]
        }
       ],
       "layout": {
        "barmode": "group",
        "font": {
         "color": "black",
         "family": "Droid Sans",
         "size": 12
        },
        "plot_bgcolor": "rgba(0,0,0,0)",
        "template": {
         "data": {
          "bar": [
           {
            "error_x": {
             "color": "#2a3f5f"
            },
            "error_y": {
             "color": "#2a3f5f"
            },
            "marker": {
             "line": {
              "color": "#E5ECF6",
              "width": 0.5
             },
             "pattern": {
              "fillmode": "overlay",
              "size": 10,
              "solidity": 0.2
             }
            },
            "type": "bar"
           }
          ],
          "barpolar": [
           {
            "marker": {
             "line": {
              "color": "#E5ECF6",
              "width": 0.5
             },
             "pattern": {
              "fillmode": "overlay",
              "size": 10,
              "solidity": 0.2
             }
            },
            "type": "barpolar"
           }
          ],
          "carpet": [
           {
            "aaxis": {
             "endlinecolor": "#2a3f5f",
             "gridcolor": "white",
             "linecolor": "white",
             "minorgridcolor": "white",
             "startlinecolor": "#2a3f5f"
            },
            "baxis": {
             "endlinecolor": "#2a3f5f",
             "gridcolor": "white",
             "linecolor": "white",
             "minorgridcolor": "white",
             "startlinecolor": "#2a3f5f"
            },
            "type": "carpet"
           }
          ],
          "choropleth": [
           {
            "colorbar": {
             "outlinewidth": 0,
             "ticks": ""
            },
            "type": "choropleth"
           }
          ],
          "contour": [
           {
            "colorbar": {
             "outlinewidth": 0,
             "ticks": ""
            },
            "colorscale": [
             [
              0,
              "#0d0887"
             ],
             [
              0.1111111111111111,
              "#46039f"
             ],
             [
              0.2222222222222222,
              "#7201a8"
             ],
             [
              0.3333333333333333,
              "#9c179e"
             ],
             [
              0.4444444444444444,
              "#bd3786"
             ],
             [
              0.5555555555555556,
              "#d8576b"
             ],
             [
              0.6666666666666666,
              "#ed7953"
             ],
             [
              0.7777777777777778,
              "#fb9f3a"
             ],
             [
              0.8888888888888888,
              "#fdca26"
             ],
             [
              1,
              "#f0f921"
             ]
            ],
            "type": "contour"
           }
          ],
          "contourcarpet": [
           {
            "colorbar": {
             "outlinewidth": 0,
             "ticks": ""
            },
            "type": "contourcarpet"
           }
          ],
          "heatmap": [
           {
            "colorbar": {
             "outlinewidth": 0,
             "ticks": ""
            },
            "colorscale": [
             [
              0,
              "#0d0887"
             ],
             [
              0.1111111111111111,
              "#46039f"
             ],
             [
              0.2222222222222222,
              "#7201a8"
             ],
             [
              0.3333333333333333,
              "#9c179e"
             ],
             [
              0.4444444444444444,
              "#bd3786"
             ],
             [
              0.5555555555555556,
              "#d8576b"
             ],
             [
              0.6666666666666666,
              "#ed7953"
             ],
             [
              0.7777777777777778,
              "#fb9f3a"
             ],
             [
              0.8888888888888888,
              "#fdca26"
             ],
             [
              1,
              "#f0f921"
             ]
            ],
            "type": "heatmap"
           }
          ],
          "heatmapgl": [
           {
            "colorbar": {
             "outlinewidth": 0,
             "ticks": ""
            },
            "colorscale": [
             [
              0,
              "#0d0887"
             ],
             [
              0.1111111111111111,
              "#46039f"
             ],
             [
              0.2222222222222222,
              "#7201a8"
             ],
             [
              0.3333333333333333,
              "#9c179e"
             ],
             [
              0.4444444444444444,
              "#bd3786"
             ],
             [
              0.5555555555555556,
              "#d8576b"
             ],
             [
              0.6666666666666666,
              "#ed7953"
             ],
             [
              0.7777777777777778,
              "#fb9f3a"
             ],
             [
              0.8888888888888888,
              "#fdca26"
             ],
             [
              1,
              "#f0f921"
             ]
            ],
            "type": "heatmapgl"
           }
          ],
          "histogram": [
           {
            "marker": {
             "pattern": {
              "fillmode": "overlay",
              "size": 10,
              "solidity": 0.2
             }
            },
            "type": "histogram"
           }
          ],
          "histogram2d": [
           {
            "colorbar": {
             "outlinewidth": 0,
             "ticks": ""
            },
            "colorscale": [
             [
              0,
              "#0d0887"
             ],
             [
              0.1111111111111111,
              "#46039f"
             ],
             [
              0.2222222222222222,
              "#7201a8"
             ],
             [
              0.3333333333333333,
              "#9c179e"
             ],
             [
              0.4444444444444444,
              "#bd3786"
             ],
             [
              0.5555555555555556,
              "#d8576b"
             ],
             [
              0.6666666666666666,
              "#ed7953"
             ],
             [
              0.7777777777777778,
              "#fb9f3a"
             ],
             [
              0.8888888888888888,
              "#fdca26"
             ],
             [
              1,
              "#f0f921"
             ]
            ],
            "type": "histogram2d"
           }
          ],
          "histogram2dcontour": [
           {
            "colorbar": {
             "outlinewidth": 0,
             "ticks": ""
            },
            "colorscale": [
             [
              0,
              "#0d0887"
             ],
             [
              0.1111111111111111,
              "#46039f"
             ],
             [
              0.2222222222222222,
              "#7201a8"
             ],
             [
              0.3333333333333333,
              "#9c179e"
             ],
             [
              0.4444444444444444,
              "#bd3786"
             ],
             [
              0.5555555555555556,
              "#d8576b"
             ],
             [
              0.6666666666666666,
              "#ed7953"
             ],
             [
              0.7777777777777778,
              "#fb9f3a"
             ],
             [
              0.8888888888888888,
              "#fdca26"
             ],
             [
              1,
              "#f0f921"
             ]
            ],
            "type": "histogram2dcontour"
           }
          ],
          "mesh3d": [
           {
            "colorbar": {
             "outlinewidth": 0,
             "ticks": ""
            },
            "type": "mesh3d"
           }
          ],
          "parcoords": [
           {
            "line": {
             "colorbar": {
              "outlinewidth": 0,
              "ticks": ""
             }
            },
            "type": "parcoords"
           }
          ],
          "pie": [
           {
            "automargin": true,
            "type": "pie"
           }
          ],
          "scatter": [
           {
            "marker": {
             "colorbar": {
              "outlinewidth": 0,
              "ticks": ""
             }
            },
            "type": "scatter"
           }
          ],
          "scatter3d": [
           {
            "line": {
             "colorbar": {
              "outlinewidth": 0,
              "ticks": ""
             }
            },
            "marker": {
             "colorbar": {
              "outlinewidth": 0,
              "ticks": ""
             }
            },
            "type": "scatter3d"
           }
          ],
          "scattercarpet": [
           {
            "marker": {
             "colorbar": {
              "outlinewidth": 0,
              "ticks": ""
             }
            },
            "type": "scattercarpet"
           }
          ],
          "scattergeo": [
           {
            "marker": {
             "colorbar": {
              "outlinewidth": 0,
              "ticks": ""
             }
            },
            "type": "scattergeo"
           }
          ],
          "scattergl": [
           {
            "marker": {
             "colorbar": {
              "outlinewidth": 0,
              "ticks": ""
             }
            },
            "type": "scattergl"
           }
          ],
          "scattermapbox": [
           {
            "marker": {
             "colorbar": {
              "outlinewidth": 0,
              "ticks": ""
             }
            },
            "type": "scattermapbox"
           }
          ],
          "scatterpolar": [
           {
            "marker": {
             "colorbar": {
              "outlinewidth": 0,
              "ticks": ""
             }
            },
            "type": "scatterpolar"
           }
          ],
          "scatterpolargl": [
           {
            "marker": {
             "colorbar": {
              "outlinewidth": 0,
              "ticks": ""
             }
            },
            "type": "scatterpolargl"
           }
          ],
          "scatterternary": [
           {
            "marker": {
             "colorbar": {
              "outlinewidth": 0,
              "ticks": ""
             }
            },
            "type": "scatterternary"
           }
          ],
          "surface": [
           {
            "colorbar": {
             "outlinewidth": 0,
             "ticks": ""
            },
            "colorscale": [
             [
              0,
              "#0d0887"
             ],
             [
              0.1111111111111111,
              "#46039f"
             ],
             [
              0.2222222222222222,
              "#7201a8"
             ],
             [
              0.3333333333333333,
              "#9c179e"
             ],
             [
              0.4444444444444444,
              "#bd3786"
             ],
             [
              0.5555555555555556,
              "#d8576b"
             ],
             [
              0.6666666666666666,
              "#ed7953"
             ],
             [
              0.7777777777777778,
              "#fb9f3a"
             ],
             [
              0.8888888888888888,
              "#fdca26"
             ],
             [
              1,
              "#f0f921"
             ]
            ],
            "type": "surface"
           }
          ],
          "table": [
           {
            "cells": {
             "fill": {
              "color": "#EBF0F8"
             },
             "line": {
              "color": "white"
             }
            },
            "header": {
             "fill": {
              "color": "#C8D4E3"
             },
             "line": {
              "color": "white"
             }
            },
            "type": "table"
           }
          ]
         },
         "layout": {
          "annotationdefaults": {
           "arrowcolor": "#2a3f5f",
           "arrowhead": 0,
           "arrowwidth": 1
          },
          "autotypenumbers": "strict",
          "coloraxis": {
           "colorbar": {
            "outlinewidth": 0,
            "ticks": ""
           }
          },
          "colorscale": {
           "diverging": [
            [
             0,
             "#8e0152"
            ],
            [
             0.1,
             "#c51b7d"
            ],
            [
             0.2,
             "#de77ae"
            ],
            [
             0.3,
             "#f1b6da"
            ],
            [
             0.4,
             "#fde0ef"
            ],
            [
             0.5,
             "#f7f7f7"
            ],
            [
             0.6,
             "#e6f5d0"
            ],
            [
             0.7,
             "#b8e186"
            ],
            [
             0.8,
             "#7fbc41"
            ],
            [
             0.9,
             "#4d9221"
            ],
            [
             1,
             "#276419"
            ]
           ],
           "sequential": [
            [
             0,
             "#0d0887"
            ],
            [
             0.1111111111111111,
             "#46039f"
            ],
            [
             0.2222222222222222,
             "#7201a8"
            ],
            [
             0.3333333333333333,
             "#9c179e"
            ],
            [
             0.4444444444444444,
             "#bd3786"
            ],
            [
             0.5555555555555556,
             "#d8576b"
            ],
            [
             0.6666666666666666,
             "#ed7953"
            ],
            [
             0.7777777777777778,
             "#fb9f3a"
            ],
            [
             0.8888888888888888,
             "#fdca26"
            ],
            [
             1,
             "#f0f921"
            ]
           ],
           "sequentialminus": [
            [
             0,
             "#0d0887"
            ],
            [
             0.1111111111111111,
             "#46039f"
            ],
            [
             0.2222222222222222,
             "#7201a8"
            ],
            [
             0.3333333333333333,
             "#9c179e"
            ],
            [
             0.4444444444444444,
             "#bd3786"
            ],
            [
             0.5555555555555556,
             "#d8576b"
            ],
            [
             0.6666666666666666,
             "#ed7953"
            ],
            [
             0.7777777777777778,
             "#fb9f3a"
            ],
            [
             0.8888888888888888,
             "#fdca26"
            ],
            [
             1,
             "#f0f921"
            ]
           ]
          },
          "colorway": [
           "#636efa",
           "#EF553B",
           "#00cc96",
           "#ab63fa",
           "#FFA15A",
           "#19d3f3",
           "#FF6692",
           "#B6E880",
           "#FF97FF",
           "#FECB52"
          ],
          "font": {
           "color": "#2a3f5f"
          },
          "geo": {
           "bgcolor": "white",
           "lakecolor": "white",
           "landcolor": "#E5ECF6",
           "showlakes": true,
           "showland": true,
           "subunitcolor": "white"
          },
          "hoverlabel": {
           "align": "left"
          },
          "hovermode": "closest",
          "mapbox": {
           "style": "light"
          },
          "paper_bgcolor": "white",
          "plot_bgcolor": "#E5ECF6",
          "polar": {
           "angularaxis": {
            "gridcolor": "white",
            "linecolor": "white",
            "ticks": ""
           },
           "bgcolor": "#E5ECF6",
           "radialaxis": {
            "gridcolor": "white",
            "linecolor": "white",
            "ticks": ""
           }
          },
          "scene": {
           "xaxis": {
            "backgroundcolor": "#E5ECF6",
            "gridcolor": "white",
            "gridwidth": 2,
            "linecolor": "white",
            "showbackground": true,
            "ticks": "",
            "zerolinecolor": "white"
           },
           "yaxis": {
            "backgroundcolor": "#E5ECF6",
            "gridcolor": "white",
            "gridwidth": 2,
            "linecolor": "white",
            "showbackground": true,
            "ticks": "",
            "zerolinecolor": "white"
           },
           "zaxis": {
            "backgroundcolor": "#E5ECF6",
            "gridcolor": "white",
            "gridwidth": 2,
            "linecolor": "white",
            "showbackground": true,
            "ticks": "",
            "zerolinecolor": "white"
           }
          },
          "shapedefaults": {
           "line": {
            "color": "#2a3f5f"
           }
          },
          "ternary": {
           "aaxis": {
            "gridcolor": "white",
            "linecolor": "white",
            "ticks": ""
           },
           "baxis": {
            "gridcolor": "white",
            "linecolor": "white",
            "ticks": ""
           },
           "bgcolor": "#E5ECF6",
           "caxis": {
            "gridcolor": "white",
            "linecolor": "white",
            "ticks": ""
           }
          },
          "title": {
           "x": 0.05
          },
          "xaxis": {
           "automargin": true,
           "gridcolor": "white",
           "linecolor": "white",
           "ticks": "",
           "title": {
            "standoff": 15
           },
           "zerolinecolor": "white",
           "zerolinewidth": 2
          },
          "yaxis": {
           "automargin": true,
           "gridcolor": "white",
           "linecolor": "white",
           "ticks": "",
           "title": {
            "standoff": 15
           },
           "zerolinecolor": "white",
           "zerolinewidth": 2
          }
         }
        },
        "title": {
         "font": {
          "color": "black",
          "size": 20
         },
         "text": "Top Neighborhood average house prices"
        },
        "xaxis": {
         "title": {
          "text": "Neighborhood"
         }
        },
        "yaxis": {
         "title": {
          "text": "Average Price"
         }
        }
       }
      },
      "text/html": [
       "<div>                            <div id=\"50441499-a390-4539-9837-6f1840d8bd85\" class=\"plotly-graph-div\" style=\"height:525px; width:100%;\"></div>            <script type=\"text/javascript\">                require([\"plotly\"], function(Plotly) {                    window.PLOTLYENV=window.PLOTLYENV || {};                                    if (document.getElementById(\"50441499-a390-4539-9837-6f1840d8bd85\")) {                    Plotly.newPlot(                        \"50441499-a390-4539-9837-6f1840d8bd85\",                        [{\"marker\":{\"color\":\"steelblue\"},\"name\":\"1 beds\",\"x\":[\"Orleans (Fallingbrook)\",\"Ottawa (Centre Town)\",\"Ottawa (Lower Town / Sandy Hill / University of Ottawa)\",\"Ottawa (West Downtown area)\",\"Ottawa West\"],\"y\":[419000.0,437024.0,400956.0,443671.0,394450.0],\"type\":\"bar\"},{\"marker\":{\"color\":\"turquoise\"},\"name\":\"2 beds\",\"x\":[\"Orleans (Fallingbrook)\",\"Ottawa (Centre Town)\",\"Ottawa (Lower Town / Sandy Hill / University of Ottawa)\",\"Ottawa (West Downtown area)\",\"Ottawa West\"],\"y\":[463510.0,730945.0,1121639.0,871597.0,863215.0],\"type\":\"bar\"},{\"marker\":{\"color\":\"aquamarine\"},\"name\":\"3 beds\",\"x\":[\"Orleans (Fallingbrook)\",\"Ottawa (Centre Town)\",\"Ottawa (Lower Town / Sandy Hill / University of Ottawa)\",\"Ottawa (West Downtown area)\",\"Ottawa West\"],\"y\":[637422.0,599000.0,1048436.0,739812.0,949022.0],\"type\":\"bar\"},{\"marker\":{\"color\":\"seagreen\"},\"name\":\"4 beds\",\"x\":[\"Orleans (Fallingbrook)\",\"Ottawa (Lower Town / Sandy Hill / University of Ottawa)\",\"Ottawa (West Downtown area)\",\"Ottawa West\"],\"y\":[835021.0,1289995.0,759900.0,1692611.0],\"type\":\"bar\"},{\"marker\":{\"color\":\"mediumturquoise\"},\"name\":\"5 beds\",\"x\":[\"Orleans (Fallingbrook)\",\"Ottawa (Centre Town)\",\"Ottawa (West Downtown area)\",\"Ottawa West\"],\"y\":[949646.0,1399500.0,624250.0,1100000.0],\"type\":\"bar\"},{\"marker\":{\"color\":\"mediumseagreen\"},\"name\":\"6 beds\",\"x\":[\"Orleans (Fallingbrook)\",\"Ottawa (West Downtown area)\",\"Ottawa West\"],\"y\":[974900.0,1250000.0,2995000.0],\"type\":\"bar\"},{\"marker\":{\"color\":\"green\"},\"name\":\"7 beds\",\"x\":[\"Ottawa (Lower Town / Sandy Hill / University of Ottawa)\",\"Ottawa (West Downtown area)\",\"Ottawa West\"],\"y\":[1500000.0,1199000.0,1999900.0],\"type\":\"bar\"}],                        {\"template\":{\"data\":{\"bar\":[{\"error_x\":{\"color\":\"#2a3f5f\"},\"error_y\":{\"color\":\"#2a3f5f\"},\"marker\":{\"line\":{\"color\":\"#E5ECF6\",\"width\":0.5},\"pattern\":{\"fillmode\":\"overlay\",\"size\":10,\"solidity\":0.2}},\"type\":\"bar\"}],\"barpolar\":[{\"marker\":{\"line\":{\"color\":\"#E5ECF6\",\"width\":0.5},\"pattern\":{\"fillmode\":\"overlay\",\"size\":10,\"solidity\":0.2}},\"type\":\"barpolar\"}],\"carpet\":[{\"aaxis\":{\"endlinecolor\":\"#2a3f5f\",\"gridcolor\":\"white\",\"linecolor\":\"white\",\"minorgridcolor\":\"white\",\"startlinecolor\":\"#2a3f5f\"},\"baxis\":{\"endlinecolor\":\"#2a3f5f\",\"gridcolor\":\"white\",\"linecolor\":\"white\",\"minorgridcolor\":\"white\",\"startlinecolor\":\"#2a3f5f\"},\"type\":\"carpet\"}],\"choropleth\":[{\"colorbar\":{\"outlinewidth\":0,\"ticks\":\"\"},\"type\":\"choropleth\"}],\"contour\":[{\"colorbar\":{\"outlinewidth\":0,\"ticks\":\"\"},\"colorscale\":[[0.0,\"#0d0887\"],[0.1111111111111111,\"#46039f\"],[0.2222222222222222,\"#7201a8\"],[0.3333333333333333,\"#9c179e\"],[0.4444444444444444,\"#bd3786\"],[0.5555555555555556,\"#d8576b\"],[0.6666666666666666,\"#ed7953\"],[0.7777777777777778,\"#fb9f3a\"],[0.8888888888888888,\"#fdca26\"],[1.0,\"#f0f921\"]],\"type\":\"contour\"}],\"contourcarpet\":[{\"colorbar\":{\"outlinewidth\":0,\"ticks\":\"\"},\"type\":\"contourcarpet\"}],\"heatmap\":[{\"colorbar\":{\"outlinewidth\":0,\"ticks\":\"\"},\"colorscale\":[[0.0,\"#0d0887\"],[0.1111111111111111,\"#46039f\"],[0.2222222222222222,\"#7201a8\"],[0.3333333333333333,\"#9c179e\"],[0.4444444444444444,\"#bd3786\"],[0.5555555555555556,\"#d8576b\"],[0.6666666666666666,\"#ed7953\"],[0.7777777777777778,\"#fb9f3a\"],[0.8888888888888888,\"#fdca26\"],[1.0,\"#f0f921\"]],\"type\":\"heatmap\"}],\"heatmapgl\":[{\"colorbar\":{\"outlinewidth\":0,\"ticks\":\"\"},\"colorscale\":[[0.0,\"#0d0887\"],[0.1111111111111111,\"#46039f\"],[0.2222222222222222,\"#7201a8\"],[0.3333333333333333,\"#9c179e\"],[0.4444444444444444,\"#bd3786\"],[0.5555555555555556,\"#d8576b\"],[0.6666666666666666,\"#ed7953\"],[0.7777777777777778,\"#fb9f3a\"],[0.8888888888888888,\"#fdca26\"],[1.0,\"#f0f921\"]],\"type\":\"heatmapgl\"}],\"histogram\":[{\"marker\":{\"pattern\":{\"fillmode\":\"overlay\",\"size\":10,\"solidity\":0.2}},\"type\":\"histogram\"}],\"histogram2d\":[{\"colorbar\":{\"outlinewidth\":0,\"ticks\":\"\"},\"colorscale\":[[0.0,\"#0d0887\"],[0.1111111111111111,\"#46039f\"],[0.2222222222222222,\"#7201a8\"],[0.3333333333333333,\"#9c179e\"],[0.4444444444444444,\"#bd3786\"],[0.5555555555555556,\"#d8576b\"],[0.6666666666666666,\"#ed7953\"],[0.7777777777777778,\"#fb9f3a\"],[0.8888888888888888,\"#fdca26\"],[1.0,\"#f0f921\"]],\"type\":\"histogram2d\"}],\"histogram2dcontour\":[{\"colorbar\":{\"outlinewidth\":0,\"ticks\":\"\"},\"colorscale\":[[0.0,\"#0d0887\"],[0.1111111111111111,\"#46039f\"],[0.2222222222222222,\"#7201a8\"],[0.3333333333333333,\"#9c179e\"],[0.4444444444444444,\"#bd3786\"],[0.5555555555555556,\"#d8576b\"],[0.6666666666666666,\"#ed7953\"],[0.7777777777777778,\"#fb9f3a\"],[0.8888888888888888,\"#fdca26\"],[1.0,\"#f0f921\"]],\"type\":\"histogram2dcontour\"}],\"mesh3d\":[{\"colorbar\":{\"outlinewidth\":0,\"ticks\":\"\"},\"type\":\"mesh3d\"}],\"parcoords\":[{\"line\":{\"colorbar\":{\"outlinewidth\":0,\"ticks\":\"\"}},\"type\":\"parcoords\"}],\"pie\":[{\"automargin\":true,\"type\":\"pie\"}],\"scatter\":[{\"marker\":{\"colorbar\":{\"outlinewidth\":0,\"ticks\":\"\"}},\"type\":\"scatter\"}],\"scatter3d\":[{\"line\":{\"colorbar\":{\"outlinewidth\":0,\"ticks\":\"\"}},\"marker\":{\"colorbar\":{\"outlinewidth\":0,\"ticks\":\"\"}},\"type\":\"scatter3d\"}],\"scattercarpet\":[{\"marker\":{\"colorbar\":{\"outlinewidth\":0,\"ticks\":\"\"}},\"type\":\"scattercarpet\"}],\"scattergeo\":[{\"marker\":{\"colorbar\":{\"outlinewidth\":0,\"ticks\":\"\"}},\"type\":\"scattergeo\"}],\"scattergl\":[{\"marker\":{\"colorbar\":{\"outlinewidth\":0,\"ticks\":\"\"}},\"type\":\"scattergl\"}],\"scattermapbox\":[{\"marker\":{\"colorbar\":{\"outlinewidth\":0,\"ticks\":\"\"}},\"type\":\"scattermapbox\"}],\"scatterpolar\":[{\"marker\":{\"colorbar\":{\"outlinewidth\":0,\"ticks\":\"\"}},\"type\":\"scatterpolar\"}],\"scatterpolargl\":[{\"marker\":{\"colorbar\":{\"outlinewidth\":0,\"ticks\":\"\"}},\"type\":\"scatterpolargl\"}],\"scatterternary\":[{\"marker\":{\"colorbar\":{\"outlinewidth\":0,\"ticks\":\"\"}},\"type\":\"scatterternary\"}],\"surface\":[{\"colorbar\":{\"outlinewidth\":0,\"ticks\":\"\"},\"colorscale\":[[0.0,\"#0d0887\"],[0.1111111111111111,\"#46039f\"],[0.2222222222222222,\"#7201a8\"],[0.3333333333333333,\"#9c179e\"],[0.4444444444444444,\"#bd3786\"],[0.5555555555555556,\"#d8576b\"],[0.6666666666666666,\"#ed7953\"],[0.7777777777777778,\"#fb9f3a\"],[0.8888888888888888,\"#fdca26\"],[1.0,\"#f0f921\"]],\"type\":\"surface\"}],\"table\":[{\"cells\":{\"fill\":{\"color\":\"#EBF0F8\"},\"line\":{\"color\":\"white\"}},\"header\":{\"fill\":{\"color\":\"#C8D4E3\"},\"line\":{\"color\":\"white\"}},\"type\":\"table\"}]},\"layout\":{\"annotationdefaults\":{\"arrowcolor\":\"#2a3f5f\",\"arrowhead\":0,\"arrowwidth\":1},\"autotypenumbers\":\"strict\",\"coloraxis\":{\"colorbar\":{\"outlinewidth\":0,\"ticks\":\"\"}},\"colorscale\":{\"diverging\":[[0,\"#8e0152\"],[0.1,\"#c51b7d\"],[0.2,\"#de77ae\"],[0.3,\"#f1b6da\"],[0.4,\"#fde0ef\"],[0.5,\"#f7f7f7\"],[0.6,\"#e6f5d0\"],[0.7,\"#b8e186\"],[0.8,\"#7fbc41\"],[0.9,\"#4d9221\"],[1,\"#276419\"]],\"sequential\":[[0.0,\"#0d0887\"],[0.1111111111111111,\"#46039f\"],[0.2222222222222222,\"#7201a8\"],[0.3333333333333333,\"#9c179e\"],[0.4444444444444444,\"#bd3786\"],[0.5555555555555556,\"#d8576b\"],[0.6666666666666666,\"#ed7953\"],[0.7777777777777778,\"#fb9f3a\"],[0.8888888888888888,\"#fdca26\"],[1.0,\"#f0f921\"]],\"sequentialminus\":[[0.0,\"#0d0887\"],[0.1111111111111111,\"#46039f\"],[0.2222222222222222,\"#7201a8\"],[0.3333333333333333,\"#9c179e\"],[0.4444444444444444,\"#bd3786\"],[0.5555555555555556,\"#d8576b\"],[0.6666666666666666,\"#ed7953\"],[0.7777777777777778,\"#fb9f3a\"],[0.8888888888888888,\"#fdca26\"],[1.0,\"#f0f921\"]]},\"colorway\":[\"#636efa\",\"#EF553B\",\"#00cc96\",\"#ab63fa\",\"#FFA15A\",\"#19d3f3\",\"#FF6692\",\"#B6E880\",\"#FF97FF\",\"#FECB52\"],\"font\":{\"color\":\"#2a3f5f\"},\"geo\":{\"bgcolor\":\"white\",\"lakecolor\":\"white\",\"landcolor\":\"#E5ECF6\",\"showlakes\":true,\"showland\":true,\"subunitcolor\":\"white\"},\"hoverlabel\":{\"align\":\"left\"},\"hovermode\":\"closest\",\"mapbox\":{\"style\":\"light\"},\"paper_bgcolor\":\"white\",\"plot_bgcolor\":\"#E5ECF6\",\"polar\":{\"angularaxis\":{\"gridcolor\":\"white\",\"linecolor\":\"white\",\"ticks\":\"\"},\"bgcolor\":\"#E5ECF6\",\"radialaxis\":{\"gridcolor\":\"white\",\"linecolor\":\"white\",\"ticks\":\"\"}},\"scene\":{\"xaxis\":{\"backgroundcolor\":\"#E5ECF6\",\"gridcolor\":\"white\",\"gridwidth\":2,\"linecolor\":\"white\",\"showbackground\":true,\"ticks\":\"\",\"zerolinecolor\":\"white\"},\"yaxis\":{\"backgroundcolor\":\"#E5ECF6\",\"gridcolor\":\"white\",\"gridwidth\":2,\"linecolor\":\"white\",\"showbackground\":true,\"ticks\":\"\",\"zerolinecolor\":\"white\"},\"zaxis\":{\"backgroundcolor\":\"#E5ECF6\",\"gridcolor\":\"white\",\"gridwidth\":2,\"linecolor\":\"white\",\"showbackground\":true,\"ticks\":\"\",\"zerolinecolor\":\"white\"}},\"shapedefaults\":{\"line\":{\"color\":\"#2a3f5f\"}},\"ternary\":{\"aaxis\":{\"gridcolor\":\"white\",\"linecolor\":\"white\",\"ticks\":\"\"},\"baxis\":{\"gridcolor\":\"white\",\"linecolor\":\"white\",\"ticks\":\"\"},\"bgcolor\":\"#E5ECF6\",\"caxis\":{\"gridcolor\":\"white\",\"linecolor\":\"white\",\"ticks\":\"\"}},\"title\":{\"x\":0.05},\"xaxis\":{\"automargin\":true,\"gridcolor\":\"white\",\"linecolor\":\"white\",\"ticks\":\"\",\"title\":{\"standoff\":15},\"zerolinecolor\":\"white\",\"zerolinewidth\":2},\"yaxis\":{\"automargin\":true,\"gridcolor\":\"white\",\"linecolor\":\"white\",\"ticks\":\"\",\"title\":{\"standoff\":15},\"zerolinecolor\":\"white\",\"zerolinewidth\":2}}},\"font\":{\"family\":\"Droid Sans\",\"color\":\"black\",\"size\":12},\"title\":{\"text\":\"Top Neighborhood average house prices\",\"font\":{\"size\":20,\"color\":\"black\"}},\"barmode\":\"group\",\"plot_bgcolor\":\"rgba(0,0,0,0)\",\"xaxis\":{\"title\":{\"text\":\"Neighborhood\"}},\"yaxis\":{\"title\":{\"text\":\"Average Price\"}}},                        {\"responsive\": true}                    ).then(function(){\n",
       "                            \n",
       "var gd = document.getElementById('50441499-a390-4539-9837-6f1840d8bd85');\n",
       "var x = new MutationObserver(function (mutations, observer) {{\n",
       "        var display = window.getComputedStyle(gd).display;\n",
       "        if (!display || display === 'none') {{\n",
       "            console.log([gd, 'removed!']);\n",
       "            Plotly.purge(gd);\n",
       "            observer.disconnect();\n",
       "        }}\n",
       "}});\n",
       "\n",
       "// Listen for the removal of the full notebook cells\n",
       "var notebookContainer = gd.closest('#notebook-container');\n",
       "if (notebookContainer) {{\n",
       "    x.observe(notebookContainer, {childList: true});\n",
       "}}\n",
       "\n",
       "// Listen for the clearing of the current output cell\n",
       "var outputEl = gd.closest('.output');\n",
       "if (outputEl) {{\n",
       "    x.observe(outputEl, {childList: true});\n",
       "}}\n",
       "\n",
       "                        })                };                });            </script>        </div>"
      ]
     },
     "metadata": {},
     "output_type": "display_data"
    }
   ],
   "source": [
    "#creating the graph\n",
    "import plotly.graph_objects as go\n",
    "\n",
    "beds = list(set([x[0] for x in avg_price_neighb.index]))\n",
    "colors = ['steelblue', 'turquoise', 'aquamarine', 'seagreen', 'mediumturquoise', 'mediumseagreen', 'green']\n",
    "\n",
    "fig = go.Figure()\n",
    "\n",
    "for b in beds:\n",
    "    fig.add_trace(go.Bar(\n",
    "        x=avg_price_neighb[b].index,\n",
    "        y=avg_price_neighb[b].values,\n",
    "        name= f'{b} beds',\n",
    "        marker_color=colors[b-1]\n",
    "    ))\n",
    "\n",
    "fig.update_layout(barmode='group',\n",
    "                 font_family='Droid Sans',\n",
    "                  title=\"Top Neighborhood average house prices\",\n",
    "                  title_font_size = 20,\n",
    "                  font_color ='black',\n",
    "                  font_size = 12,\n",
    "                  plot_bgcolor='rgba(0,0,0,0)',\n",
    "                  title_font_color= 'black',\n",
    "                  xaxis_title= 'Neighborhood',\n",
    "                  yaxis_title='Average Price')\n",
    "fig.show()\n"
   ]
  },
  {
   "cell_type": "markdown",
   "id": "c1ebb2f4",
   "metadata": {},
   "source": [
    "# The End!"
   ]
  }
 ],
 "metadata": {
  "kernelspec": {
   "display_name": "Python 3 (ipykernel)",
   "language": "python",
   "name": "python3"
  },
  "language_info": {
   "codemirror_mode": {
    "name": "ipython",
    "version": 3
   },
   "file_extension": ".py",
   "mimetype": "text/x-python",
   "name": "python",
   "nbconvert_exporter": "python",
   "pygments_lexer": "ipython3",
   "version": "3.9.12"
  }
 },
 "nbformat": 4,
 "nbformat_minor": 5
}
