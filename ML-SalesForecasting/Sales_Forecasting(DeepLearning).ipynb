{
 "cells": [
  {
   "cell_type": "markdown",
   "metadata": {
    "id": "iuXH51lpbwC9"
   },
   "source": [
    "***\n",
    "\n",
    "<h1><center> Deep learning Model for store sales forecasting </center></h1>\n",
    "<h2><center>Created by: Ginta Grinfelde</center></h2> \n",
    "\n",
    "***"
   ]
  },
  {
   "cell_type": "code",
   "execution_count": null,
   "metadata": {
    "id": "qT-3ZhRobnB8"
   },
   "outputs": [],
   "source": [
    "import pandas as pd\n",
    "import pandas.io.sql as psql\n",
    "import numpy as np\n",
    "from sklearn.model_selection import TimeSeriesSplit\n",
    "from sklearn.linear_model import LogisticRegression\n",
    "from sklearn.tree import DecisionTreeClassifier\n",
    "from sklearn.model_selection import train_test_split\n",
    "from sklearn.model_selection import cross_val_score\n",
    "from sklearn.metrics import classification_report\n",
    "import matplotlib.pyplot as plt\n",
    "%matplotlib inline\n",
    "from sklearn.preprocessing import StandardScaler, MinMaxScaler, RobustScaler\n",
    "import warnings\n",
    "warnings.filterwarnings('ignore')\n",
    "import seaborn as sns\n",
    "from sklearn.model_selection import KFold\n",
    "from sklearn.metrics import f1_score\n",
    "from imblearn.over_sampling import RandomOverSampler\n",
    "from sklearn.preprocessing import OneHotEncoder\n",
    "from sklearn.neighbors import KNeighborsClassifier\n",
    "from sklearn.model_selection import GridSearchCV\n",
    "from imblearn.over_sampling import RandomOverSampler\n",
    "from imblearn.pipeline import Pipeline \n",
    "from imblearn.pipeline import make_pipeline\n",
    "from sklearn.impute import SimpleImputer\n",
    "from sklearn import tree\n",
    "from sklearn.compose import ColumnTransformer\n",
    "from sklearn.preprocessing import OrdinalEncoder\n",
    "from sklearn.linear_model import LinearRegression\n",
    "from sklearn.metrics import mean_squared_error\n",
    "from sklearn.metrics import r2_score\n",
    "from sklearn.model_selection import TimeSeriesSplit\n",
    "from xgboost import XGBRegressor\n",
    "! pip install eli5\n",
    "import eli5\n",
    "from eli5.sklearn import PermutationImportance\n",
    "from sklearn.ensemble import VotingRegressor\n",
    "from sklearn.ensemble import RandomForestRegressor\n",
    "from sklearn.neighbors import KNeighborsRegressor\n",
    "from sklearn.ensemble import StackingRegressor\n",
    "import tensorflow as tf\n",
    "from tensorflow import keras\n",
    "from tensorflow.keras.datasets import fashion_mnist\n",
    "from tensorflow.keras.models import Sequential\n",
    "from tensorflow.keras.layers import Conv2D, MaxPooling2D, AveragePooling2D, Flatten, Dense, Dropout, Activation"
   ]
  },
  {
   "cell_type": "code",
   "execution_count": null,
   "metadata": {
    "id": "YTHN0cqQ0784"
   },
   "outputs": [],
   "source": [
    "!pip install tensorflow_addons\n",
    "from tensorflow_addons.metrics import RSquare"
   ]
  },
  {
   "cell_type": "markdown",
   "metadata": {
    "id": "Lf4Aom4Q6O5R"
   },
   "source": [
    "#### Setting up the data from the Jupyter notebook"
   ]
  },
  {
   "cell_type": "code",
   "execution_count": null,
   "metadata": {
    "colab": {
     "base_uri": "https://localhost:8080/",
     "height": 357
    },
    "id": "WXRhTJEAcyRE",
    "outputId": "73c39302-6944-4ab5-876e-34d5f2f7796a"
   },
   "outputs": [
    {
     "data": {
      "text/html": [
       "\n",
       "  <div id=\"df-68c5fd3c-ea1f-49c0-aecc-e6028d1c5079\">\n",
       "    <div class=\"colab-df-container\">\n",
       "      <div>\n",
       "<style scoped>\n",
       "    .dataframe tbody tr th:only-of-type {\n",
       "        vertical-align: middle;\n",
       "    }\n",
       "\n",
       "    .dataframe tbody tr th {\n",
       "        vertical-align: top;\n",
       "    }\n",
       "\n",
       "    .dataframe thead th {\n",
       "        text-align: right;\n",
       "    }\n",
       "</style>\n",
       "<table border=\"1\" class=\"dataframe\">\n",
       "  <thead>\n",
       "    <tr style=\"text-align: right;\">\n",
       "      <th></th>\n",
       "      <th>Store</th>\n",
       "      <th>DayOfWeek</th>\n",
       "      <th>Date</th>\n",
       "      <th>Sales</th>\n",
       "      <th>Customers</th>\n",
       "      <th>Open</th>\n",
       "      <th>Promo</th>\n",
       "      <th>StateHoliday</th>\n",
       "      <th>SchoolHoliday</th>\n",
       "      <th>StoreType</th>\n",
       "      <th>Assortment</th>\n",
       "      <th>CompetitionDistance</th>\n",
       "      <th>CompetitionOpenSinceMonth</th>\n",
       "      <th>CompetitionOpenSinceYear</th>\n",
       "      <th>Promo2</th>\n",
       "      <th>Promo2SinceWeek</th>\n",
       "      <th>Promo2SinceYear</th>\n",
       "      <th>PromoInterval</th>\n",
       "    </tr>\n",
       "  </thead>\n",
       "  <tbody>\n",
       "    <tr>\n",
       "      <th>0</th>\n",
       "      <td>1</td>\n",
       "      <td>5</td>\n",
       "      <td>2015-07-31</td>\n",
       "      <td>5263</td>\n",
       "      <td>555</td>\n",
       "      <td>1</td>\n",
       "      <td>1</td>\n",
       "      <td>0</td>\n",
       "      <td>1</td>\n",
       "      <td>c</td>\n",
       "      <td>a</td>\n",
       "      <td>1270.0</td>\n",
       "      <td>9.0</td>\n",
       "      <td>2008.0</td>\n",
       "      <td>0</td>\n",
       "      <td>NaN</td>\n",
       "      <td>NaN</td>\n",
       "      <td>NaN</td>\n",
       "    </tr>\n",
       "    <tr>\n",
       "      <th>1</th>\n",
       "      <td>2</td>\n",
       "      <td>5</td>\n",
       "      <td>2015-07-31</td>\n",
       "      <td>6064</td>\n",
       "      <td>625</td>\n",
       "      <td>1</td>\n",
       "      <td>1</td>\n",
       "      <td>0</td>\n",
       "      <td>1</td>\n",
       "      <td>a</td>\n",
       "      <td>a</td>\n",
       "      <td>570.0</td>\n",
       "      <td>11.0</td>\n",
       "      <td>2007.0</td>\n",
       "      <td>1</td>\n",
       "      <td>13.0</td>\n",
       "      <td>2010.0</td>\n",
       "      <td>Jan,Apr,Jul,Oct</td>\n",
       "    </tr>\n",
       "    <tr>\n",
       "      <th>2</th>\n",
       "      <td>3</td>\n",
       "      <td>5</td>\n",
       "      <td>2015-07-31</td>\n",
       "      <td>8314</td>\n",
       "      <td>821</td>\n",
       "      <td>1</td>\n",
       "      <td>1</td>\n",
       "      <td>0</td>\n",
       "      <td>1</td>\n",
       "      <td>a</td>\n",
       "      <td>a</td>\n",
       "      <td>14130.0</td>\n",
       "      <td>12.0</td>\n",
       "      <td>2006.0</td>\n",
       "      <td>1</td>\n",
       "      <td>14.0</td>\n",
       "      <td>2011.0</td>\n",
       "      <td>Jan,Apr,Jul,Oct</td>\n",
       "    </tr>\n",
       "    <tr>\n",
       "      <th>3</th>\n",
       "      <td>4</td>\n",
       "      <td>5</td>\n",
       "      <td>2015-07-31</td>\n",
       "      <td>13995</td>\n",
       "      <td>1498</td>\n",
       "      <td>1</td>\n",
       "      <td>1</td>\n",
       "      <td>0</td>\n",
       "      <td>1</td>\n",
       "      <td>c</td>\n",
       "      <td>c</td>\n",
       "      <td>620.0</td>\n",
       "      <td>9.0</td>\n",
       "      <td>2009.0</td>\n",
       "      <td>0</td>\n",
       "      <td>NaN</td>\n",
       "      <td>NaN</td>\n",
       "      <td>NaN</td>\n",
       "    </tr>\n",
       "    <tr>\n",
       "      <th>4</th>\n",
       "      <td>5</td>\n",
       "      <td>5</td>\n",
       "      <td>2015-07-31</td>\n",
       "      <td>4822</td>\n",
       "      <td>559</td>\n",
       "      <td>1</td>\n",
       "      <td>1</td>\n",
       "      <td>0</td>\n",
       "      <td>1</td>\n",
       "      <td>a</td>\n",
       "      <td>a</td>\n",
       "      <td>29910.0</td>\n",
       "      <td>4.0</td>\n",
       "      <td>2015.0</td>\n",
       "      <td>0</td>\n",
       "      <td>NaN</td>\n",
       "      <td>NaN</td>\n",
       "      <td>NaN</td>\n",
       "    </tr>\n",
       "  </tbody>\n",
       "</table>\n",
       "</div>\n",
       "      <button class=\"colab-df-convert\" onclick=\"convertToInteractive('df-68c5fd3c-ea1f-49c0-aecc-e6028d1c5079')\"\n",
       "              title=\"Convert this dataframe to an interactive table.\"\n",
       "              style=\"display:none;\">\n",
       "        \n",
       "  <svg xmlns=\"http://www.w3.org/2000/svg\" height=\"24px\"viewBox=\"0 0 24 24\"\n",
       "       width=\"24px\">\n",
       "    <path d=\"M0 0h24v24H0V0z\" fill=\"none\"/>\n",
       "    <path d=\"M18.56 5.44l.94 2.06.94-2.06 2.06-.94-2.06-.94-.94-2.06-.94 2.06-2.06.94zm-11 1L8.5 8.5l.94-2.06 2.06-.94-2.06-.94L8.5 2.5l-.94 2.06-2.06.94zm10 10l.94 2.06.94-2.06 2.06-.94-2.06-.94-.94-2.06-.94 2.06-2.06.94z\"/><path d=\"M17.41 7.96l-1.37-1.37c-.4-.4-.92-.59-1.43-.59-.52 0-1.04.2-1.43.59L10.3 9.45l-7.72 7.72c-.78.78-.78 2.05 0 2.83L4 21.41c.39.39.9.59 1.41.59.51 0 1.02-.2 1.41-.59l7.78-7.78 2.81-2.81c.8-.78.8-2.07 0-2.86zM5.41 20L4 18.59l7.72-7.72 1.47 1.35L5.41 20z\"/>\n",
       "  </svg>\n",
       "      </button>\n",
       "      \n",
       "  <style>\n",
       "    .colab-df-container {\n",
       "      display:flex;\n",
       "      flex-wrap:wrap;\n",
       "      gap: 12px;\n",
       "    }\n",
       "\n",
       "    .colab-df-convert {\n",
       "      background-color: #E8F0FE;\n",
       "      border: none;\n",
       "      border-radius: 50%;\n",
       "      cursor: pointer;\n",
       "      display: none;\n",
       "      fill: #1967D2;\n",
       "      height: 32px;\n",
       "      padding: 0 0 0 0;\n",
       "      width: 32px;\n",
       "    }\n",
       "\n",
       "    .colab-df-convert:hover {\n",
       "      background-color: #E2EBFA;\n",
       "      box-shadow: 0px 1px 2px rgba(60, 64, 67, 0.3), 0px 1px 3px 1px rgba(60, 64, 67, 0.15);\n",
       "      fill: #174EA6;\n",
       "    }\n",
       "\n",
       "    [theme=dark] .colab-df-convert {\n",
       "      background-color: #3B4455;\n",
       "      fill: #D2E3FC;\n",
       "    }\n",
       "\n",
       "    [theme=dark] .colab-df-convert:hover {\n",
       "      background-color: #434B5C;\n",
       "      box-shadow: 0px 1px 3px 1px rgba(0, 0, 0, 0.15);\n",
       "      filter: drop-shadow(0px 1px 2px rgba(0, 0, 0, 0.3));\n",
       "      fill: #FFFFFF;\n",
       "    }\n",
       "  </style>\n",
       "\n",
       "      <script>\n",
       "        const buttonEl =\n",
       "          document.querySelector('#df-68c5fd3c-ea1f-49c0-aecc-e6028d1c5079 button.colab-df-convert');\n",
       "        buttonEl.style.display =\n",
       "          google.colab.kernel.accessAllowed ? 'block' : 'none';\n",
       "\n",
       "        async function convertToInteractive(key) {\n",
       "          const element = document.querySelector('#df-68c5fd3c-ea1f-49c0-aecc-e6028d1c5079');\n",
       "          const dataTable =\n",
       "            await google.colab.kernel.invokeFunction('convertToInteractive',\n",
       "                                                     [key], {});\n",
       "          if (!dataTable) return;\n",
       "\n",
       "          const docLinkHtml = 'Like what you see? Visit the ' +\n",
       "            '<a target=\"_blank\" href=https://colab.research.google.com/notebooks/data_table.ipynb>data table notebook</a>'\n",
       "            + ' to learn more about interactive tables.';\n",
       "          element.innerHTML = '';\n",
       "          dataTable['output_type'] = 'display_data';\n",
       "          await google.colab.output.renderOutput(dataTable, element);\n",
       "          const docLink = document.createElement('div');\n",
       "          docLink.innerHTML = docLinkHtml;\n",
       "          element.appendChild(docLink);\n",
       "        }\n",
       "      </script>\n",
       "    </div>\n",
       "  </div>\n",
       "  "
      ],
      "text/plain": [
       "   Store  DayOfWeek        Date  Sales  Customers  Open  Promo StateHoliday  \\\n",
       "0      1          5  2015-07-31   5263        555     1      1            0   \n",
       "1      2          5  2015-07-31   6064        625     1      1            0   \n",
       "2      3          5  2015-07-31   8314        821     1      1            0   \n",
       "3      4          5  2015-07-31  13995       1498     1      1            0   \n",
       "4      5          5  2015-07-31   4822        559     1      1            0   \n",
       "\n",
       "   SchoolHoliday StoreType Assortment  CompetitionDistance  \\\n",
       "0              1         c          a               1270.0   \n",
       "1              1         a          a                570.0   \n",
       "2              1         a          a              14130.0   \n",
       "3              1         c          c                620.0   \n",
       "4              1         a          a              29910.0   \n",
       "\n",
       "   CompetitionOpenSinceMonth  CompetitionOpenSinceYear  Promo2  \\\n",
       "0                        9.0                    2008.0       0   \n",
       "1                       11.0                    2007.0       1   \n",
       "2                       12.0                    2006.0       1   \n",
       "3                        9.0                    2009.0       0   \n",
       "4                        4.0                    2015.0       0   \n",
       "\n",
       "   Promo2SinceWeek  Promo2SinceYear    PromoInterval  \n",
       "0              NaN              NaN              NaN  \n",
       "1             13.0           2010.0  Jan,Apr,Jul,Oct  \n",
       "2             14.0           2011.0  Jan,Apr,Jul,Oct  \n",
       "3              NaN              NaN              NaN  \n",
       "4              NaN              NaN              NaN  "
      ]
     },
     "execution_count": 6,
     "metadata": {},
     "output_type": "execute_result"
    }
   ],
   "source": [
    "df_r = pd.read_csv('/content/drive/MyDrive/rossman.csv')\n",
    "df_s = pd.read_csv('/content/drive/MyDrive/store.csv')\n",
    "df = df_r.merge(df_s, on='Store', how='left')\n",
    "df.head()"
   ]
  },
  {
   "cell_type": "markdown",
   "metadata": {
    "id": "Xn3QIdSh6bOC"
   },
   "source": [
    "#### Transforming the data\n"
   ]
  },
  {
   "cell_type": "code",
   "execution_count": null,
   "metadata": {
    "id": "mMs7M9ZgdrKE"
   },
   "outputs": [],
   "source": [
    "df['Date'] = pd.to_datetime(df['Date'])"
   ]
  },
  {
   "cell_type": "code",
   "execution_count": null,
   "metadata": {
    "id": "ZWQHoIjZd_fi"
   },
   "outputs": [],
   "source": [
    "\n",
    "df['Date_i'] = df['Date']\n",
    "df.set_index('Date_i', inplace=True)\n",
    "df.sort_index(inplace=True)\n",
    "df_train = df[df.index < '2015-05-01']\n",
    "df_valid = df[df.index >= '2015-05-01']\n",
    "df_full = [df_train, df_valid]"
   ]
  },
  {
   "cell_type": "code",
   "execution_count": null,
   "metadata": {
    "id": "jd7g3LW7ec_3"
   },
   "outputs": [],
   "source": [
    "sunday_sales = df[(df['DayOfWeek'] == 7) & (df['Sales'] > 0)]\n",
    "store_list = sunday_sales['Store'].to_list()\n",
    "\n",
    "for x in df_full:\n",
    "    x['StateHoliday'] = x['StateHoliday'].replace(0, str(0))\n",
    "    x['StateHoliday'] = x['StateHoliday'].astype(str)\n",
    "\n",
    "\n",
    "    x['OpenSundays'] = x['Store'].isin(store_list).astype(int)\n",
    "\n",
    "    x['Month'] = x['Date'].dt.month\n",
    "\n",
    "    x['Weekend_weekday'] = x['DayOfWeek'].apply(lambda x: 'Weekday' if x<6 else 'Weekend')\n"
   ]
  },
  {
   "cell_type": "code",
   "execution_count": null,
   "metadata": {
    "id": "bdF2wzGGex5U"
   },
   "outputs": [],
   "source": [
    "df_train['Christmas'] = ['2013-12-25' if d ==2013 else ('2014-12-25' if d == 2014 else '2015-12-25') for d in df_train['Date'].dt.year]\n",
    "df_valid['Christmas'] = ['2013-12-25' if d ==2013 else ('2014-12-25' if d == 2014 else '2015-12-25') for d in df_valid['Date'].dt.year]\n",
    "df_train['Christmas'] = pd.to_datetime(df_train['Christmas'])\n",
    "df_valid['Christmas'] = pd.to_datetime(df_valid['Christmas'])\n",
    "\n",
    "for x in df_full:\n",
    "    x['Days_to_Christmas'] = x['Date'] - x['Christmas']\n",
    "    x['Days_to_Christmas'] = x['Days_to_Christmas'].astype(str).str.replace('days', '').astype(int).abs()"
   ]
  },
  {
   "cell_type": "code",
   "execution_count": null,
   "metadata": {
    "id": "UBPXQGw7f1qC"
   },
   "outputs": [],
   "source": [
    "\n",
    "store_ranking = df.groupby('Store')['Sales'].mean().sort_values(ascending=False).rank(ascending=False).to_dict()\n",
    "for x in df_full:\n",
    "    x['Rank'] = [int(store_ranking[r]) for r in x['Store']]"
   ]
  },
  {
   "cell_type": "code",
   "execution_count": null,
   "metadata": {
    "id": "EtYr-65pgLap"
   },
   "outputs": [],
   "source": [
    "\n",
    "X_train = df_train.drop(columns='Sales')\n",
    "y_train = df_train['Sales']\n",
    "\n",
    "X_valid = df_valid.drop(columns='Sales')\n",
    "y_valid = df_valid['Sales']"
   ]
  },
  {
   "cell_type": "markdown",
   "metadata": {
    "id": "PU2mC0ALjBwo"
   },
   "source": [
    "# Deep Learning"
   ]
  },
  {
   "cell_type": "code",
   "execution_count": null,
   "metadata": {
    "id": "jQFgk_SatI8k"
   },
   "outputs": [],
   "source": [
    "# Setting up the pipeline and column transformers\n",
    "drop = ['Promo2SinceWeek', 'Promo2SinceYear', 'Christmas', 'Date', 'Customers',\\\n",
    "        'Month','Weekend_weekday']\n",
    "\n",
    "ohe_features = ['StateHoliday', 'StoreType', 'Assortment', 'PromoInterval']\n",
    "\n",
    "numerical_features = ['Store', 'CompetitionOpenSinceMonth', 'CompetitionOpenSinceYear', 'DayOfWeek', \\\n",
    "                      'SchoolHoliday' , 'Open', 'Promo', 'CompetitionDistance',\\\n",
    "                   'Promo2', 'OpenSundays', 'Days_to_Christmas', 'Rank'] \n",
    "\n",
    "numeric_pipeline = Pipeline(steps=[('impute', SimpleImputer(strategy='mean')),\n",
    "                                  ('scaler', StandardScaler())])\n",
    "\n",
    "categoric_pipeline = Pipeline(steps=[('cat_imp', SimpleImputer(strategy='constant', fill_value='0')),\n",
    "                                     ('ohe', OneHotEncoder())])\n",
    "\n",
    "transformers  = [('drop_columns', 'drop', drop),\n",
    "                ('num_pipeline', numeric_pipeline, numerical_features),\n",
    "                ('cat', categoric_pipeline, ohe_features)]\n",
    "                    \n",
    "preprocessing = ColumnTransformer(transformers=transformers, remainder='passthrough', n_jobs=-1)\n",
    "\n",
    "\n",
    "preprocessing.fit(X_train)\n",
    "\n",
    "# Apply the transformation\n",
    "X_train = pd.DataFrame(preprocessing.transform(X_train))\n",
    "X_valid = pd.DataFrame(preprocessing.transform(X_valid))"
   ]
  },
  {
   "cell_type": "markdown",
   "metadata": {
    "id": "Cn4fIcwZ6uJn"
   },
   "source": [
    "#### Deep Learning model\n",
    "\n",
    "I chose to have 3 hidden layers and again look at the MSE loss and the r2 metrics"
   ]
  },
  {
   "cell_type": "code",
   "execution_count": null,
   "metadata": {
    "colab": {
     "base_uri": "https://localhost:8080/"
    },
    "id": "K-DcKL4TjKMY",
    "outputId": "fa2e413e-733c-43c2-f7bf-1e3ee96f32a9"
   },
   "outputs": [
    {
     "name": "stdout",
     "output_type": "stream",
     "text": [
      "Model: \"sequential\"\n",
      "_________________________________________________________________\n",
      " Layer (type)                Output Shape              Param #   \n",
      "=================================================================\n",
      " dense (Dense)               (None, 256)               7168      \n",
      "                                                                 \n",
      " dense_1 (Dense)             (None, 256)               65792     \n",
      "                                                                 \n",
      " dense_2 (Dense)             (None, 128)               32896     \n",
      "                                                                 \n",
      " dense_3 (Dense)             (None, 1)                 129       \n",
      "                                                                 \n",
      "=================================================================\n",
      "Total params: 105,985\n",
      "Trainable params: 105,985\n",
      "Non-trainable params: 0\n",
      "_________________________________________________________________\n"
     ]
    }
   ],
   "source": [
    "model = Sequential()\n",
    "model.add(Dense(256, input_shape=(27,), activation='relu'))\n",
    "model.add(Dense(256, activation='relu'))\n",
    "model.add(Dense(128, activation='relu'))\n",
    "model.add(Dense(1, activation='relu'))\n",
    "\n",
    "\n",
    "model.compile(loss='mean_squared_error', optimizer='adam', metrics=[RSquare()])\n",
    "model.summary()"
   ]
  },
  {
   "cell_type": "code",
   "execution_count": null,
   "metadata": {
    "colab": {
     "base_uri": "https://localhost:8080/"
    },
    "id": "YTlnEwiCkYa3",
    "outputId": "88c06ee6-ef5f-4fc6-b3d1-932412c9874c"
   },
   "outputs": [
    {
     "name": "stdout",
     "output_type": "stream",
     "text": [
      "Epoch 1/50\n",
      "28583/28583 [==============================] - 91s 3ms/step - loss: 1759969.2500 - r_square: 0.8808\n",
      "Epoch 2/50\n",
      "28583/28583 [==============================] - 87s 3ms/step - loss: 1254508.7500 - r_square: 0.9150\n",
      "Epoch 3/50\n",
      "28583/28583 [==============================] - 88s 3ms/step - loss: 1161025.1250 - r_square: 0.9214\n",
      "Epoch 4/50\n",
      "28583/28583 [==============================] - 88s 3ms/step - loss: 1108746.2500 - r_square: 0.9249\n",
      "Epoch 5/50\n",
      "28583/28583 [==============================] - 86s 3ms/step - loss: 1071746.2500 - r_square: 0.9274\n",
      "Epoch 6/50\n",
      "28583/28583 [==============================] - 87s 3ms/step - loss: 1043226.5000 - r_square: 0.9293\n",
      "Epoch 7/50\n",
      "28583/28583 [==============================] - 86s 3ms/step - loss: 1022595.0000 - r_square: 0.9307\n",
      "Epoch 8/50\n",
      "28583/28583 [==============================] - 85s 3ms/step - loss: 1003198.1250 - r_square: 0.9321\n",
      "Epoch 9/50\n",
      "28583/28583 [==============================] - 84s 3ms/step - loss: 987087.8125 - r_square: 0.9331\n",
      "Epoch 10/50\n",
      "28583/28583 [==============================] - 87s 3ms/step - loss: 973270.9375 - r_square: 0.9341\n",
      "Epoch 11/50\n",
      "28583/28583 [==============================] - 84s 3ms/step - loss: 961449.0000 - r_square: 0.9349\n",
      "Epoch 12/50\n",
      "28583/28583 [==============================] - 84s 3ms/step - loss: 949624.7500 - r_square: 0.9357\n",
      "Epoch 13/50\n",
      "28583/28583 [==============================] - 86s 3ms/step - loss: 939950.6875 - r_square: 0.9363\n",
      "Epoch 14/50\n",
      "28583/28583 [==============================] - 84s 3ms/step - loss: 930013.3125 - r_square: 0.9370\n",
      "Epoch 15/50\n",
      "28583/28583 [==============================] - 83s 3ms/step - loss: 920511.1875 - r_square: 0.9377\n",
      "Epoch 16/50\n",
      "28583/28583 [==============================] - 84s 3ms/step - loss: 912649.8125 - r_square: 0.9382\n",
      "Epoch 17/50\n",
      "28583/28583 [==============================] - 85s 3ms/step - loss: 904294.4375 - r_square: 0.9388\n",
      "Epoch 18/50\n",
      "28583/28583 [==============================] - 83s 3ms/step - loss: 898457.2500 - r_square: 0.9391\n",
      "Epoch 19/50\n",
      "28583/28583 [==============================] - 84s 3ms/step - loss: 891125.1875 - r_square: 0.9396\n",
      "Epoch 20/50\n",
      "28583/28583 [==============================] - 84s 3ms/step - loss: 884664.0000 - r_square: 0.9401\n",
      "Epoch 21/50\n",
      "28583/28583 [==============================] - 83s 3ms/step - loss: 877206.5625 - r_square: 0.9406\n",
      "Epoch 22/50\n",
      "28583/28583 [==============================] - 84s 3ms/step - loss: 871375.3750 - r_square: 0.9410\n",
      "Epoch 23/50\n",
      "28583/28583 [==============================] - 83s 3ms/step - loss: 867022.9375 - r_square: 0.9413\n",
      "Epoch 24/50\n",
      "28583/28583 [==============================] - 82s 3ms/step - loss: 860207.9375 - r_square: 0.9417\n",
      "Epoch 25/50\n",
      "28583/28583 [==============================] - 83s 3ms/step - loss: 855613.3750 - r_square: 0.9420\n",
      "Epoch 26/50\n",
      "28583/28583 [==============================] - 84s 3ms/step - loss: 850026.9375 - r_square: 0.9424\n",
      "Epoch 27/50\n",
      "28583/28583 [==============================] - 82s 3ms/step - loss: 846900.7500 - r_square: 0.9426\n",
      "Epoch 28/50\n",
      "28583/28583 [==============================] - 82s 3ms/step - loss: 842028.3125 - r_square: 0.9430\n",
      "Epoch 29/50\n",
      "28583/28583 [==============================] - 84s 3ms/step - loss: 838304.1250 - r_square: 0.9432\n",
      "Epoch 30/50\n",
      "28583/28583 [==============================] - 81s 3ms/step - loss: 835125.3750 - r_square: 0.9434\n",
      "Epoch 31/50\n",
      "28583/28583 [==============================] - 82s 3ms/step - loss: 831428.1250 - r_square: 0.9437\n",
      "Epoch 32/50\n",
      "28583/28583 [==============================] - 84s 3ms/step - loss: 827543.3125 - r_square: 0.9440\n",
      "Epoch 33/50\n",
      "28583/28583 [==============================] - 82s 3ms/step - loss: 824365.7500 - r_square: 0.9442\n",
      "Epoch 34/50\n",
      "28583/28583 [==============================] - 81s 3ms/step - loss: 820707.8125 - r_square: 0.9444\n",
      "Epoch 35/50\n",
      "28583/28583 [==============================] - 83s 3ms/step - loss: 818544.9375 - r_square: 0.9446\n",
      "Epoch 36/50\n",
      "28583/28583 [==============================] - 81s 3ms/step - loss: 815905.8750 - r_square: 0.9447\n",
      "Epoch 37/50\n",
      "28583/28583 [==============================] - 82s 3ms/step - loss: 813048.3750 - r_square: 0.9449\n",
      "Epoch 38/50\n",
      "28583/28583 [==============================] - 89s 3ms/step - loss: 810521.2500 - r_square: 0.9451\n",
      "Epoch 39/50\n",
      "28583/28583 [==============================] - 81s 3ms/step - loss: 807799.3125 - r_square: 0.9453\n",
      "Epoch 40/50\n",
      "28583/28583 [==============================] - 83s 3ms/step - loss: 805486.4375 - r_square: 0.9454\n",
      "Epoch 41/50\n",
      "28583/28583 [==============================] - 82s 3ms/step - loss: 803118.6875 - r_square: 0.9456\n",
      "Epoch 42/50\n",
      "28583/28583 [==============================] - 81s 3ms/step - loss: 799783.6250 - r_square: 0.9458\n",
      "Epoch 43/50\n",
      "28583/28583 [==============================] - 82s 3ms/step - loss: 797443.1250 - r_square: 0.9460\n",
      "Epoch 44/50\n",
      "28583/28583 [==============================] - 83s 3ms/step - loss: 796639.6875 - r_square: 0.9460\n",
      "Epoch 45/50\n",
      "28583/28583 [==============================] - 82s 3ms/step - loss: 794256.1875 - r_square: 0.9462\n",
      "Epoch 46/50\n",
      "28583/28583 [==============================] - 83s 3ms/step - loss: 792662.4375 - r_square: 0.9463\n",
      "Epoch 47/50\n",
      "28583/28583 [==============================] - 82s 3ms/step - loss: 789998.8125 - r_square: 0.9465\n",
      "Epoch 48/50\n",
      "28583/28583 [==============================] - 82s 3ms/step - loss: 787227.8750 - r_square: 0.9467\n",
      "Epoch 49/50\n",
      "28583/28583 [==============================] - 85s 3ms/step - loss: 786068.0000 - r_square: 0.9468\n",
      "Epoch 50/50\n",
      "28583/28583 [==============================] - 82s 3ms/step - loss: 784050.0625 - r_square: 0.9469\n"
     ]
    }
   ],
   "source": [
    "#fitting the data\n",
    "history = model.fit(X_train, y_train, epochs=50)"
   ]
  },
  {
   "cell_type": "markdown",
   "metadata": {
    "id": "DBFwBdDA63af"
   },
   "source": [
    "The below graph shows that the loss decreases and then stabilizes while the r2 score does not change a lot."
   ]
  },
  {
   "cell_type": "code",
   "execution_count": null,
   "metadata": {
    "colab": {
     "base_uri": "https://localhost:8080/",
     "height": 276
    },
    "id": "1forddsZR6nX",
    "outputId": "621912d9-e99c-4061-e16f-f1f5e3b521f7"
   },
   "outputs": [
    {
     "data": {
      "image/png": "[encoded data removed]",
      "text/plain": [
       "<Figure size 432x288 with 1 Axes>"
      ]
     },
     "metadata": {
      "needs_background": "light"
     },
     "output_type": "display_data"
    }
   ],
   "source": [
    "pd.DataFrame(history.history).plot();"
   ]
  },
  {
   "cell_type": "markdown",
   "metadata": {
    "id": "6C4tO5BZ7DCK"
   },
   "source": [
    "# Final Model evaluation\n",
    "\n",
    "The score for the test set is 0.929 which is lower than my other stacked model\n"
   ]
  },
  {
   "cell_type": "code",
   "execution_count": null,
   "metadata": {
    "colab": {
     "base_uri": "https://localhost:8080/"
    },
    "id": "bMoX4LjKkkmq",
    "outputId": "2e62e1e4-f7d1-4eb6-d162-165b250d4729"
   },
   "outputs": [
    {
     "name": "stdout",
     "output_type": "stream",
     "text": [
      "Test MSE: 1084940.625\n",
      "Test r2: 0.929\n"
     ]
    }
   ],
   "source": [
    "mse, r2 = model.evaluate(X_valid, y_valid, verbose=0)\n",
    "print('Test MSE: %.3f' % mse)\n",
    "print('Test r2: %.3f' % r2)"
   ]
  }
 ],
 "metadata": {
  "accelerator": "GPU",
  "colab": {
   "provenance": []
  },
  "gpuClass": "standard",
  "kernelspec": {
   "display_name": "Python 3 (ipykernel)",
   "language": "python",
   "name": "python3"
  },
  "language_info": {
   "codemirror_mode": {
    "name": "ipython",
    "version": 3
   },
   "file_extension": ".py",
   "mimetype": "text/x-python",
   "name": "python",
   "nbconvert_exporter": "python",
   "pygments_lexer": "ipython3",
   "version": "3.9.12"
  }
 },
 "nbformat": 4,
 "nbformat_minor": 1
}
